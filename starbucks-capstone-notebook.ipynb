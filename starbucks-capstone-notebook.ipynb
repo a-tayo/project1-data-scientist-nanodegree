{
 "cells": [
  {
   "cell_type": "markdown",
   "id": "39bb85b8",
   "metadata": {
    "papermill": {
     "duration": 0.02446,
     "end_time": "2022-07-30T07:41:03.995430",
     "exception": false,
     "start_time": "2022-07-30T07:41:03.970970",
     "status": "completed"
    },
    "tags": []
   },
   "source": [
    "# Starbucks Capstone Challenge\n",
    "\n",
    "### Introduction\n",
    "\n",
    "This data set contains simulated data that mimics customer behavior on the Starbucks rewards mobile app. Once every few days, Starbucks sends out an offer to users of the mobile app. An offer can be merely an advertisement for a drink or an actual offer such as a discount or BOGO (buy one get one free). Some users might not receive any offer during certain weeks. \n",
    "\n",
    "Not all users receive the same offer, and that is the challenge to solve with this data set.\n",
    "\n",
    "Your task is to combine transaction, demographic and offer data to determine which demographic groups respond best to which offer type. This data set is a simplified version of the real Starbucks app because the underlying simulator only has one product whereas Starbucks actually sells dozens of products.\n",
    "\n",
    "Every offer has a validity period before the offer expires. As an example, a BOGO offer might be valid for only 5 days. You'll see in the data set that informational offers have a validity period even though these ads are merely providing information about a product; for example, if an informational offer has 7 days of validity, you can assume the customer is feeling the influence of the offer for 7 days after receiving the advertisement.\n",
    "\n",
    "You'll be given transactional data showing user purchases made on the app including the timestamp of purchase and the amount of money spent on a purchase. This transactional data also has a record for each offer that a user receives as well as a record for when a user actually views the offer. There are also records for when a user completes an offer. \n",
    "\n",
    "Keep in mind as well that someone using the app might make a purchase through the app without having received an offer or seen an offer.\n",
    "\n",
    "### Example\n",
    "\n",
    "To give an example, a user could receive a discount offer buy 10 dollars get 2 off on Monday. The offer is valid for 10 days from receipt. If the customer accumulates at least 10 dollars in purchases during the validity period, the customer completes the offer.\n",
    "\n",
    "However, there are a few things to watch out for in this data set. Customers do not opt into the offers that they receive; in other words, a user can receive an offer, never actually view the offer, and still complete the offer. For example, a user might receive the \"buy 10 dollars get 2 dollars off offer\", but the user never opens the offer during the 10 day validity period. The customer spends 15 dollars during those ten days. There will be an offer completion record in the data set; however, the customer was not influenced by the offer because the customer never viewed the offer.\n",
    "\n",
    "### Cleaning\n",
    "\n",
    "This makes data cleaning especially important and tricky.\n",
    "\n",
    "You'll also want to take into account that some demographic groups will make purchases even if they don't receive an offer. From a business perspective, if a customer is going to make a 10 dollar purchase without an offer anyway, you wouldn't want to send a buy 10 dollars get 2 dollars off offer. You'll want to try to assess what a certain demographic group will buy when not receiving any offers.\n",
    "\n",
    "### Final Advice\n",
    "\n",
    "Because this is a capstone project, you are free to analyze the data any way you see fit. For example, you could build a machine learning model that predicts how much someone will spend based on demographics and offer type. Or you could build a model that predicts whether or not someone will respond to an offer. Or, you don't need to build a machine learning model at all. You could develop a set of heuristics that determine what offer you should send to each customer (i.e., 75 percent of women customers who were 35 years old responded to offer A vs 40 percent from the same demographic to offer B, so send offer A)."
   ]
  },
  {
   "cell_type": "markdown",
   "id": "69e210fd",
   "metadata": {
    "papermill": {
     "duration": 0.021712,
     "end_time": "2022-07-30T07:41:04.040046",
     "exception": false,
     "start_time": "2022-07-30T07:41:04.018334",
     "status": "completed"
    },
    "tags": []
   },
   "source": [
    "# Data Sets\n",
    "\n",
    "The data is contained in three files:\n",
    "\n",
    "* portfolio.json - containing offer ids and meta data about each offer (duration, type, etc.)\n",
    "* profile.json - demographic data for each customer\n",
    "* transcript.json - records for transactions, offers received, offers viewed, and offers completed\n",
    "\n",
    "Here is the schema and explanation of each variable in the files:\n",
    "\n",
    "**portfolio.json**\n",
    "* id (string) - offer id\n",
    "* offer_type (string) - type of offer ie BOGO, discount, informational\n",
    "* difficulty (int) - minimum required spend to complete an offer\n",
    "* reward (int) - reward given for completing an offer\n",
    "* duration (int) - time for offer to be open, in days\n",
    "* channels (list of strings)\n",
    "\n",
    "**profile.json**\n",
    "* age (int) - age of the customer \n",
    "* became_member_on (int) - date when customer created an app account\n",
    "* gender (str) - gender of the customer (note some entries contain 'O' for other rather than M or F)\n",
    "* id (str) - customer id\n",
    "* income (float) - customer's income\n",
    "\n",
    "**transcript.json**\n",
    "* event (str) - record description (ie transaction, offer received, offer viewed, etc.)\n",
    "* person (str) - customer id\n",
    "* time (int) - time in hours since start of test. The data begins at time t=0\n",
    "* value - (dict of strings) - either an offer id or transaction amount depending on the record"
   ]
  },
  {
   "cell_type": "markdown",
   "id": "ecfdf3ec",
   "metadata": {
    "papermill": {
     "duration": 0.026032,
     "end_time": "2022-07-30T07:41:04.091638",
     "exception": false,
     "start_time": "2022-07-30T07:41:04.065606",
     "status": "completed"
    },
    "tags": []
   },
   "source": [
    "## Project Goal\n",
    "\n",
    "The goal of this project is to build a machine learning model that predicts whether or not someone will respond to an offer. To do this, i will take the following steps.\n",
    "1. Carry out exploratory data analysis to determine how much people respond to starbucks offer based on the type of offer, the reward, the medium through which they received the offer and other metrics present in the dataset.\n",
    "2. Clean the data, then build a machine learning model to predict the probability of the customer responding to the offer."
   ]
  },
  {
   "cell_type": "code",
   "execution_count": 1,
   "id": "035fc700",
   "metadata": {
    "execution": {
     "iopub.execute_input": "2022-07-30T07:41:04.143885Z",
     "iopub.status.busy": "2022-07-30T07:41:04.143297Z",
     "iopub.status.idle": "2022-07-30T07:41:05.595288Z",
     "shell.execute_reply": "2022-07-30T07:41:05.594224Z"
    },
    "papermill": {
     "duration": 1.484126,
     "end_time": "2022-07-30T07:41:05.597851",
     "exception": false,
     "start_time": "2022-07-30T07:41:04.113725",
     "status": "completed"
    },
    "tags": []
   },
   "outputs": [],
   "source": [
    "# import libraries\n",
    "import math\n",
    "import json\n",
    "\n",
    "import pandas as pd\n",
    "import numpy as np\n",
    "import matplotlib.pyplot as plt\n",
    "import seaborn as sns\n",
    "\n",
    "from sklearn.model_selection import train_test_split, GridSearchCV\n",
    "from sklearn.naive_bayes import GaussianNB\n",
    "from sklearn.ensemble import RandomForestClassifier, GradientBoostingClassifier\n",
    "from sklearn.neighbors import KNeighborsClassifier\n",
    "from sklearn.metrics import classification_report\n",
    "from sklearn.preprocessing import MinMaxScaler\n",
    "\n",
    "from IPython.display import display\n",
    "\n",
    "%matplotlib inline\n",
    "sns.set()"
   ]
  },
  {
   "cell_type": "code",
   "execution_count": 2,
   "id": "73c7a021",
   "metadata": {
    "execution": {
     "iopub.execute_input": "2022-07-30T07:41:05.644938Z",
     "iopub.status.busy": "2022-07-30T07:41:05.643790Z",
     "iopub.status.idle": "2022-07-30T07:41:08.319746Z",
     "shell.execute_reply": "2022-07-30T07:41:08.318830Z"
    },
    "papermill": {
     "duration": 2.701425,
     "end_time": "2022-07-30T07:41:08.322269",
     "exception": false,
     "start_time": "2022-07-30T07:41:05.620844",
     "status": "completed"
    },
    "tags": []
   },
   "outputs": [],
   "source": [
    "# read in the json files\n",
    "portfolio = pd.read_json('../input/starbucks-app-customer-reward-program-data/portfolio.json', orient='records', lines=True)\n",
    "profile = pd.read_json('../input/starbucks-app-customer-reward-program-data/profile.json', orient='records', lines=True)\n",
    "transcript = pd.read_json('../input/starbucks-app-customer-reward-program-data/transcript.json', orient='records', lines=True)"
   ]
  },
  {
   "cell_type": "markdown",
   "id": "f1ab2456",
   "metadata": {
    "papermill": {
     "duration": 0.021771,
     "end_time": "2022-07-30T07:41:08.365866",
     "exception": false,
     "start_time": "2022-07-30T07:41:08.344095",
     "status": "completed"
    },
    "tags": []
   },
   "source": [
    "### Initial Analysis and Data Cleaning\n",
    "\n",
    "In this section, i will investigate the individual dataset for any abnormalities and perform necessary cleaning steps."
   ]
  },
  {
   "cell_type": "markdown",
   "id": "b879574b",
   "metadata": {
    "papermill": {
     "duration": 0.021877,
     "end_time": "2022-07-30T07:41:08.409547",
     "exception": false,
     "start_time": "2022-07-30T07:41:08.387670",
     "status": "completed"
    },
    "tags": []
   },
   "source": [
    "#### Portfolio Dataset"
   ]
  },
  {
   "cell_type": "markdown",
   "id": "2c81b63e",
   "metadata": {
    "papermill": {
     "duration": 0.021764,
     "end_time": "2022-07-30T07:41:08.452995",
     "exception": false,
     "start_time": "2022-07-30T07:41:08.431231",
     "status": "completed"
    },
    "tags": []
   },
   "source": [
    "**Cleaning**"
   ]
  },
  {
   "cell_type": "code",
   "execution_count": 3,
   "id": "f33971f0",
   "metadata": {
    "execution": {
     "iopub.execute_input": "2022-07-30T07:41:08.498160Z",
     "iopub.status.busy": "2022-07-30T07:41:08.497782Z",
     "iopub.status.idle": "2022-07-30T07:41:08.520219Z",
     "shell.execute_reply": "2022-07-30T07:41:08.518933Z"
    },
    "papermill": {
     "duration": 0.047825,
     "end_time": "2022-07-30T07:41:08.522511",
     "exception": false,
     "start_time": "2022-07-30T07:41:08.474686",
     "status": "completed"
    },
    "tags": []
   },
   "outputs": [
    {
     "name": "stdout",
     "output_type": "stream",
     "text": [
      "Shape: (10, 6)\n"
     ]
    },
    {
     "data": {
      "text/html": [
       "<div>\n",
       "<style scoped>\n",
       "    .dataframe tbody tr th:only-of-type {\n",
       "        vertical-align: middle;\n",
       "    }\n",
       "\n",
       "    .dataframe tbody tr th {\n",
       "        vertical-align: top;\n",
       "    }\n",
       "\n",
       "    .dataframe thead th {\n",
       "        text-align: right;\n",
       "    }\n",
       "</style>\n",
       "<table border=\"1\" class=\"dataframe\">\n",
       "  <thead>\n",
       "    <tr style=\"text-align: right;\">\n",
       "      <th></th>\n",
       "      <th>reward</th>\n",
       "      <th>channels</th>\n",
       "      <th>difficulty</th>\n",
       "      <th>duration</th>\n",
       "      <th>offer_type</th>\n",
       "      <th>id</th>\n",
       "    </tr>\n",
       "  </thead>\n",
       "  <tbody>\n",
       "    <tr>\n",
       "      <th>0</th>\n",
       "      <td>10</td>\n",
       "      <td>[email, mobile, social]</td>\n",
       "      <td>10</td>\n",
       "      <td>7</td>\n",
       "      <td>bogo</td>\n",
       "      <td>ae264e3637204a6fb9bb56bc8210ddfd</td>\n",
       "    </tr>\n",
       "    <tr>\n",
       "      <th>1</th>\n",
       "      <td>10</td>\n",
       "      <td>[web, email, mobile, social]</td>\n",
       "      <td>10</td>\n",
       "      <td>5</td>\n",
       "      <td>bogo</td>\n",
       "      <td>4d5c57ea9a6940dd891ad53e9dbe8da0</td>\n",
       "    </tr>\n",
       "    <tr>\n",
       "      <th>2</th>\n",
       "      <td>0</td>\n",
       "      <td>[web, email, mobile]</td>\n",
       "      <td>0</td>\n",
       "      <td>4</td>\n",
       "      <td>informational</td>\n",
       "      <td>3f207df678b143eea3cee63160fa8bed</td>\n",
       "    </tr>\n",
       "    <tr>\n",
       "      <th>3</th>\n",
       "      <td>5</td>\n",
       "      <td>[web, email, mobile]</td>\n",
       "      <td>5</td>\n",
       "      <td>7</td>\n",
       "      <td>bogo</td>\n",
       "      <td>9b98b8c7a33c4b65b9aebfe6a799e6d9</td>\n",
       "    </tr>\n",
       "    <tr>\n",
       "      <th>4</th>\n",
       "      <td>5</td>\n",
       "      <td>[web, email]</td>\n",
       "      <td>20</td>\n",
       "      <td>10</td>\n",
       "      <td>discount</td>\n",
       "      <td>0b1e1539f2cc45b7b9fa7c272da2e1d7</td>\n",
       "    </tr>\n",
       "    <tr>\n",
       "      <th>5</th>\n",
       "      <td>3</td>\n",
       "      <td>[web, email, mobile, social]</td>\n",
       "      <td>7</td>\n",
       "      <td>7</td>\n",
       "      <td>discount</td>\n",
       "      <td>2298d6c36e964ae4a3e7e9706d1fb8c2</td>\n",
       "    </tr>\n",
       "    <tr>\n",
       "      <th>6</th>\n",
       "      <td>2</td>\n",
       "      <td>[web, email, mobile, social]</td>\n",
       "      <td>10</td>\n",
       "      <td>10</td>\n",
       "      <td>discount</td>\n",
       "      <td>fafdcd668e3743c1bb461111dcafc2a4</td>\n",
       "    </tr>\n",
       "    <tr>\n",
       "      <th>7</th>\n",
       "      <td>0</td>\n",
       "      <td>[email, mobile, social]</td>\n",
       "      <td>0</td>\n",
       "      <td>3</td>\n",
       "      <td>informational</td>\n",
       "      <td>5a8bc65990b245e5a138643cd4eb9837</td>\n",
       "    </tr>\n",
       "    <tr>\n",
       "      <th>8</th>\n",
       "      <td>5</td>\n",
       "      <td>[web, email, mobile, social]</td>\n",
       "      <td>5</td>\n",
       "      <td>5</td>\n",
       "      <td>bogo</td>\n",
       "      <td>f19421c1d4aa40978ebb69ca19b0e20d</td>\n",
       "    </tr>\n",
       "    <tr>\n",
       "      <th>9</th>\n",
       "      <td>2</td>\n",
       "      <td>[web, email, mobile]</td>\n",
       "      <td>10</td>\n",
       "      <td>7</td>\n",
       "      <td>discount</td>\n",
       "      <td>2906b810c7d4411798c6938adc9daaa5</td>\n",
       "    </tr>\n",
       "  </tbody>\n",
       "</table>\n",
       "</div>"
      ],
      "text/plain": [
       "   reward                      channels  difficulty  duration     offer_type  \\\n",
       "0      10       [email, mobile, social]          10         7           bogo   \n",
       "1      10  [web, email, mobile, social]          10         5           bogo   \n",
       "2       0          [web, email, mobile]           0         4  informational   \n",
       "3       5          [web, email, mobile]           5         7           bogo   \n",
       "4       5                  [web, email]          20        10       discount   \n",
       "5       3  [web, email, mobile, social]           7         7       discount   \n",
       "6       2  [web, email, mobile, social]          10        10       discount   \n",
       "7       0       [email, mobile, social]           0         3  informational   \n",
       "8       5  [web, email, mobile, social]           5         5           bogo   \n",
       "9       2          [web, email, mobile]          10         7       discount   \n",
       "\n",
       "                                 id  \n",
       "0  ae264e3637204a6fb9bb56bc8210ddfd  \n",
       "1  4d5c57ea9a6940dd891ad53e9dbe8da0  \n",
       "2  3f207df678b143eea3cee63160fa8bed  \n",
       "3  9b98b8c7a33c4b65b9aebfe6a799e6d9  \n",
       "4  0b1e1539f2cc45b7b9fa7c272da2e1d7  \n",
       "5  2298d6c36e964ae4a3e7e9706d1fb8c2  \n",
       "6  fafdcd668e3743c1bb461111dcafc2a4  \n",
       "7  5a8bc65990b245e5a138643cd4eb9837  \n",
       "8  f19421c1d4aa40978ebb69ca19b0e20d  \n",
       "9  2906b810c7d4411798c6938adc9daaa5  "
      ]
     },
     "execution_count": 3,
     "metadata": {},
     "output_type": "execute_result"
    }
   ],
   "source": [
    "print('Shape:',portfolio.shape)\n",
    "portfolio"
   ]
  },
  {
   "cell_type": "code",
   "execution_count": 4,
   "id": "8f8597c6",
   "metadata": {
    "execution": {
     "iopub.execute_input": "2022-07-30T07:41:08.569333Z",
     "iopub.status.busy": "2022-07-30T07:41:08.568982Z",
     "iopub.status.idle": "2022-07-30T07:41:08.597586Z",
     "shell.execute_reply": "2022-07-30T07:41:08.596556Z"
    },
    "papermill": {
     "duration": 0.054628,
     "end_time": "2022-07-30T07:41:08.599744",
     "exception": false,
     "start_time": "2022-07-30T07:41:08.545116",
     "status": "completed"
    },
    "tags": []
   },
   "outputs": [
    {
     "data": {
      "text/html": [
       "<div>\n",
       "<style scoped>\n",
       "    .dataframe tbody tr th:only-of-type {\n",
       "        vertical-align: middle;\n",
       "    }\n",
       "\n",
       "    .dataframe tbody tr th {\n",
       "        vertical-align: top;\n",
       "    }\n",
       "\n",
       "    .dataframe thead th {\n",
       "        text-align: right;\n",
       "    }\n",
       "</style>\n",
       "<table border=\"1\" class=\"dataframe\">\n",
       "  <thead>\n",
       "    <tr style=\"text-align: right;\">\n",
       "      <th></th>\n",
       "      <th>reward</th>\n",
       "      <th>difficulty</th>\n",
       "      <th>duration</th>\n",
       "      <th>offer_type</th>\n",
       "      <th>id</th>\n",
       "      <th>email</th>\n",
       "      <th>web</th>\n",
       "      <th>mobile</th>\n",
       "      <th>social</th>\n",
       "    </tr>\n",
       "  </thead>\n",
       "  <tbody>\n",
       "    <tr>\n",
       "      <th>0</th>\n",
       "      <td>10</td>\n",
       "      <td>10</td>\n",
       "      <td>7</td>\n",
       "      <td>bogo</td>\n",
       "      <td>ae264e3637204a6fb9bb56bc8210ddfd</td>\n",
       "      <td>1</td>\n",
       "      <td>0</td>\n",
       "      <td>1</td>\n",
       "      <td>1</td>\n",
       "    </tr>\n",
       "    <tr>\n",
       "      <th>1</th>\n",
       "      <td>10</td>\n",
       "      <td>10</td>\n",
       "      <td>5</td>\n",
       "      <td>bogo</td>\n",
       "      <td>4d5c57ea9a6940dd891ad53e9dbe8da0</td>\n",
       "      <td>1</td>\n",
       "      <td>1</td>\n",
       "      <td>1</td>\n",
       "      <td>1</td>\n",
       "    </tr>\n",
       "    <tr>\n",
       "      <th>2</th>\n",
       "      <td>0</td>\n",
       "      <td>0</td>\n",
       "      <td>4</td>\n",
       "      <td>informational</td>\n",
       "      <td>3f207df678b143eea3cee63160fa8bed</td>\n",
       "      <td>1</td>\n",
       "      <td>1</td>\n",
       "      <td>1</td>\n",
       "      <td>0</td>\n",
       "    </tr>\n",
       "    <tr>\n",
       "      <th>3</th>\n",
       "      <td>5</td>\n",
       "      <td>5</td>\n",
       "      <td>7</td>\n",
       "      <td>bogo</td>\n",
       "      <td>9b98b8c7a33c4b65b9aebfe6a799e6d9</td>\n",
       "      <td>1</td>\n",
       "      <td>1</td>\n",
       "      <td>1</td>\n",
       "      <td>0</td>\n",
       "    </tr>\n",
       "    <tr>\n",
       "      <th>4</th>\n",
       "      <td>5</td>\n",
       "      <td>20</td>\n",
       "      <td>10</td>\n",
       "      <td>discount</td>\n",
       "      <td>0b1e1539f2cc45b7b9fa7c272da2e1d7</td>\n",
       "      <td>1</td>\n",
       "      <td>1</td>\n",
       "      <td>0</td>\n",
       "      <td>0</td>\n",
       "    </tr>\n",
       "    <tr>\n",
       "      <th>5</th>\n",
       "      <td>3</td>\n",
       "      <td>7</td>\n",
       "      <td>7</td>\n",
       "      <td>discount</td>\n",
       "      <td>2298d6c36e964ae4a3e7e9706d1fb8c2</td>\n",
       "      <td>1</td>\n",
       "      <td>1</td>\n",
       "      <td>1</td>\n",
       "      <td>1</td>\n",
       "    </tr>\n",
       "    <tr>\n",
       "      <th>6</th>\n",
       "      <td>2</td>\n",
       "      <td>10</td>\n",
       "      <td>10</td>\n",
       "      <td>discount</td>\n",
       "      <td>fafdcd668e3743c1bb461111dcafc2a4</td>\n",
       "      <td>1</td>\n",
       "      <td>1</td>\n",
       "      <td>1</td>\n",
       "      <td>1</td>\n",
       "    </tr>\n",
       "    <tr>\n",
       "      <th>7</th>\n",
       "      <td>0</td>\n",
       "      <td>0</td>\n",
       "      <td>3</td>\n",
       "      <td>informational</td>\n",
       "      <td>5a8bc65990b245e5a138643cd4eb9837</td>\n",
       "      <td>1</td>\n",
       "      <td>0</td>\n",
       "      <td>1</td>\n",
       "      <td>1</td>\n",
       "    </tr>\n",
       "    <tr>\n",
       "      <th>8</th>\n",
       "      <td>5</td>\n",
       "      <td>5</td>\n",
       "      <td>5</td>\n",
       "      <td>bogo</td>\n",
       "      <td>f19421c1d4aa40978ebb69ca19b0e20d</td>\n",
       "      <td>1</td>\n",
       "      <td>1</td>\n",
       "      <td>1</td>\n",
       "      <td>1</td>\n",
       "    </tr>\n",
       "    <tr>\n",
       "      <th>9</th>\n",
       "      <td>2</td>\n",
       "      <td>10</td>\n",
       "      <td>7</td>\n",
       "      <td>discount</td>\n",
       "      <td>2906b810c7d4411798c6938adc9daaa5</td>\n",
       "      <td>1</td>\n",
       "      <td>1</td>\n",
       "      <td>1</td>\n",
       "      <td>0</td>\n",
       "    </tr>\n",
       "  </tbody>\n",
       "</table>\n",
       "</div>"
      ],
      "text/plain": [
       "   reward  difficulty  duration     offer_type  \\\n",
       "0      10          10         7           bogo   \n",
       "1      10          10         5           bogo   \n",
       "2       0           0         4  informational   \n",
       "3       5           5         7           bogo   \n",
       "4       5          20        10       discount   \n",
       "5       3           7         7       discount   \n",
       "6       2          10        10       discount   \n",
       "7       0           0         3  informational   \n",
       "8       5           5         5           bogo   \n",
       "9       2          10         7       discount   \n",
       "\n",
       "                                 id  email  web  mobile  social  \n",
       "0  ae264e3637204a6fb9bb56bc8210ddfd      1    0       1       1  \n",
       "1  4d5c57ea9a6940dd891ad53e9dbe8da0      1    1       1       1  \n",
       "2  3f207df678b143eea3cee63160fa8bed      1    1       1       0  \n",
       "3  9b98b8c7a33c4b65b9aebfe6a799e6d9      1    1       1       0  \n",
       "4  0b1e1539f2cc45b7b9fa7c272da2e1d7      1    1       0       0  \n",
       "5  2298d6c36e964ae4a3e7e9706d1fb8c2      1    1       1       1  \n",
       "6  fafdcd668e3743c1bb461111dcafc2a4      1    1       1       1  \n",
       "7  5a8bc65990b245e5a138643cd4eb9837      1    0       1       1  \n",
       "8  f19421c1d4aa40978ebb69ca19b0e20d      1    1       1       1  \n",
       "9  2906b810c7d4411798c6938adc9daaa5      1    1       1       0  "
      ]
     },
     "execution_count": 4,
     "metadata": {},
     "output_type": "execute_result"
    }
   ],
   "source": [
    "# create dummy variables for the channels column and drop it from the portfolio dataframe\n",
    "portfolio[['email', 'web', 'mobile', 'social']] = 0\n",
    "def dummyfy(idx, row):\n",
    "    for val in row:\n",
    "        portfolio.loc[idx, val] = 1\n",
    "for i, row in enumerate(portfolio.channels):\n",
    "    dummyfy(i, row)\n",
    "    \n",
    "portfolio.drop('channels', inplace=True, axis=1)\n",
    "portfolio"
   ]
  },
  {
   "cell_type": "code",
   "execution_count": 5,
   "id": "5ca8668b",
   "metadata": {
    "execution": {
     "iopub.execute_input": "2022-07-30T07:41:08.647051Z",
     "iopub.status.busy": "2022-07-30T07:41:08.646679Z",
     "iopub.status.idle": "2022-07-30T07:41:08.663200Z",
     "shell.execute_reply": "2022-07-30T07:41:08.661692Z"
    },
    "papermill": {
     "duration": 0.042958,
     "end_time": "2022-07-30T07:41:08.665378",
     "exception": false,
     "start_time": "2022-07-30T07:41:08.622420",
     "status": "completed"
    },
    "tags": []
   },
   "outputs": [
    {
     "name": "stdout",
     "output_type": "stream",
     "text": [
      "<class 'pandas.core.frame.DataFrame'>\n",
      "RangeIndex: 10 entries, 0 to 9\n",
      "Data columns (total 9 columns):\n",
      " #   Column      Non-Null Count  Dtype \n",
      "---  ------      --------------  ----- \n",
      " 0   reward      10 non-null     int64 \n",
      " 1   difficulty  10 non-null     int64 \n",
      " 2   duration    10 non-null     int64 \n",
      " 3   offer_type  10 non-null     object\n",
      " 4   id          10 non-null     object\n",
      " 5   email       10 non-null     int64 \n",
      " 6   web         10 non-null     int64 \n",
      " 7   mobile      10 non-null     int64 \n",
      " 8   social      10 non-null     int64 \n",
      "dtypes: int64(7), object(2)\n",
      "memory usage: 848.0+ bytes\n"
     ]
    }
   ],
   "source": [
    "portfolio.info()"
   ]
  },
  {
   "cell_type": "markdown",
   "id": "16f02c5f",
   "metadata": {
    "papermill": {
     "duration": 0.022898,
     "end_time": "2022-07-30T07:41:08.710341",
     "exception": false,
     "start_time": "2022-07-30T07:41:08.687443",
     "status": "completed"
    },
    "tags": []
   },
   "source": [
    "**EDA**"
   ]
  },
  {
   "cell_type": "code",
   "execution_count": 6,
   "id": "186f31f0",
   "metadata": {
    "execution": {
     "iopub.execute_input": "2022-07-30T07:41:08.757954Z",
     "iopub.status.busy": "2022-07-30T07:41:08.756924Z",
     "iopub.status.idle": "2022-07-30T07:41:09.039449Z",
     "shell.execute_reply": "2022-07-30T07:41:09.038289Z"
    },
    "papermill": {
     "duration": 0.308844,
     "end_time": "2022-07-30T07:41:09.041761",
     "exception": false,
     "start_time": "2022-07-30T07:41:08.732917",
     "status": "completed"
    },
    "tags": []
   },
   "outputs": [
    {
     "data": {
      "image/png": "[encoded data removed]",
      "text/plain": [
       "<Figure size 360x360 with 1 Axes>"
      ]
     },
     "metadata": {},
     "output_type": "display_data"
    }
   ],
   "source": [
    "# view the distribution of offer type in the dataset\n",
    "sns.displot(portfolio.offer_type);"
   ]
  },
  {
   "cell_type": "markdown",
   "id": "20a6c3ef",
   "metadata": {
    "execution": {
     "iopub.execute_input": "2022-07-28T08:13:22.689288Z",
     "iopub.status.busy": "2022-07-28T08:13:22.688439Z",
     "iopub.status.idle": "2022-07-28T08:13:22.698678Z",
     "shell.execute_reply": "2022-07-28T08:13:22.697862Z",
     "shell.execute_reply.started": "2022-07-28T08:13:22.689252Z"
    },
    "papermill": {
     "duration": 0.025218,
     "end_time": "2022-07-30T07:41:09.090603",
     "exception": false,
     "start_time": "2022-07-30T07:41:09.065385",
     "status": "completed"
    },
    "tags": []
   },
   "source": [
    "#### Profile Dataset"
   ]
  },
  {
   "cell_type": "markdown",
   "id": "b1ac52c0",
   "metadata": {
    "papermill": {
     "duration": 0.023497,
     "end_time": "2022-07-30T07:41:09.138428",
     "exception": false,
     "start_time": "2022-07-30T07:41:09.114931",
     "status": "completed"
    },
    "tags": []
   },
   "source": [
    "**Cleaning**"
   ]
  },
  {
   "cell_type": "code",
   "execution_count": 7,
   "id": "b44b8ddd",
   "metadata": {
    "execution": {
     "iopub.execute_input": "2022-07-30T07:41:09.187584Z",
     "iopub.status.busy": "2022-07-30T07:41:09.187203Z",
     "iopub.status.idle": "2022-07-30T07:41:09.200657Z",
     "shell.execute_reply": "2022-07-30T07:41:09.199186Z"
    },
    "papermill": {
     "duration": 0.041105,
     "end_time": "2022-07-30T07:41:09.203463",
     "exception": false,
     "start_time": "2022-07-30T07:41:09.162358",
     "status": "completed"
    },
    "tags": []
   },
   "outputs": [
    {
     "name": "stdout",
     "output_type": "stream",
     "text": [
      "Shape: (17000, 5)\n"
     ]
    },
    {
     "data": {
      "text/html": [
       "<div>\n",
       "<style scoped>\n",
       "    .dataframe tbody tr th:only-of-type {\n",
       "        vertical-align: middle;\n",
       "    }\n",
       "\n",
       "    .dataframe tbody tr th {\n",
       "        vertical-align: top;\n",
       "    }\n",
       "\n",
       "    .dataframe thead th {\n",
       "        text-align: right;\n",
       "    }\n",
       "</style>\n",
       "<table border=\"1\" class=\"dataframe\">\n",
       "  <thead>\n",
       "    <tr style=\"text-align: right;\">\n",
       "      <th></th>\n",
       "      <th>gender</th>\n",
       "      <th>age</th>\n",
       "      <th>id</th>\n",
       "      <th>became_member_on</th>\n",
       "      <th>income</th>\n",
       "    </tr>\n",
       "  </thead>\n",
       "  <tbody>\n",
       "    <tr>\n",
       "      <th>0</th>\n",
       "      <td>None</td>\n",
       "      <td>118</td>\n",
       "      <td>68be06ca386d4c31939f3a4f0e3dd783</td>\n",
       "      <td>20170212</td>\n",
       "      <td>NaN</td>\n",
       "    </tr>\n",
       "    <tr>\n",
       "      <th>1</th>\n",
       "      <td>F</td>\n",
       "      <td>55</td>\n",
       "      <td>0610b486422d4921ae7d2bf64640c50b</td>\n",
       "      <td>20170715</td>\n",
       "      <td>112000.0</td>\n",
       "    </tr>\n",
       "    <tr>\n",
       "      <th>2</th>\n",
       "      <td>None</td>\n",
       "      <td>118</td>\n",
       "      <td>38fe809add3b4fcf9315a9694bb96ff5</td>\n",
       "      <td>20180712</td>\n",
       "      <td>NaN</td>\n",
       "    </tr>\n",
       "    <tr>\n",
       "      <th>3</th>\n",
       "      <td>F</td>\n",
       "      <td>75</td>\n",
       "      <td>78afa995795e4d85b5d9ceeca43f5fef</td>\n",
       "      <td>20170509</td>\n",
       "      <td>100000.0</td>\n",
       "    </tr>\n",
       "    <tr>\n",
       "      <th>4</th>\n",
       "      <td>None</td>\n",
       "      <td>118</td>\n",
       "      <td>a03223e636434f42ac4c3df47e8bac43</td>\n",
       "      <td>20170804</td>\n",
       "      <td>NaN</td>\n",
       "    </tr>\n",
       "  </tbody>\n",
       "</table>\n",
       "</div>"
      ],
      "text/plain": [
       "  gender  age                                id  became_member_on    income\n",
       "0   None  118  68be06ca386d4c31939f3a4f0e3dd783          20170212       NaN\n",
       "1      F   55  0610b486422d4921ae7d2bf64640c50b          20170715  112000.0\n",
       "2   None  118  38fe809add3b4fcf9315a9694bb96ff5          20180712       NaN\n",
       "3      F   75  78afa995795e4d85b5d9ceeca43f5fef          20170509  100000.0\n",
       "4   None  118  a03223e636434f42ac4c3df47e8bac43          20170804       NaN"
      ]
     },
     "execution_count": 7,
     "metadata": {},
     "output_type": "execute_result"
    }
   ],
   "source": [
    "print('Shape:',profile.shape)\n",
    "profile.head()"
   ]
  },
  {
   "cell_type": "code",
   "execution_count": 8,
   "id": "235db0dc",
   "metadata": {
    "execution": {
     "iopub.execute_input": "2022-07-30T07:41:09.253740Z",
     "iopub.status.busy": "2022-07-30T07:41:09.252544Z",
     "iopub.status.idle": "2022-07-30T07:41:09.269001Z",
     "shell.execute_reply": "2022-07-30T07:41:09.267490Z"
    },
    "papermill": {
     "duration": 0.044215,
     "end_time": "2022-07-30T07:41:09.271553",
     "exception": false,
     "start_time": "2022-07-30T07:41:09.227338",
     "status": "completed"
    },
    "tags": []
   },
   "outputs": [
    {
     "name": "stdout",
     "output_type": "stream",
     "text": [
      "<class 'pandas.core.frame.DataFrame'>\n",
      "RangeIndex: 17000 entries, 0 to 16999\n",
      "Data columns (total 5 columns):\n",
      " #   Column            Non-Null Count  Dtype  \n",
      "---  ------            --------------  -----  \n",
      " 0   gender            14825 non-null  object \n",
      " 1   age               17000 non-null  int64  \n",
      " 2   id                17000 non-null  object \n",
      " 3   became_member_on  17000 non-null  int64  \n",
      " 4   income            14825 non-null  float64\n",
      "dtypes: float64(1), int64(2), object(2)\n",
      "memory usage: 664.2+ KB\n"
     ]
    }
   ],
   "source": [
    "profile.info()"
   ]
  },
  {
   "cell_type": "code",
   "execution_count": 9,
   "id": "df0f5dc6",
   "metadata": {
    "execution": {
     "iopub.execute_input": "2022-07-30T07:41:09.320616Z",
     "iopub.status.busy": "2022-07-30T07:41:09.320261Z",
     "iopub.status.idle": "2022-07-30T07:41:09.333087Z",
     "shell.execute_reply": "2022-07-30T07:41:09.331971Z"
    },
    "papermill": {
     "duration": 0.040085,
     "end_time": "2022-07-30T07:41:09.335508",
     "exception": false,
     "start_time": "2022-07-30T07:41:09.295423",
     "status": "completed"
    },
    "tags": []
   },
   "outputs": [
    {
     "data": {
      "text/plain": [
       "gender              2175\n",
       "age                    0\n",
       "id                     0\n",
       "became_member_on       0\n",
       "income              2175\n",
       "dtype: int64"
      ]
     },
     "execution_count": 9,
     "metadata": {},
     "output_type": "execute_result"
    }
   ],
   "source": [
    "profile.isna().sum()"
   ]
  },
  {
   "cell_type": "code",
   "execution_count": 10,
   "id": "e1dd8937",
   "metadata": {
    "execution": {
     "iopub.execute_input": "2022-07-30T07:41:09.384370Z",
     "iopub.status.busy": "2022-07-30T07:41:09.384011Z",
     "iopub.status.idle": "2022-07-30T07:41:09.392142Z",
     "shell.execute_reply": "2022-07-30T07:41:09.391049Z"
    },
    "papermill": {
     "duration": 0.035579,
     "end_time": "2022-07-30T07:41:09.394478",
     "exception": false,
     "start_time": "2022-07-30T07:41:09.358899",
     "status": "completed"
    },
    "tags": []
   },
   "outputs": [
    {
     "data": {
      "text/plain": [
       "array([None, 'F', 'M', 'O'], dtype=object)"
      ]
     },
     "execution_count": 10,
     "metadata": {},
     "output_type": "execute_result"
    }
   ],
   "source": [
    "profile.gender.unique()"
   ]
  },
  {
   "cell_type": "markdown",
   "id": "e1af65d6",
   "metadata": {
    "papermill": {
     "duration": 0.023649,
     "end_time": "2022-07-30T07:41:09.442109",
     "exception": false,
     "start_time": "2022-07-30T07:41:09.418460",
     "status": "completed"
    },
    "tags": []
   },
   "source": [
    "**Fill in the missing gender values with 'O' to represent other and the missing income values with the mean income.**"
   ]
  },
  {
   "cell_type": "code",
   "execution_count": 11,
   "id": "07ac7f24",
   "metadata": {
    "execution": {
     "iopub.execute_input": "2022-07-30T07:41:09.491215Z",
     "iopub.status.busy": "2022-07-30T07:41:09.490887Z",
     "iopub.status.idle": "2022-07-30T07:41:09.506535Z",
     "shell.execute_reply": "2022-07-30T07:41:09.505507Z"
    },
    "papermill": {
     "duration": 0.042788,
     "end_time": "2022-07-30T07:41:09.508660",
     "exception": false,
     "start_time": "2022-07-30T07:41:09.465872",
     "status": "completed"
    },
    "tags": []
   },
   "outputs": [
    {
     "data": {
      "text/html": [
       "<div>\n",
       "<style scoped>\n",
       "    .dataframe tbody tr th:only-of-type {\n",
       "        vertical-align: middle;\n",
       "    }\n",
       "\n",
       "    .dataframe tbody tr th {\n",
       "        vertical-align: top;\n",
       "    }\n",
       "\n",
       "    .dataframe thead th {\n",
       "        text-align: right;\n",
       "    }\n",
       "</style>\n",
       "<table border=\"1\" class=\"dataframe\">\n",
       "  <thead>\n",
       "    <tr style=\"text-align: right;\">\n",
       "      <th></th>\n",
       "      <th>gender</th>\n",
       "      <th>age</th>\n",
       "      <th>id</th>\n",
       "      <th>became_member_on</th>\n",
       "      <th>income</th>\n",
       "    </tr>\n",
       "  </thead>\n",
       "  <tbody>\n",
       "    <tr>\n",
       "      <th>0</th>\n",
       "      <td>O</td>\n",
       "      <td>118</td>\n",
       "      <td>68be06ca386d4c31939f3a4f0e3dd783</td>\n",
       "      <td>20170212</td>\n",
       "      <td>65405.0</td>\n",
       "    </tr>\n",
       "    <tr>\n",
       "      <th>1</th>\n",
       "      <td>F</td>\n",
       "      <td>55</td>\n",
       "      <td>0610b486422d4921ae7d2bf64640c50b</td>\n",
       "      <td>20170715</td>\n",
       "      <td>112000.0</td>\n",
       "    </tr>\n",
       "    <tr>\n",
       "      <th>2</th>\n",
       "      <td>O</td>\n",
       "      <td>118</td>\n",
       "      <td>38fe809add3b4fcf9315a9694bb96ff5</td>\n",
       "      <td>20180712</td>\n",
       "      <td>65405.0</td>\n",
       "    </tr>\n",
       "    <tr>\n",
       "      <th>3</th>\n",
       "      <td>F</td>\n",
       "      <td>75</td>\n",
       "      <td>78afa995795e4d85b5d9ceeca43f5fef</td>\n",
       "      <td>20170509</td>\n",
       "      <td>100000.0</td>\n",
       "    </tr>\n",
       "    <tr>\n",
       "      <th>4</th>\n",
       "      <td>O</td>\n",
       "      <td>118</td>\n",
       "      <td>a03223e636434f42ac4c3df47e8bac43</td>\n",
       "      <td>20170804</td>\n",
       "      <td>65405.0</td>\n",
       "    </tr>\n",
       "  </tbody>\n",
       "</table>\n",
       "</div>"
      ],
      "text/plain": [
       "  gender  age                                id  became_member_on    income\n",
       "0      O  118  68be06ca386d4c31939f3a4f0e3dd783          20170212   65405.0\n",
       "1      F   55  0610b486422d4921ae7d2bf64640c50b          20170715  112000.0\n",
       "2      O  118  38fe809add3b4fcf9315a9694bb96ff5          20180712   65405.0\n",
       "3      F   75  78afa995795e4d85b5d9ceeca43f5fef          20170509  100000.0\n",
       "4      O  118  a03223e636434f42ac4c3df47e8bac43          20170804   65405.0"
      ]
     },
     "execution_count": 11,
     "metadata": {},
     "output_type": "execute_result"
    }
   ],
   "source": [
    "profile.gender.fillna('O', inplace=True)\n",
    "\n",
    "mean_income=round(profile.income.mean(skipna=True))\n",
    "profile.income.fillna(mean_income, inplace=True)\n",
    "\n",
    "profile.head()"
   ]
  },
  {
   "cell_type": "code",
   "execution_count": 12,
   "id": "75219f6d",
   "metadata": {
    "execution": {
     "iopub.execute_input": "2022-07-30T07:41:09.558511Z",
     "iopub.status.busy": "2022-07-30T07:41:09.558118Z",
     "iopub.status.idle": "2022-07-30T07:41:09.570754Z",
     "shell.execute_reply": "2022-07-30T07:41:09.569956Z"
    },
    "papermill": {
     "duration": 0.039778,
     "end_time": "2022-07-30T07:41:09.572715",
     "exception": false,
     "start_time": "2022-07-30T07:41:09.532937",
     "status": "completed"
    },
    "tags": []
   },
   "outputs": [
    {
     "data": {
      "text/plain": [
       "gender              0\n",
       "age                 0\n",
       "id                  0\n",
       "became_member_on    0\n",
       "income              0\n",
       "dtype: int64"
      ]
     },
     "execution_count": 12,
     "metadata": {},
     "output_type": "execute_result"
    }
   ],
   "source": [
    "# Check\n",
    "profile.isna().sum()"
   ]
  },
  {
   "cell_type": "markdown",
   "id": "c1941bbc",
   "metadata": {
    "papermill": {
     "duration": 0.024546,
     "end_time": "2022-07-30T07:41:09.622369",
     "exception": false,
     "start_time": "2022-07-30T07:41:09.597823",
     "status": "completed"
    },
    "tags": []
   },
   "source": [
    "**Convert the `became_member_on` column to datetime data type**"
   ]
  },
  {
   "cell_type": "code",
   "execution_count": 13,
   "id": "b0d70b87",
   "metadata": {
    "execution": {
     "iopub.execute_input": "2022-07-30T07:41:09.673976Z",
     "iopub.status.busy": "2022-07-30T07:41:09.673294Z",
     "iopub.status.idle": "2022-07-30T07:41:09.698541Z",
     "shell.execute_reply": "2022-07-30T07:41:09.697334Z"
    },
    "papermill": {
     "duration": 0.053928,
     "end_time": "2022-07-30T07:41:09.701016",
     "exception": false,
     "start_time": "2022-07-30T07:41:09.647088",
     "status": "completed"
    },
    "tags": []
   },
   "outputs": [],
   "source": [
    "profile.became_member_on=pd.to_datetime(profile.became_member_on, format='%Y%m%d')"
   ]
  },
  {
   "cell_type": "code",
   "execution_count": 14,
   "id": "5b347d3a",
   "metadata": {
    "execution": {
     "iopub.execute_input": "2022-07-30T07:41:09.751391Z",
     "iopub.status.busy": "2022-07-30T07:41:09.750734Z",
     "iopub.status.idle": "2022-07-30T07:41:09.767940Z",
     "shell.execute_reply": "2022-07-30T07:41:09.766525Z"
    },
    "papermill": {
     "duration": 0.044654,
     "end_time": "2022-07-30T07:41:09.770267",
     "exception": false,
     "start_time": "2022-07-30T07:41:09.725613",
     "status": "completed"
    },
    "tags": []
   },
   "outputs": [
    {
     "name": "stdout",
     "output_type": "stream",
     "text": [
      "<class 'pandas.core.frame.DataFrame'>\n",
      "RangeIndex: 17000 entries, 0 to 16999\n",
      "Data columns (total 5 columns):\n",
      " #   Column            Non-Null Count  Dtype         \n",
      "---  ------            --------------  -----         \n",
      " 0   gender            17000 non-null  object        \n",
      " 1   age               17000 non-null  int64         \n",
      " 2   id                17000 non-null  object        \n",
      " 3   became_member_on  17000 non-null  datetime64[ns]\n",
      " 4   income            17000 non-null  float64       \n",
      "dtypes: datetime64[ns](1), float64(1), int64(1), object(2)\n",
      "memory usage: 664.2+ KB\n"
     ]
    }
   ],
   "source": [
    "profile.info()"
   ]
  },
  {
   "cell_type": "code",
   "execution_count": 15,
   "id": "4e06451b",
   "metadata": {
    "execution": {
     "iopub.execute_input": "2022-07-30T07:41:09.820910Z",
     "iopub.status.busy": "2022-07-30T07:41:09.820045Z",
     "iopub.status.idle": "2022-07-30T07:41:09.833853Z",
     "shell.execute_reply": "2022-07-30T07:41:09.832749Z"
    },
    "papermill": {
     "duration": 0.041226,
     "end_time": "2022-07-30T07:41:09.835916",
     "exception": false,
     "start_time": "2022-07-30T07:41:09.794690",
     "status": "completed"
    },
    "tags": []
   },
   "outputs": [
    {
     "data": {
      "text/html": [
       "<div>\n",
       "<style scoped>\n",
       "    .dataframe tbody tr th:only-of-type {\n",
       "        vertical-align: middle;\n",
       "    }\n",
       "\n",
       "    .dataframe tbody tr th {\n",
       "        vertical-align: top;\n",
       "    }\n",
       "\n",
       "    .dataframe thead th {\n",
       "        text-align: right;\n",
       "    }\n",
       "</style>\n",
       "<table border=\"1\" class=\"dataframe\">\n",
       "  <thead>\n",
       "    <tr style=\"text-align: right;\">\n",
       "      <th></th>\n",
       "      <th>gender</th>\n",
       "      <th>age</th>\n",
       "      <th>id</th>\n",
       "      <th>became_member_on</th>\n",
       "      <th>income</th>\n",
       "    </tr>\n",
       "  </thead>\n",
       "  <tbody>\n",
       "    <tr>\n",
       "      <th>0</th>\n",
       "      <td>O</td>\n",
       "      <td>118</td>\n",
       "      <td>68be06ca386d4c31939f3a4f0e3dd783</td>\n",
       "      <td>2017-02-12</td>\n",
       "      <td>65405.0</td>\n",
       "    </tr>\n",
       "    <tr>\n",
       "      <th>1</th>\n",
       "      <td>F</td>\n",
       "      <td>55</td>\n",
       "      <td>0610b486422d4921ae7d2bf64640c50b</td>\n",
       "      <td>2017-07-15</td>\n",
       "      <td>112000.0</td>\n",
       "    </tr>\n",
       "    <tr>\n",
       "      <th>2</th>\n",
       "      <td>O</td>\n",
       "      <td>118</td>\n",
       "      <td>38fe809add3b4fcf9315a9694bb96ff5</td>\n",
       "      <td>2018-07-12</td>\n",
       "      <td>65405.0</td>\n",
       "    </tr>\n",
       "    <tr>\n",
       "      <th>3</th>\n",
       "      <td>F</td>\n",
       "      <td>75</td>\n",
       "      <td>78afa995795e4d85b5d9ceeca43f5fef</td>\n",
       "      <td>2017-05-09</td>\n",
       "      <td>100000.0</td>\n",
       "    </tr>\n",
       "    <tr>\n",
       "      <th>4</th>\n",
       "      <td>O</td>\n",
       "      <td>118</td>\n",
       "      <td>a03223e636434f42ac4c3df47e8bac43</td>\n",
       "      <td>2017-08-04</td>\n",
       "      <td>65405.0</td>\n",
       "    </tr>\n",
       "  </tbody>\n",
       "</table>\n",
       "</div>"
      ],
      "text/plain": [
       "  gender  age                                id became_member_on    income\n",
       "0      O  118  68be06ca386d4c31939f3a4f0e3dd783       2017-02-12   65405.0\n",
       "1      F   55  0610b486422d4921ae7d2bf64640c50b       2017-07-15  112000.0\n",
       "2      O  118  38fe809add3b4fcf9315a9694bb96ff5       2018-07-12   65405.0\n",
       "3      F   75  78afa995795e4d85b5d9ceeca43f5fef       2017-05-09  100000.0\n",
       "4      O  118  a03223e636434f42ac4c3df47e8bac43       2017-08-04   65405.0"
      ]
     },
     "execution_count": 15,
     "metadata": {},
     "output_type": "execute_result"
    }
   ],
   "source": [
    "profile.head()"
   ]
  },
  {
   "cell_type": "markdown",
   "id": "08fbf5b1",
   "metadata": {
    "papermill": {
     "duration": 0.024118,
     "end_time": "2022-07-30T07:41:09.885136",
     "exception": false,
     "start_time": "2022-07-30T07:41:09.861018",
     "status": "completed"
    },
    "tags": []
   },
   "source": [
    "#### check for outlier values"
   ]
  },
  {
   "cell_type": "code",
   "execution_count": 16,
   "id": "deb9f318",
   "metadata": {
    "execution": {
     "iopub.execute_input": "2022-07-30T07:41:09.935381Z",
     "iopub.status.busy": "2022-07-30T07:41:09.934359Z",
     "iopub.status.idle": "2022-07-30T07:41:11.230056Z",
     "shell.execute_reply": "2022-07-30T07:41:11.228958Z"
    },
    "papermill": {
     "duration": 1.324679,
     "end_time": "2022-07-30T07:41:11.233909",
     "exception": false,
     "start_time": "2022-07-30T07:41:09.909230",
     "status": "completed"
    },
    "tags": []
   },
   "outputs": [
    {
     "data": {
      "image/png": "[encoded data removed]",
      "text/plain": [
       "<Figure size 576x576 with 6 Axes>"
      ]
     },
     "metadata": {},
     "output_type": "display_data"
    }
   ],
   "source": [
    "grid=sns.pairplot(profile, height=4)"
   ]
  },
  {
   "cell_type": "markdown",
   "id": "8aa235ec",
   "metadata": {
    "papermill": {
     "duration": 0.026874,
     "end_time": "2022-07-30T07:41:11.287880",
     "exception": false,
     "start_time": "2022-07-30T07:41:11.261006",
     "status": "completed"
    },
    "tags": []
   },
   "source": [
    "There seems to be some outlier age values."
   ]
  },
  {
   "cell_type": "code",
   "execution_count": 17,
   "id": "29af6569",
   "metadata": {
    "execution": {
     "iopub.execute_input": "2022-07-30T07:41:11.343420Z",
     "iopub.status.busy": "2022-07-30T07:41:11.342748Z",
     "iopub.status.idle": "2022-07-30T07:41:11.779904Z",
     "shell.execute_reply": "2022-07-30T07:41:11.778819Z"
    },
    "papermill": {
     "duration": 0.467264,
     "end_time": "2022-07-30T07:41:11.782075",
     "exception": false,
     "start_time": "2022-07-30T07:41:11.314811",
     "status": "completed"
    },
    "tags": []
   },
   "outputs": [
    {
     "data": {
      "text/plain": [
       "<seaborn.axisgrid.FacetGrid at 0x7fc812171690>"
      ]
     },
     "execution_count": 17,
     "metadata": {},
     "output_type": "execute_result"
    },
    {
     "data": {
      "image/png": "[encoded data removed]",
      "text/plain": [
       "<Figure size 360x360 with 1 Axes>"
      ]
     },
     "metadata": {},
     "output_type": "display_data"
    }
   ],
   "source": [
    "sns.displot(profile.age)"
   ]
  },
  {
   "cell_type": "markdown",
   "id": "4346efd1",
   "metadata": {
    "papermill": {
     "duration": 0.026405,
     "end_time": "2022-07-30T07:41:11.835424",
     "exception": false,
     "start_time": "2022-07-30T07:41:11.809019",
     "status": "completed"
    },
    "tags": []
   },
   "source": [
    "**remove any age values greater than 100 from the dataset**"
   ]
  },
  {
   "cell_type": "code",
   "execution_count": 18,
   "id": "fbdd7a15",
   "metadata": {
    "execution": {
     "iopub.execute_input": "2022-07-30T07:41:11.890938Z",
     "iopub.status.busy": "2022-07-30T07:41:11.890430Z",
     "iopub.status.idle": "2022-07-30T07:41:12.335125Z",
     "shell.execute_reply": "2022-07-30T07:41:12.333950Z"
    },
    "papermill": {
     "duration": 0.475336,
     "end_time": "2022-07-30T07:41:12.337479",
     "exception": false,
     "start_time": "2022-07-30T07:41:11.862143",
     "status": "completed"
    },
    "tags": []
   },
   "outputs": [
    {
     "data": {
      "image/png": "[encoded data removed]",
      "text/plain": [
       "<Figure size 360x360 with 1 Axes>"
      ]
     },
     "metadata": {},
     "output_type": "display_data"
    }
   ],
   "source": [
    "profile.drop(profile[profile.age > 100].index, axis=0, inplace=True)\n",
    "sns.displot(profile.age);"
   ]
  },
  {
   "cell_type": "markdown",
   "id": "536f5bea",
   "metadata": {
    "papermill": {
     "duration": 0.027294,
     "end_time": "2022-07-30T07:41:12.392730",
     "exception": false,
     "start_time": "2022-07-30T07:41:12.365436",
     "status": "completed"
    },
    "tags": []
   },
   "source": [
    "There are no outlier income values"
   ]
  },
  {
   "cell_type": "code",
   "execution_count": 19,
   "id": "4d29b757",
   "metadata": {
    "execution": {
     "iopub.execute_input": "2022-07-30T07:41:12.449229Z",
     "iopub.status.busy": "2022-07-30T07:41:12.448851Z",
     "iopub.status.idle": "2022-07-30T07:41:12.853507Z",
     "shell.execute_reply": "2022-07-30T07:41:12.852681Z"
    },
    "papermill": {
     "duration": 0.435724,
     "end_time": "2022-07-30T07:41:12.855501",
     "exception": false,
     "start_time": "2022-07-30T07:41:12.419777",
     "status": "completed"
    },
    "tags": []
   },
   "outputs": [
    {
     "data": {
      "image/png": "[encoded data removed]",
      "text/plain": [
       "<Figure size 360x360 with 1 Axes>"
      ]
     },
     "metadata": {},
     "output_type": "display_data"
    }
   ],
   "source": [
    "sns.displot(profile.income);"
   ]
  },
  {
   "cell_type": "markdown",
   "id": "a6e02a78",
   "metadata": {
    "papermill": {
     "duration": 0.026447,
     "end_time": "2022-07-30T07:41:12.909289",
     "exception": false,
     "start_time": "2022-07-30T07:41:12.882842",
     "status": "completed"
    },
    "tags": []
   },
   "source": [
    "**EDA**"
   ]
  },
  {
   "cell_type": "markdown",
   "id": "4f0a287d",
   "metadata": {
    "papermill": {
     "duration": 0.027182,
     "end_time": "2022-07-30T07:41:12.963517",
     "exception": false,
     "start_time": "2022-07-30T07:41:12.936335",
     "status": "completed"
    },
    "tags": []
   },
   "source": [
    "Gender distribution\n",
    "\n",
    "There are more males in this dataset than there are females."
   ]
  },
  {
   "cell_type": "code",
   "execution_count": 20,
   "id": "2301ca2a",
   "metadata": {
    "execution": {
     "iopub.execute_input": "2022-07-30T07:41:13.020861Z",
     "iopub.status.busy": "2022-07-30T07:41:13.020216Z",
     "iopub.status.idle": "2022-07-30T07:41:13.335922Z",
     "shell.execute_reply": "2022-07-30T07:41:13.334825Z"
    },
    "papermill": {
     "duration": 0.34787,
     "end_time": "2022-07-30T07:41:13.338869",
     "exception": false,
     "start_time": "2022-07-30T07:41:12.990999",
     "status": "completed"
    },
    "tags": []
   },
   "outputs": [
    {
     "data": {
      "image/png": "[encoded data removed]",
      "text/plain": [
       "<Figure size 360x360 with 1 Axes>"
      ]
     },
     "metadata": {},
     "output_type": "display_data"
    }
   ],
   "source": [
    "sns.displot(profile.gender, height=5);"
   ]
  },
  {
   "cell_type": "markdown",
   "id": "b62c5031",
   "metadata": {
    "papermill": {
     "duration": 0.027215,
     "end_time": "2022-07-30T07:41:13.394440",
     "exception": false,
     "start_time": "2022-07-30T07:41:13.367225",
     "status": "completed"
    },
    "tags": []
   },
   "source": [
    "#### Transcript Dataset"
   ]
  },
  {
   "cell_type": "markdown",
   "id": "c4076e95",
   "metadata": {
    "papermill": {
     "duration": 0.028071,
     "end_time": "2022-07-30T07:41:13.449437",
     "exception": false,
     "start_time": "2022-07-30T07:41:13.421366",
     "status": "completed"
    },
    "tags": []
   },
   "source": [
    "**Cleaning**"
   ]
  },
  {
   "cell_type": "code",
   "execution_count": 21,
   "id": "e4994759",
   "metadata": {
    "execution": {
     "iopub.execute_input": "2022-07-30T07:41:13.506975Z",
     "iopub.status.busy": "2022-07-30T07:41:13.506548Z",
     "iopub.status.idle": "2022-07-30T07:41:13.520469Z",
     "shell.execute_reply": "2022-07-30T07:41:13.519453Z"
    },
    "papermill": {
     "duration": 0.045297,
     "end_time": "2022-07-30T07:41:13.522865",
     "exception": false,
     "start_time": "2022-07-30T07:41:13.477568",
     "status": "completed"
    },
    "tags": []
   },
   "outputs": [
    {
     "name": "stdout",
     "output_type": "stream",
     "text": [
      "Shape: (306534, 4)\n"
     ]
    },
    {
     "data": {
      "text/html": [
       "<div>\n",
       "<style scoped>\n",
       "    .dataframe tbody tr th:only-of-type {\n",
       "        vertical-align: middle;\n",
       "    }\n",
       "\n",
       "    .dataframe tbody tr th {\n",
       "        vertical-align: top;\n",
       "    }\n",
       "\n",
       "    .dataframe thead th {\n",
       "        text-align: right;\n",
       "    }\n",
       "</style>\n",
       "<table border=\"1\" class=\"dataframe\">\n",
       "  <thead>\n",
       "    <tr style=\"text-align: right;\">\n",
       "      <th></th>\n",
       "      <th>person</th>\n",
       "      <th>event</th>\n",
       "      <th>value</th>\n",
       "      <th>time</th>\n",
       "    </tr>\n",
       "  </thead>\n",
       "  <tbody>\n",
       "    <tr>\n",
       "      <th>0</th>\n",
       "      <td>78afa995795e4d85b5d9ceeca43f5fef</td>\n",
       "      <td>offer received</td>\n",
       "      <td>{'offer id': '9b98b8c7a33c4b65b9aebfe6a799e6d9'}</td>\n",
       "      <td>0</td>\n",
       "    </tr>\n",
       "    <tr>\n",
       "      <th>1</th>\n",
       "      <td>a03223e636434f42ac4c3df47e8bac43</td>\n",
       "      <td>offer received</td>\n",
       "      <td>{'offer id': '0b1e1539f2cc45b7b9fa7c272da2e1d7'}</td>\n",
       "      <td>0</td>\n",
       "    </tr>\n",
       "    <tr>\n",
       "      <th>2</th>\n",
       "      <td>e2127556f4f64592b11af22de27a7932</td>\n",
       "      <td>offer received</td>\n",
       "      <td>{'offer id': '2906b810c7d4411798c6938adc9daaa5'}</td>\n",
       "      <td>0</td>\n",
       "    </tr>\n",
       "    <tr>\n",
       "      <th>3</th>\n",
       "      <td>8ec6ce2a7e7949b1bf142def7d0e0586</td>\n",
       "      <td>offer received</td>\n",
       "      <td>{'offer id': 'fafdcd668e3743c1bb461111dcafc2a4'}</td>\n",
       "      <td>0</td>\n",
       "    </tr>\n",
       "    <tr>\n",
       "      <th>4</th>\n",
       "      <td>68617ca6246f4fbc85e91a2a49552598</td>\n",
       "      <td>offer received</td>\n",
       "      <td>{'offer id': '4d5c57ea9a6940dd891ad53e9dbe8da0'}</td>\n",
       "      <td>0</td>\n",
       "    </tr>\n",
       "  </tbody>\n",
       "</table>\n",
       "</div>"
      ],
      "text/plain": [
       "                             person           event  \\\n",
       "0  78afa995795e4d85b5d9ceeca43f5fef  offer received   \n",
       "1  a03223e636434f42ac4c3df47e8bac43  offer received   \n",
       "2  e2127556f4f64592b11af22de27a7932  offer received   \n",
       "3  8ec6ce2a7e7949b1bf142def7d0e0586  offer received   \n",
       "4  68617ca6246f4fbc85e91a2a49552598  offer received   \n",
       "\n",
       "                                              value  time  \n",
       "0  {'offer id': '9b98b8c7a33c4b65b9aebfe6a799e6d9'}     0  \n",
       "1  {'offer id': '0b1e1539f2cc45b7b9fa7c272da2e1d7'}     0  \n",
       "2  {'offer id': '2906b810c7d4411798c6938adc9daaa5'}     0  \n",
       "3  {'offer id': 'fafdcd668e3743c1bb461111dcafc2a4'}     0  \n",
       "4  {'offer id': '4d5c57ea9a6940dd891ad53e9dbe8da0'}     0  "
      ]
     },
     "execution_count": 21,
     "metadata": {},
     "output_type": "execute_result"
    }
   ],
   "source": [
    "print('Shape:',transcript.shape)\n",
    "transcript.head()"
   ]
  },
  {
   "cell_type": "markdown",
   "id": "74c3a4fa",
   "metadata": {
    "papermill": {
     "duration": 0.02796,
     "end_time": "2022-07-30T07:41:13.579313",
     "exception": false,
     "start_time": "2022-07-30T07:41:13.551353",
     "status": "completed"
    },
    "tags": []
   },
   "source": [
    "**Split the value column into different part based on the key**"
   ]
  },
  {
   "cell_type": "code",
   "execution_count": 22,
   "id": "d9e3ebc9",
   "metadata": {
    "execution": {
     "iopub.execute_input": "2022-07-30T07:41:13.637224Z",
     "iopub.status.busy": "2022-07-30T07:41:13.635919Z",
     "iopub.status.idle": "2022-07-30T07:41:13.824639Z",
     "shell.execute_reply": "2022-07-30T07:41:13.823521Z"
    },
    "papermill": {
     "duration": 0.220154,
     "end_time": "2022-07-30T07:41:13.826986",
     "exception": false,
     "start_time": "2022-07-30T07:41:13.606832",
     "status": "completed"
    },
    "tags": []
   },
   "outputs": [
    {
     "data": {
      "text/plain": [
       "{'amount', 'offer id', 'offer_id'}"
      ]
     },
     "execution_count": 22,
     "metadata": {},
     "output_type": "execute_result"
    }
   ],
   "source": [
    "# display the unique keys in the dataset\n",
    "set([list(v.keys())[0] for v in transcript.value])"
   ]
  },
  {
   "cell_type": "code",
   "execution_count": 23,
   "id": "eddccefc",
   "metadata": {
    "execution": {
     "iopub.execute_input": "2022-07-30T07:41:13.884317Z",
     "iopub.status.busy": "2022-07-30T07:41:13.883917Z",
     "iopub.status.idle": "2022-07-30T07:41:14.674437Z",
     "shell.execute_reply": "2022-07-30T07:41:14.673423Z"
    },
    "papermill": {
     "duration": 0.82208,
     "end_time": "2022-07-30T07:41:14.676668",
     "exception": false,
     "start_time": "2022-07-30T07:41:13.854588",
     "status": "completed"
    },
    "tags": []
   },
   "outputs": [
    {
     "data": {
      "text/html": [
       "<div>\n",
       "<style scoped>\n",
       "    .dataframe tbody tr th:only-of-type {\n",
       "        vertical-align: middle;\n",
       "    }\n",
       "\n",
       "    .dataframe tbody tr th {\n",
       "        vertical-align: top;\n",
       "    }\n",
       "\n",
       "    .dataframe thead th {\n",
       "        text-align: right;\n",
       "    }\n",
       "</style>\n",
       "<table border=\"1\" class=\"dataframe\">\n",
       "  <thead>\n",
       "    <tr style=\"text-align: right;\">\n",
       "      <th></th>\n",
       "      <th>person</th>\n",
       "      <th>event</th>\n",
       "      <th>time</th>\n",
       "      <th>offer_id</th>\n",
       "      <th>amount</th>\n",
       "    </tr>\n",
       "  </thead>\n",
       "  <tbody>\n",
       "    <tr>\n",
       "      <th>306454</th>\n",
       "      <td>f3e801caeafe4899b3b989b586e74ac7</td>\n",
       "      <td>transaction</td>\n",
       "      <td>714</td>\n",
       "      <td>No Offer</td>\n",
       "      <td>16.03</td>\n",
       "    </tr>\n",
       "    <tr>\n",
       "      <th>306455</th>\n",
       "      <td>f3e801caeafe4899b3b989b586e74ac7</td>\n",
       "      <td>offer completed</td>\n",
       "      <td>714</td>\n",
       "      <td>0b1e1539f2cc45b7b9fa7c272da2e1d7</td>\n",
       "      <td>0.00</td>\n",
       "    </tr>\n",
       "    <tr>\n",
       "      <th>306456</th>\n",
       "      <td>f3e801caeafe4899b3b989b586e74ac7</td>\n",
       "      <td>offer completed</td>\n",
       "      <td>714</td>\n",
       "      <td>0b1e1539f2cc45b7b9fa7c272da2e1d7</td>\n",
       "      <td>0.00</td>\n",
       "    </tr>\n",
       "    <tr>\n",
       "      <th>306457</th>\n",
       "      <td>dbe4489958bb4e35bcc40fa6e2bc9788</td>\n",
       "      <td>transaction</td>\n",
       "      <td>714</td>\n",
       "      <td>No Offer</td>\n",
       "      <td>20.81</td>\n",
       "    </tr>\n",
       "    <tr>\n",
       "      <th>306458</th>\n",
       "      <td>60f9f0df41b544a5b243952d8a89541c</td>\n",
       "      <td>transaction</td>\n",
       "      <td>714</td>\n",
       "      <td>No Offer</td>\n",
       "      <td>0.64</td>\n",
       "    </tr>\n",
       "    <tr>\n",
       "      <th>...</th>\n",
       "      <td>...</td>\n",
       "      <td>...</td>\n",
       "      <td>...</td>\n",
       "      <td>...</td>\n",
       "      <td>...</td>\n",
       "    </tr>\n",
       "    <tr>\n",
       "      <th>306529</th>\n",
       "      <td>b3a1272bc9904337b331bf348c3e8c17</td>\n",
       "      <td>transaction</td>\n",
       "      <td>714</td>\n",
       "      <td>No Offer</td>\n",
       "      <td>1.59</td>\n",
       "    </tr>\n",
       "    <tr>\n",
       "      <th>306530</th>\n",
       "      <td>68213b08d99a4ae1b0dcb72aebd9aa35</td>\n",
       "      <td>transaction</td>\n",
       "      <td>714</td>\n",
       "      <td>No Offer</td>\n",
       "      <td>9.53</td>\n",
       "    </tr>\n",
       "    <tr>\n",
       "      <th>306531</th>\n",
       "      <td>a00058cf10334a308c68e7631c529907</td>\n",
       "      <td>transaction</td>\n",
       "      <td>714</td>\n",
       "      <td>No Offer</td>\n",
       "      <td>3.61</td>\n",
       "    </tr>\n",
       "    <tr>\n",
       "      <th>306532</th>\n",
       "      <td>76ddbd6576844afe811f1a3c0fbb5bec</td>\n",
       "      <td>transaction</td>\n",
       "      <td>714</td>\n",
       "      <td>No Offer</td>\n",
       "      <td>3.53</td>\n",
       "    </tr>\n",
       "    <tr>\n",
       "      <th>306533</th>\n",
       "      <td>c02b10e8752c4d8e9b73f918558531f7</td>\n",
       "      <td>transaction</td>\n",
       "      <td>714</td>\n",
       "      <td>No Offer</td>\n",
       "      <td>4.05</td>\n",
       "    </tr>\n",
       "  </tbody>\n",
       "</table>\n",
       "<p>80 rows × 5 columns</p>\n",
       "</div>"
      ],
      "text/plain": [
       "                                  person            event  time  \\\n",
       "306454  f3e801caeafe4899b3b989b586e74ac7      transaction   714   \n",
       "306455  f3e801caeafe4899b3b989b586e74ac7  offer completed   714   \n",
       "306456  f3e801caeafe4899b3b989b586e74ac7  offer completed   714   \n",
       "306457  dbe4489958bb4e35bcc40fa6e2bc9788      transaction   714   \n",
       "306458  60f9f0df41b544a5b243952d8a89541c      transaction   714   \n",
       "...                                  ...              ...   ...   \n",
       "306529  b3a1272bc9904337b331bf348c3e8c17      transaction   714   \n",
       "306530  68213b08d99a4ae1b0dcb72aebd9aa35      transaction   714   \n",
       "306531  a00058cf10334a308c68e7631c529907      transaction   714   \n",
       "306532  76ddbd6576844afe811f1a3c0fbb5bec      transaction   714   \n",
       "306533  c02b10e8752c4d8e9b73f918558531f7      transaction   714   \n",
       "\n",
       "                                offer_id  amount  \n",
       "306454                          No Offer   16.03  \n",
       "306455  0b1e1539f2cc45b7b9fa7c272da2e1d7    0.00  \n",
       "306456  0b1e1539f2cc45b7b9fa7c272da2e1d7    0.00  \n",
       "306457                          No Offer   20.81  \n",
       "306458                          No Offer    0.64  \n",
       "...                                  ...     ...  \n",
       "306529                          No Offer    1.59  \n",
       "306530                          No Offer    9.53  \n",
       "306531                          No Offer    3.61  \n",
       "306532                          No Offer    3.53  \n",
       "306533                          No Offer    4.05  \n",
       "\n",
       "[80 rows x 5 columns]"
      ]
     },
     "execution_count": 23,
     "metadata": {},
     "output_type": "execute_result"
    }
   ],
   "source": [
    "# get a list of keys and value in the value column of the transcript dataset\n",
    "key=[list(v.keys())[0] for v in transcript.value]\n",
    "val=[list(v.values())[0] for v in transcript.value]\n",
    "\n",
    "# rename offer id to offer_id\n",
    "key_ren = [v.replace(' ', '_') if v=='offer id' else v for v in key]\n",
    "\n",
    "# create a list of offer ids and amounts\n",
    "cat_val = zip(key_ren, val)\n",
    "offer_ids = []\n",
    "amounts = []\n",
    "\n",
    "for pair in cat_val:\n",
    "    if pair[0] == 'offer_id':\n",
    "        offer_ids.append(pair[1])\n",
    "        amounts.append(0)\n",
    "    else:\n",
    "        offer_ids.append('No Offer')\n",
    "        amounts.append(pair[1])\n",
    "        \n",
    "# add the offer id and amounts column to the transcript dataset\n",
    "transcript['offer_id']=offer_ids\n",
    "transcript['amount']=amounts\n",
    "\n",
    "# drop the value column from the transcript dataset\n",
    "transcript.drop('value', axis=1, inplace=True)\n",
    "\n",
    "transcript.tail(80)"
   ]
  },
  {
   "cell_type": "markdown",
   "id": "e4b00757",
   "metadata": {
    "papermill": {
     "duration": 0.042326,
     "end_time": "2022-07-30T07:41:14.748304",
     "exception": false,
     "start_time": "2022-07-30T07:41:14.705978",
     "status": "completed"
    },
    "tags": []
   },
   "source": [
    "**EDA**"
   ]
  },
  {
   "cell_type": "markdown",
   "id": "af10f7ce",
   "metadata": {
    "papermill": {
     "duration": 0.027576,
     "end_time": "2022-07-30T07:41:14.806056",
     "exception": false,
     "start_time": "2022-07-30T07:41:14.778480",
     "status": "completed"
    },
    "tags": []
   },
   "source": [
    "What is the distribution of transcript event?"
   ]
  },
  {
   "cell_type": "code",
   "execution_count": 24,
   "id": "1d41d820",
   "metadata": {
    "execution": {
     "iopub.execute_input": "2022-07-30T07:41:14.865185Z",
     "iopub.status.busy": "2022-07-30T07:41:14.864744Z",
     "iopub.status.idle": "2022-07-30T07:41:16.016413Z",
     "shell.execute_reply": "2022-07-30T07:41:16.015212Z"
    },
    "papermill": {
     "duration": 1.183845,
     "end_time": "2022-07-30T07:41:16.018711",
     "exception": false,
     "start_time": "2022-07-30T07:41:14.834866",
     "status": "completed"
    },
    "tags": []
   },
   "outputs": [
    {
     "data": {
      "image/png": "[encoded data removed]",
      "text/plain": [
       "<Figure size 432x432 with 1 Axes>"
      ]
     },
     "metadata": {},
     "output_type": "display_data"
    }
   ],
   "source": [
    "sns.displot(transcript.event, height=6)\n",
    "plt.xticks(rotation=25);"
   ]
  },
  {
   "cell_type": "markdown",
   "id": "af019ab9",
   "metadata": {
    "papermill": {
     "duration": 0.02897,
     "end_time": "2022-07-30T07:41:16.077398",
     "exception": false,
     "start_time": "2022-07-30T07:41:16.048428",
     "status": "completed"
    },
    "tags": []
   },
   "source": [
    "There are more transaction order completed withoutany offer, and most offer sent were never completed even when viewed this might be due to a variety of reasons such as the offer not being interesting to the customer."
   ]
  },
  {
   "cell_type": "markdown",
   "id": "3050db82",
   "metadata": {
    "execution": {
     "iopub.execute_input": "2022-07-29T04:31:02.873530Z",
     "iopub.status.busy": "2022-07-29T04:31:02.873124Z",
     "iopub.status.idle": "2022-07-29T04:31:02.957408Z",
     "shell.execute_reply": "2022-07-29T04:31:02.956262Z",
     "shell.execute_reply.started": "2022-07-29T04:31:02.873495Z"
    },
    "papermill": {
     "duration": 0.029452,
     "end_time": "2022-07-30T07:41:16.136566",
     "exception": false,
     "start_time": "2022-07-30T07:41:16.107114",
     "status": "completed"
    },
    "tags": []
   },
   "source": [
    "## Analysis"
   ]
  },
  {
   "cell_type": "markdown",
   "id": "01ee045c",
   "metadata": {
    "papermill": {
     "duration": 0.032491,
     "end_time": "2022-07-30T07:41:16.199838",
     "exception": false,
     "start_time": "2022-07-30T07:41:16.167347",
     "status": "completed"
    },
    "tags": []
   },
   "source": [
    "In this section, i will merge the three dataset and carry out more deeper analysis by answering the following questions in relation to the event that whether an offer is completed or not.\n",
    "1. What is the event distribution by gender and age?\n",
    "2. What is the income level of people who completed the offer and those who do not?\n",
    "3. How does reward, difficlty, duration and offer type affects the event outcome?\n",
    "4. Do recent customers complete more offer than older customers?"
   ]
  },
  {
   "cell_type": "code",
   "execution_count": 25,
   "id": "02d083c2",
   "metadata": {
    "execution": {
     "iopub.execute_input": "2022-07-30T07:41:16.268836Z",
     "iopub.status.busy": "2022-07-30T07:41:16.268434Z",
     "iopub.status.idle": "2022-07-30T07:41:16.659766Z",
     "shell.execute_reply": "2022-07-30T07:41:16.658964Z"
    },
    "papermill": {
     "duration": 0.426824,
     "end_time": "2022-07-30T07:41:16.661683",
     "exception": false,
     "start_time": "2022-07-30T07:41:16.234859",
     "status": "completed"
    },
    "tags": []
   },
   "outputs": [
    {
     "data": {
      "text/html": [
       "<div>\n",
       "<style scoped>\n",
       "    .dataframe tbody tr th:only-of-type {\n",
       "        vertical-align: middle;\n",
       "    }\n",
       "\n",
       "    .dataframe tbody tr th {\n",
       "        vertical-align: top;\n",
       "    }\n",
       "\n",
       "    .dataframe thead th {\n",
       "        text-align: right;\n",
       "    }\n",
       "</style>\n",
       "<table border=\"1\" class=\"dataframe\">\n",
       "  <thead>\n",
       "    <tr style=\"text-align: right;\">\n",
       "      <th></th>\n",
       "      <th>person</th>\n",
       "      <th>event</th>\n",
       "      <th>time</th>\n",
       "      <th>offer_id</th>\n",
       "      <th>amount</th>\n",
       "      <th>gender</th>\n",
       "      <th>age</th>\n",
       "      <th>id_x</th>\n",
       "      <th>became_member_on</th>\n",
       "      <th>income</th>\n",
       "      <th>reward</th>\n",
       "      <th>difficulty</th>\n",
       "      <th>duration</th>\n",
       "      <th>offer_type</th>\n",
       "      <th>id_y</th>\n",
       "      <th>email</th>\n",
       "      <th>web</th>\n",
       "      <th>mobile</th>\n",
       "      <th>social</th>\n",
       "    </tr>\n",
       "  </thead>\n",
       "  <tbody>\n",
       "    <tr>\n",
       "      <th>0</th>\n",
       "      <td>78afa995795e4d85b5d9ceeca43f5fef</td>\n",
       "      <td>offer received</td>\n",
       "      <td>0</td>\n",
       "      <td>9b98b8c7a33c4b65b9aebfe6a799e6d9</td>\n",
       "      <td>0.0</td>\n",
       "      <td>F</td>\n",
       "      <td>75</td>\n",
       "      <td>78afa995795e4d85b5d9ceeca43f5fef</td>\n",
       "      <td>2017-05-09</td>\n",
       "      <td>100000.0</td>\n",
       "      <td>5</td>\n",
       "      <td>5</td>\n",
       "      <td>7</td>\n",
       "      <td>bogo</td>\n",
       "      <td>9b98b8c7a33c4b65b9aebfe6a799e6d9</td>\n",
       "      <td>1</td>\n",
       "      <td>1</td>\n",
       "      <td>1</td>\n",
       "      <td>0</td>\n",
       "    </tr>\n",
       "    <tr>\n",
       "      <th>1</th>\n",
       "      <td>78afa995795e4d85b5d9ceeca43f5fef</td>\n",
       "      <td>offer viewed</td>\n",
       "      <td>6</td>\n",
       "      <td>9b98b8c7a33c4b65b9aebfe6a799e6d9</td>\n",
       "      <td>0.0</td>\n",
       "      <td>F</td>\n",
       "      <td>75</td>\n",
       "      <td>78afa995795e4d85b5d9ceeca43f5fef</td>\n",
       "      <td>2017-05-09</td>\n",
       "      <td>100000.0</td>\n",
       "      <td>5</td>\n",
       "      <td>5</td>\n",
       "      <td>7</td>\n",
       "      <td>bogo</td>\n",
       "      <td>9b98b8c7a33c4b65b9aebfe6a799e6d9</td>\n",
       "      <td>1</td>\n",
       "      <td>1</td>\n",
       "      <td>1</td>\n",
       "      <td>0</td>\n",
       "    </tr>\n",
       "    <tr>\n",
       "      <th>2</th>\n",
       "      <td>78afa995795e4d85b5d9ceeca43f5fef</td>\n",
       "      <td>offer completed</td>\n",
       "      <td>132</td>\n",
       "      <td>9b98b8c7a33c4b65b9aebfe6a799e6d9</td>\n",
       "      <td>0.0</td>\n",
       "      <td>F</td>\n",
       "      <td>75</td>\n",
       "      <td>78afa995795e4d85b5d9ceeca43f5fef</td>\n",
       "      <td>2017-05-09</td>\n",
       "      <td>100000.0</td>\n",
       "      <td>5</td>\n",
       "      <td>5</td>\n",
       "      <td>7</td>\n",
       "      <td>bogo</td>\n",
       "      <td>9b98b8c7a33c4b65b9aebfe6a799e6d9</td>\n",
       "      <td>1</td>\n",
       "      <td>1</td>\n",
       "      <td>1</td>\n",
       "      <td>0</td>\n",
       "    </tr>\n",
       "    <tr>\n",
       "      <th>3</th>\n",
       "      <td>e2127556f4f64592b11af22de27a7932</td>\n",
       "      <td>offer received</td>\n",
       "      <td>408</td>\n",
       "      <td>9b98b8c7a33c4b65b9aebfe6a799e6d9</td>\n",
       "      <td>0.0</td>\n",
       "      <td>M</td>\n",
       "      <td>68</td>\n",
       "      <td>e2127556f4f64592b11af22de27a7932</td>\n",
       "      <td>2018-04-26</td>\n",
       "      <td>70000.0</td>\n",
       "      <td>5</td>\n",
       "      <td>5</td>\n",
       "      <td>7</td>\n",
       "      <td>bogo</td>\n",
       "      <td>9b98b8c7a33c4b65b9aebfe6a799e6d9</td>\n",
       "      <td>1</td>\n",
       "      <td>1</td>\n",
       "      <td>1</td>\n",
       "      <td>0</td>\n",
       "    </tr>\n",
       "    <tr>\n",
       "      <th>4</th>\n",
       "      <td>e2127556f4f64592b11af22de27a7932</td>\n",
       "      <td>offer viewed</td>\n",
       "      <td>420</td>\n",
       "      <td>9b98b8c7a33c4b65b9aebfe6a799e6d9</td>\n",
       "      <td>0.0</td>\n",
       "      <td>M</td>\n",
       "      <td>68</td>\n",
       "      <td>e2127556f4f64592b11af22de27a7932</td>\n",
       "      <td>2018-04-26</td>\n",
       "      <td>70000.0</td>\n",
       "      <td>5</td>\n",
       "      <td>5</td>\n",
       "      <td>7</td>\n",
       "      <td>bogo</td>\n",
       "      <td>9b98b8c7a33c4b65b9aebfe6a799e6d9</td>\n",
       "      <td>1</td>\n",
       "      <td>1</td>\n",
       "      <td>1</td>\n",
       "      <td>0</td>\n",
       "    </tr>\n",
       "  </tbody>\n",
       "</table>\n",
       "</div>"
      ],
      "text/plain": [
       "                             person            event  time  \\\n",
       "0  78afa995795e4d85b5d9ceeca43f5fef   offer received     0   \n",
       "1  78afa995795e4d85b5d9ceeca43f5fef     offer viewed     6   \n",
       "2  78afa995795e4d85b5d9ceeca43f5fef  offer completed   132   \n",
       "3  e2127556f4f64592b11af22de27a7932   offer received   408   \n",
       "4  e2127556f4f64592b11af22de27a7932     offer viewed   420   \n",
       "\n",
       "                           offer_id  amount gender  age  \\\n",
       "0  9b98b8c7a33c4b65b9aebfe6a799e6d9     0.0      F   75   \n",
       "1  9b98b8c7a33c4b65b9aebfe6a799e6d9     0.0      F   75   \n",
       "2  9b98b8c7a33c4b65b9aebfe6a799e6d9     0.0      F   75   \n",
       "3  9b98b8c7a33c4b65b9aebfe6a799e6d9     0.0      M   68   \n",
       "4  9b98b8c7a33c4b65b9aebfe6a799e6d9     0.0      M   68   \n",
       "\n",
       "                               id_x became_member_on    income  reward  \\\n",
       "0  78afa995795e4d85b5d9ceeca43f5fef       2017-05-09  100000.0       5   \n",
       "1  78afa995795e4d85b5d9ceeca43f5fef       2017-05-09  100000.0       5   \n",
       "2  78afa995795e4d85b5d9ceeca43f5fef       2017-05-09  100000.0       5   \n",
       "3  e2127556f4f64592b11af22de27a7932       2018-04-26   70000.0       5   \n",
       "4  e2127556f4f64592b11af22de27a7932       2018-04-26   70000.0       5   \n",
       "\n",
       "   difficulty  duration offer_type                              id_y  email  \\\n",
       "0           5         7       bogo  9b98b8c7a33c4b65b9aebfe6a799e6d9      1   \n",
       "1           5         7       bogo  9b98b8c7a33c4b65b9aebfe6a799e6d9      1   \n",
       "2           5         7       bogo  9b98b8c7a33c4b65b9aebfe6a799e6d9      1   \n",
       "3           5         7       bogo  9b98b8c7a33c4b65b9aebfe6a799e6d9      1   \n",
       "4           5         7       bogo  9b98b8c7a33c4b65b9aebfe6a799e6d9      1   \n",
       "\n",
       "   web  mobile  social  \n",
       "0    1       1       0  \n",
       "1    1       1       0  \n",
       "2    1       1       0  \n",
       "3    1       1       0  \n",
       "4    1       1       0  "
      ]
     },
     "execution_count": 25,
     "metadata": {},
     "output_type": "execute_result"
    }
   ],
   "source": [
    "# join the 3 dataset into one using inner join to get only those offer transcript present in the perseon and portfolio dataframe\n",
    "starbucks_df = transcript.merge(profile, left_on='person', right_on='id').merge(portfolio, left_on='offer_id', right_on='id')\n",
    "starbucks_df.head()"
   ]
  },
  {
   "cell_type": "code",
   "execution_count": 26,
   "id": "f195ff0d",
   "metadata": {
    "execution": {
     "iopub.execute_input": "2022-07-30T07:41:16.723721Z",
     "iopub.status.busy": "2022-07-30T07:41:16.723035Z",
     "iopub.status.idle": "2022-07-30T07:41:16.805614Z",
     "shell.execute_reply": "2022-07-30T07:41:16.804529Z"
    },
    "papermill": {
     "duration": 0.116184,
     "end_time": "2022-07-30T07:41:16.807881",
     "exception": false,
     "start_time": "2022-07-30T07:41:16.691697",
     "status": "completed"
    },
    "tags": []
   },
   "outputs": [
    {
     "data": {
      "text/html": [
       "<div>\n",
       "<style scoped>\n",
       "    .dataframe tbody tr th:only-of-type {\n",
       "        vertical-align: middle;\n",
       "    }\n",
       "\n",
       "    .dataframe tbody tr th {\n",
       "        vertical-align: top;\n",
       "    }\n",
       "\n",
       "    .dataframe thead th {\n",
       "        text-align: right;\n",
       "    }\n",
       "</style>\n",
       "<table border=\"1\" class=\"dataframe\">\n",
       "  <thead>\n",
       "    <tr style=\"text-align: right;\">\n",
       "      <th></th>\n",
       "      <th>event</th>\n",
       "      <th>gender</th>\n",
       "      <th>age</th>\n",
       "      <th>became_member_on</th>\n",
       "      <th>income</th>\n",
       "      <th>reward</th>\n",
       "      <th>difficulty</th>\n",
       "      <th>duration</th>\n",
       "      <th>offer_type</th>\n",
       "      <th>email</th>\n",
       "      <th>web</th>\n",
       "      <th>mobile</th>\n",
       "      <th>social</th>\n",
       "    </tr>\n",
       "  </thead>\n",
       "  <tbody>\n",
       "    <tr>\n",
       "      <th>0</th>\n",
       "      <td>offer received</td>\n",
       "      <td>F</td>\n",
       "      <td>75</td>\n",
       "      <td>2017-05-09</td>\n",
       "      <td>100000.0</td>\n",
       "      <td>5</td>\n",
       "      <td>5</td>\n",
       "      <td>7</td>\n",
       "      <td>bogo</td>\n",
       "      <td>1</td>\n",
       "      <td>1</td>\n",
       "      <td>1</td>\n",
       "      <td>0</td>\n",
       "    </tr>\n",
       "    <tr>\n",
       "      <th>1</th>\n",
       "      <td>offer viewed</td>\n",
       "      <td>F</td>\n",
       "      <td>75</td>\n",
       "      <td>2017-05-09</td>\n",
       "      <td>100000.0</td>\n",
       "      <td>5</td>\n",
       "      <td>5</td>\n",
       "      <td>7</td>\n",
       "      <td>bogo</td>\n",
       "      <td>1</td>\n",
       "      <td>1</td>\n",
       "      <td>1</td>\n",
       "      <td>0</td>\n",
       "    </tr>\n",
       "    <tr>\n",
       "      <th>2</th>\n",
       "      <td>offer completed</td>\n",
       "      <td>F</td>\n",
       "      <td>75</td>\n",
       "      <td>2017-05-09</td>\n",
       "      <td>100000.0</td>\n",
       "      <td>5</td>\n",
       "      <td>5</td>\n",
       "      <td>7</td>\n",
       "      <td>bogo</td>\n",
       "      <td>1</td>\n",
       "      <td>1</td>\n",
       "      <td>1</td>\n",
       "      <td>0</td>\n",
       "    </tr>\n",
       "    <tr>\n",
       "      <th>3</th>\n",
       "      <td>offer received</td>\n",
       "      <td>M</td>\n",
       "      <td>68</td>\n",
       "      <td>2018-04-26</td>\n",
       "      <td>70000.0</td>\n",
       "      <td>5</td>\n",
       "      <td>5</td>\n",
       "      <td>7</td>\n",
       "      <td>bogo</td>\n",
       "      <td>1</td>\n",
       "      <td>1</td>\n",
       "      <td>1</td>\n",
       "      <td>0</td>\n",
       "    </tr>\n",
       "    <tr>\n",
       "      <th>4</th>\n",
       "      <td>offer viewed</td>\n",
       "      <td>M</td>\n",
       "      <td>68</td>\n",
       "      <td>2018-04-26</td>\n",
       "      <td>70000.0</td>\n",
       "      <td>5</td>\n",
       "      <td>5</td>\n",
       "      <td>7</td>\n",
       "      <td>bogo</td>\n",
       "      <td>1</td>\n",
       "      <td>1</td>\n",
       "      <td>1</td>\n",
       "      <td>0</td>\n",
       "    </tr>\n",
       "  </tbody>\n",
       "</table>\n",
       "</div>"
      ],
      "text/plain": [
       "             event gender  age became_member_on    income  reward  difficulty  \\\n",
       "0   offer received      F   75       2017-05-09  100000.0       5           5   \n",
       "1     offer viewed      F   75       2017-05-09  100000.0       5           5   \n",
       "2  offer completed      F   75       2017-05-09  100000.0       5           5   \n",
       "3   offer received      M   68       2018-04-26   70000.0       5           5   \n",
       "4     offer viewed      M   68       2018-04-26   70000.0       5           5   \n",
       "\n",
       "   duration offer_type  email  web  mobile  social  \n",
       "0         7       bogo      1    1       1       0  \n",
       "1         7       bogo      1    1       1       0  \n",
       "2         7       bogo      1    1       1       0  \n",
       "3         7       bogo      1    1       1       0  \n",
       "4         7       bogo      1    1       1       0  "
      ]
     },
     "execution_count": 26,
     "metadata": {},
     "output_type": "execute_result"
    }
   ],
   "source": [
    "# drop columns not relevant to the analysis\n",
    "starbucks_df=starbucks_df.drop(['person', 'offer_id', 'id_x', 'id_y', 'amount', 'time'], axis=1)\n",
    "starbucks_df.head()"
   ]
  },
  {
   "cell_type": "markdown",
   "id": "0992c950",
   "metadata": {
    "papermill": {
     "duration": 0.029523,
     "end_time": "2022-07-30T07:41:16.867394",
     "exception": false,
     "start_time": "2022-07-30T07:41:16.837871",
     "status": "completed"
    },
    "tags": []
   },
   "source": [
    "**Q1: What is the event distribution by gender and age?**"
   ]
  },
  {
   "cell_type": "code",
   "execution_count": 27,
   "id": "0f17bfc9",
   "metadata": {
    "execution": {
     "iopub.execute_input": "2022-07-30T07:41:16.928269Z",
     "iopub.status.busy": "2022-07-30T07:41:16.927379Z",
     "iopub.status.idle": "2022-07-30T07:41:19.613429Z",
     "shell.execute_reply": "2022-07-30T07:41:19.612443Z"
    },
    "papermill": {
     "duration": 2.718941,
     "end_time": "2022-07-30T07:41:19.615871",
     "exception": false,
     "start_time": "2022-07-30T07:41:16.896930",
     "status": "completed"
    },
    "tags": []
   },
   "outputs": [
    {
     "data": {
      "image/png": "[encoded data removed]",
      "text/plain": [
       "<Figure size 1131.43x360 with 3 Axes>"
      ]
     },
     "metadata": {},
     "output_type": "display_data"
    }
   ],
   "source": [
    "grid= sns.FacetGrid(starbucks_df, col='event', hue='gender', height=5)\n",
    "grid.map(plt.hist, 'age').add_legend();"
   ]
  },
  {
   "cell_type": "markdown",
   "id": "1d2217fb",
   "metadata": {
    "papermill": {
     "duration": 0.030008,
     "end_time": "2022-07-30T07:41:19.676499",
     "exception": false,
     "start_time": "2022-07-30T07:41:19.646491",
     "status": "completed"
    },
    "tags": []
   },
   "source": [
    "There are two things to notice from the plot above\n",
    "1. Most of the sent offers are to the male gender\n",
    "2. Most of the offers completed or not completed are from those between the age of 40 to 80 years."
   ]
  },
  {
   "cell_type": "markdown",
   "id": "8c9563ad",
   "metadata": {
    "papermill": {
     "duration": 0.031188,
     "end_time": "2022-07-30T07:41:19.738120",
     "exception": false,
     "start_time": "2022-07-30T07:41:19.706932",
     "status": "completed"
    },
    "tags": []
   },
   "source": [
    "**Q2: What is the income level of people who completed the offer and those who do not?**"
   ]
  },
  {
   "cell_type": "code",
   "execution_count": 28,
   "id": "fa322cd8",
   "metadata": {
    "execution": {
     "iopub.execute_input": "2022-07-30T07:41:19.801659Z",
     "iopub.status.busy": "2022-07-30T07:41:19.800974Z",
     "iopub.status.idle": "2022-07-30T07:41:21.854832Z",
     "shell.execute_reply": "2022-07-30T07:41:21.853604Z"
    },
    "papermill": {
     "duration": 2.089143,
     "end_time": "2022-07-30T07:41:21.857588",
     "exception": false,
     "start_time": "2022-07-30T07:41:19.768445",
     "status": "completed"
    },
    "tags": []
   },
   "outputs": [
    {
     "data": {
      "image/png": "[encoded data removed]",
      "text/plain": [
       "<Figure size 432x288 with 1 Axes>"
      ]
     },
     "metadata": {},
     "output_type": "display_data"
    }
   ],
   "source": [
    "sns.barplot(data=starbucks_df, x='event', y='income', color=sns.color_palette()[0], ci=0);"
   ]
  },
  {
   "cell_type": "markdown",
   "id": "ea995b75",
   "metadata": {
    "papermill": {
     "duration": 0.03193,
     "end_time": "2022-07-30T07:41:21.921052",
     "exception": false,
     "start_time": "2022-07-30T07:41:21.889122",
     "status": "completed"
    },
    "tags": []
   },
   "source": [
    "The completed offers are from those with higher income levels."
   ]
  },
  {
   "cell_type": "markdown",
   "id": "7522b4d2",
   "metadata": {
    "papermill": {
     "duration": 0.031582,
     "end_time": "2022-07-30T07:41:21.983776",
     "exception": false,
     "start_time": "2022-07-30T07:41:21.952194",
     "status": "completed"
    },
    "tags": []
   },
   "source": [
    "**Q3: How does reward, difficulty, duration and offer type affects the event outcome?**"
   ]
  },
  {
   "cell_type": "code",
   "execution_count": 29,
   "id": "4f27162a",
   "metadata": {
    "execution": {
     "iopub.execute_input": "2022-07-30T07:41:22.048133Z",
     "iopub.status.busy": "2022-07-30T07:41:22.047742Z",
     "iopub.status.idle": "2022-07-30T07:41:24.534163Z",
     "shell.execute_reply": "2022-07-30T07:41:24.533380Z"
    },
    "papermill": {
     "duration": 2.521381,
     "end_time": "2022-07-30T07:41:24.536775",
     "exception": false,
     "start_time": "2022-07-30T07:41:22.015394",
     "status": "completed"
    },
    "tags": []
   },
   "outputs": [
    {
     "data": {
      "image/png": "[encoded data removed]",
      "text/plain": [
       "<Figure size 977.475x288 with 3 Axes>"
      ]
     },
     "metadata": {},
     "output_type": "display_data"
    }
   ],
   "source": [
    "grid=sns.FacetGrid(starbucks_df, col='event', hue='offer_type', height=4)\n",
    "grid.map(plt.hist, 'reward').add_legend();"
   ]
  },
  {
   "cell_type": "code",
   "execution_count": 30,
   "id": "b37c3323",
   "metadata": {
    "execution": {
     "iopub.execute_input": "2022-07-30T07:41:24.614540Z",
     "iopub.status.busy": "2022-07-30T07:41:24.613889Z",
     "iopub.status.idle": "2022-07-30T07:41:27.261681Z",
     "shell.execute_reply": "2022-07-30T07:41:27.260237Z"
    },
    "papermill": {
     "duration": 2.692212,
     "end_time": "2022-07-30T07:41:27.264223",
     "exception": false,
     "start_time": "2022-07-30T07:41:24.572011",
     "status": "completed"
    },
    "tags": []
   },
   "outputs": [
    {
     "data": {
      "image/png": "[encoded data removed]",
      "text/plain": [
       "<Figure size 977.475x288 with 3 Axes>"
      ]
     },
     "metadata": {},
     "output_type": "display_data"
    }
   ],
   "source": [
    "grid=sns.FacetGrid(starbucks_df, col='event', hue='offer_type', height=4)\n",
    "grid.map(plt.hist, 'duration').add_legend();"
   ]
  },
  {
   "cell_type": "code",
   "execution_count": 31,
   "id": "d5c19de2",
   "metadata": {
    "execution": {
     "iopub.execute_input": "2022-07-30T07:41:27.327972Z",
     "iopub.status.busy": "2022-07-30T07:41:27.327616Z",
     "iopub.status.idle": "2022-07-30T07:41:29.757534Z",
     "shell.execute_reply": "2022-07-30T07:41:29.756486Z"
    },
    "papermill": {
     "duration": 2.464587,
     "end_time": "2022-07-30T07:41:29.759959",
     "exception": false,
     "start_time": "2022-07-30T07:41:27.295372",
     "status": "completed"
    },
    "tags": []
   },
   "outputs": [
    {
     "data": {
      "image/png": "[encoded data removed]",
      "text/plain": [
       "<Figure size 977.475x288 with 3 Axes>"
      ]
     },
     "metadata": {},
     "output_type": "display_data"
    }
   ],
   "source": [
    "grid=sns.FacetGrid(starbucks_df, col='event', hue='offer_type', height=4)\n",
    "grid.map(plt.hist, 'difficulty').add_legend();"
   ]
  },
  {
   "cell_type": "markdown",
   "id": "62110fba",
   "metadata": {
    "papermill": {
     "duration": 0.032054,
     "end_time": "2022-07-30T07:41:29.823721",
     "exception": false,
     "start_time": "2022-07-30T07:41:29.791667",
     "status": "completed"
    },
    "tags": []
   },
   "source": [
    "Keeping in mind that there are more incomplete offer in this dataset than there are complete offers, we can notice the following about the completed offers from the above three plots.\n",
    "1. Most completed bogo offer are ones with reward between 4 and 6, duration between 5 and 7 and difficulty less than 10.\n",
    "2. Most completed discount offers are ones with reward between 2 and 6, duration between 6 and 10 and difficulty greater than 10.\n",
    "3. There are no completed informational offer and this is to be expected as the offer exist to provide \n",
    "   information and are not meant to be completed hence they do not show up in the difficulty plot."
   ]
  },
  {
   "cell_type": "markdown",
   "id": "3b97f3a4",
   "metadata": {
    "papermill": {
     "duration": 0.031832,
     "end_time": "2022-07-30T07:41:29.887460",
     "exception": false,
     "start_time": "2022-07-30T07:41:29.855628",
     "status": "completed"
    },
    "tags": []
   },
   "source": [
    "**Q4: Do recent customers complete more offer than older customers?**"
   ]
  },
  {
   "cell_type": "code",
   "execution_count": 32,
   "id": "3c1b68ca",
   "metadata": {
    "execution": {
     "iopub.execute_input": "2022-07-30T07:41:29.954008Z",
     "iopub.status.busy": "2022-07-30T07:41:29.953617Z",
     "iopub.status.idle": "2022-07-30T07:41:32.479215Z",
     "shell.execute_reply": "2022-07-30T07:41:32.478236Z"
    },
    "papermill": {
     "duration": 2.562753,
     "end_time": "2022-07-30T07:41:32.482701",
     "exception": false,
     "start_time": "2022-07-30T07:41:29.919948",
     "status": "completed"
    },
    "tags": []
   },
   "outputs": [
    {
     "data": {
      "image/png": "[encoded data removed]",
      "text/plain": [
       "<Figure size 864x288 with 3 Axes>"
      ]
     },
     "metadata": {},
     "output_type": "display_data"
    }
   ],
   "source": [
    "grid=sns.FacetGrid(data=starbucks_df, col='event', height=4)\n",
    "grid.map(plt.hist, 'became_member_on');"
   ]
  },
  {
   "cell_type": "markdown",
   "id": "42cca157",
   "metadata": {
    "papermill": {
     "duration": 0.033277,
     "end_time": "2022-07-30T07:41:32.549212",
     "exception": false,
     "start_time": "2022-07-30T07:41:32.515935",
     "status": "completed"
    },
    "tags": []
   },
   "source": [
    "Most completed offers are from offers sent to customers who joined between the year 2016 and 2018 though the same is true for the uncompleted offers but what this shows is that most offers are sent to customers who joined between the last two years."
   ]
  },
  {
   "cell_type": "markdown",
   "id": "2c5109fa",
   "metadata": {
    "papermill": {
     "duration": 0.0323,
     "end_time": "2022-07-30T07:41:32.614528",
     "exception": false,
     "start_time": "2022-07-30T07:41:32.582228",
     "status": "completed"
    },
    "tags": []
   },
   "source": [
    "### Modelling"
   ]
  },
  {
   "cell_type": "markdown",
   "id": "e137e00f",
   "metadata": {
    "papermill": {
     "duration": 0.031195,
     "end_time": "2022-07-30T07:41:32.676889",
     "exception": false,
     "start_time": "2022-07-30T07:41:32.645694",
     "status": "completed"
    },
    "tags": []
   },
   "source": [
    "In this section, i will be preparing the dataset for machine learning. Some of the steps that will be taken includes\n",
    "1. Identify and clean the target variable.\n",
    "2. Encode the categorical predictor variables.\n",
    "3. Use the insights gained from the analysis to select the data that will be used for the machine learning model."
   ]
  },
  {
   "cell_type": "code",
   "execution_count": 33,
   "id": "4e52d9e5",
   "metadata": {
    "execution": {
     "iopub.execute_input": "2022-07-30T07:41:32.743168Z",
     "iopub.status.busy": "2022-07-30T07:41:32.742466Z",
     "iopub.status.idle": "2022-07-30T07:41:32.758138Z",
     "shell.execute_reply": "2022-07-30T07:41:32.757102Z"
    },
    "papermill": {
     "duration": 0.051123,
     "end_time": "2022-07-30T07:41:32.760358",
     "exception": false,
     "start_time": "2022-07-30T07:41:32.709235",
     "status": "completed"
    },
    "tags": []
   },
   "outputs": [
    {
     "data": {
      "text/html": [
       "<div>\n",
       "<style scoped>\n",
       "    .dataframe tbody tr th:only-of-type {\n",
       "        vertical-align: middle;\n",
       "    }\n",
       "\n",
       "    .dataframe tbody tr th {\n",
       "        vertical-align: top;\n",
       "    }\n",
       "\n",
       "    .dataframe thead th {\n",
       "        text-align: right;\n",
       "    }\n",
       "</style>\n",
       "<table border=\"1\" class=\"dataframe\">\n",
       "  <thead>\n",
       "    <tr style=\"text-align: right;\">\n",
       "      <th></th>\n",
       "      <th>event</th>\n",
       "      <th>gender</th>\n",
       "      <th>age</th>\n",
       "      <th>became_member_on</th>\n",
       "      <th>income</th>\n",
       "      <th>reward</th>\n",
       "      <th>difficulty</th>\n",
       "      <th>duration</th>\n",
       "      <th>offer_type</th>\n",
       "      <th>email</th>\n",
       "      <th>web</th>\n",
       "      <th>mobile</th>\n",
       "      <th>social</th>\n",
       "    </tr>\n",
       "  </thead>\n",
       "  <tbody>\n",
       "    <tr>\n",
       "      <th>0</th>\n",
       "      <td>offer received</td>\n",
       "      <td>F</td>\n",
       "      <td>75</td>\n",
       "      <td>2017-05-09</td>\n",
       "      <td>100000.0</td>\n",
       "      <td>5</td>\n",
       "      <td>5</td>\n",
       "      <td>7</td>\n",
       "      <td>bogo</td>\n",
       "      <td>1</td>\n",
       "      <td>1</td>\n",
       "      <td>1</td>\n",
       "      <td>0</td>\n",
       "    </tr>\n",
       "    <tr>\n",
       "      <th>1</th>\n",
       "      <td>offer viewed</td>\n",
       "      <td>F</td>\n",
       "      <td>75</td>\n",
       "      <td>2017-05-09</td>\n",
       "      <td>100000.0</td>\n",
       "      <td>5</td>\n",
       "      <td>5</td>\n",
       "      <td>7</td>\n",
       "      <td>bogo</td>\n",
       "      <td>1</td>\n",
       "      <td>1</td>\n",
       "      <td>1</td>\n",
       "      <td>0</td>\n",
       "    </tr>\n",
       "    <tr>\n",
       "      <th>2</th>\n",
       "      <td>offer completed</td>\n",
       "      <td>F</td>\n",
       "      <td>75</td>\n",
       "      <td>2017-05-09</td>\n",
       "      <td>100000.0</td>\n",
       "      <td>5</td>\n",
       "      <td>5</td>\n",
       "      <td>7</td>\n",
       "      <td>bogo</td>\n",
       "      <td>1</td>\n",
       "      <td>1</td>\n",
       "      <td>1</td>\n",
       "      <td>0</td>\n",
       "    </tr>\n",
       "    <tr>\n",
       "      <th>3</th>\n",
       "      <td>offer received</td>\n",
       "      <td>M</td>\n",
       "      <td>68</td>\n",
       "      <td>2018-04-26</td>\n",
       "      <td>70000.0</td>\n",
       "      <td>5</td>\n",
       "      <td>5</td>\n",
       "      <td>7</td>\n",
       "      <td>bogo</td>\n",
       "      <td>1</td>\n",
       "      <td>1</td>\n",
       "      <td>1</td>\n",
       "      <td>0</td>\n",
       "    </tr>\n",
       "    <tr>\n",
       "      <th>4</th>\n",
       "      <td>offer viewed</td>\n",
       "      <td>M</td>\n",
       "      <td>68</td>\n",
       "      <td>2018-04-26</td>\n",
       "      <td>70000.0</td>\n",
       "      <td>5</td>\n",
       "      <td>5</td>\n",
       "      <td>7</td>\n",
       "      <td>bogo</td>\n",
       "      <td>1</td>\n",
       "      <td>1</td>\n",
       "      <td>1</td>\n",
       "      <td>0</td>\n",
       "    </tr>\n",
       "  </tbody>\n",
       "</table>\n",
       "</div>"
      ],
      "text/plain": [
       "             event gender  age became_member_on    income  reward  difficulty  \\\n",
       "0   offer received      F   75       2017-05-09  100000.0       5           5   \n",
       "1     offer viewed      F   75       2017-05-09  100000.0       5           5   \n",
       "2  offer completed      F   75       2017-05-09  100000.0       5           5   \n",
       "3   offer received      M   68       2018-04-26   70000.0       5           5   \n",
       "4     offer viewed      M   68       2018-04-26   70000.0       5           5   \n",
       "\n",
       "   duration offer_type  email  web  mobile  social  \n",
       "0         7       bogo      1    1       1       0  \n",
       "1         7       bogo      1    1       1       0  \n",
       "2         7       bogo      1    1       1       0  \n",
       "3         7       bogo      1    1       1       0  \n",
       "4         7       bogo      1    1       1       0  "
      ]
     },
     "execution_count": 33,
     "metadata": {},
     "output_type": "execute_result"
    }
   ],
   "source": [
    "# print the dataframe again for easy assess\n",
    "starbucks_df.head()"
   ]
  },
  {
   "cell_type": "code",
   "execution_count": 34,
   "id": "fcdbb525",
   "metadata": {
    "execution": {
     "iopub.execute_input": "2022-07-30T07:41:32.826858Z",
     "iopub.status.busy": "2022-07-30T07:41:32.826466Z",
     "iopub.status.idle": "2022-07-30T07:41:32.894617Z",
     "shell.execute_reply": "2022-07-30T07:41:32.893828Z"
    },
    "papermill": {
     "duration": 0.104041,
     "end_time": "2022-07-30T07:41:32.896548",
     "exception": false,
     "start_time": "2022-07-30T07:41:32.792507",
     "status": "completed"
    },
    "tags": []
   },
   "outputs": [
    {
     "data": {
      "text/plain": [
       "event               0\n",
       "gender              0\n",
       "age                 0\n",
       "became_member_on    0\n",
       "income              0\n",
       "reward              0\n",
       "difficulty          0\n",
       "duration            0\n",
       "offer_type          0\n",
       "email               0\n",
       "web                 0\n",
       "mobile              0\n",
       "social              0\n",
       "dtype: int64"
      ]
     },
     "execution_count": 34,
     "metadata": {},
     "output_type": "execute_result"
    }
   ],
   "source": [
    "# check for null values\n",
    "starbucks_df.isna().sum()"
   ]
  },
  {
   "cell_type": "markdown",
   "id": "eb42c355",
   "metadata": {
    "papermill": {
     "duration": 0.032873,
     "end_time": "2022-07-30T07:41:32.961663",
     "exception": false,
     "start_time": "2022-07-30T07:41:32.928790",
     "status": "completed"
    },
    "tags": []
   },
   "source": [
    "As the goal of this project is to predict whether a customer responds to an offer or not, this means the target variable is the `event column` of the `starbucks_df`. Investigating this column below, we now see that we only have three possible outcomes after merging the 3 dataset as the transaction events (**purchase withotut offers**) have been removed from the dataframe."
   ]
  },
  {
   "cell_type": "code",
   "execution_count": 35,
   "id": "624ac003",
   "metadata": {
    "execution": {
     "iopub.execute_input": "2022-07-30T07:41:33.031086Z",
     "iopub.status.busy": "2022-07-30T07:41:33.029949Z",
     "iopub.status.idle": "2022-07-30T07:41:33.720767Z",
     "shell.execute_reply": "2022-07-30T07:41:33.719657Z"
    },
    "papermill": {
     "duration": 0.727884,
     "end_time": "2022-07-30T07:41:33.723076",
     "exception": false,
     "start_time": "2022-07-30T07:41:32.995192",
     "status": "completed"
    },
    "tags": []
   },
   "outputs": [
    {
     "data": {
      "image/png": "[encoded data removed]",
      "text/plain": [
       "<Figure size 432x432 with 1 Axes>"
      ]
     },
     "metadata": {},
     "output_type": "display_data"
    }
   ],
   "source": [
    "sns.displot(data=starbucks_df, x='event', height=6);"
   ]
  },
  {
   "cell_type": "markdown",
   "id": "34ad23bd",
   "metadata": {
    "papermill": {
     "duration": 0.031532,
     "end_time": "2022-07-30T07:41:33.786669",
     "exception": false,
     "start_time": "2022-07-30T07:41:33.755137",
     "status": "completed"
    },
    "tags": []
   },
   "source": [
    "I will reduce this to only two categories, **completed**(1) and not **completed**(0)"
   ]
  },
  {
   "cell_type": "code",
   "execution_count": 36,
   "id": "ba57312b",
   "metadata": {
    "execution": {
     "iopub.execute_input": "2022-07-30T07:41:33.852562Z",
     "iopub.status.busy": "2022-07-30T07:41:33.851427Z",
     "iopub.status.idle": "2022-07-30T07:41:33.975987Z",
     "shell.execute_reply": "2022-07-30T07:41:33.975086Z"
    },
    "papermill": {
     "duration": 0.160084,
     "end_time": "2022-07-30T07:41:33.978462",
     "exception": false,
     "start_time": "2022-07-30T07:41:33.818378",
     "status": "completed"
    },
    "tags": []
   },
   "outputs": [],
   "source": [
    "starbucks_df.event=starbucks_df.event.apply(lambda x: 1 if x == 'offer completed' else 2)"
   ]
  },
  {
   "cell_type": "code",
   "execution_count": 37,
   "id": "1acd3a8e",
   "metadata": {
    "execution": {
     "iopub.execute_input": "2022-07-30T07:41:34.047337Z",
     "iopub.status.busy": "2022-07-30T07:41:34.046370Z",
     "iopub.status.idle": "2022-07-30T07:41:34.055297Z",
     "shell.execute_reply": "2022-07-30T07:41:34.054484Z"
    },
    "papermill": {
     "duration": 0.044946,
     "end_time": "2022-07-30T07:41:34.057358",
     "exception": false,
     "start_time": "2022-07-30T07:41:34.012412",
     "status": "completed"
    },
    "tags": []
   },
   "outputs": [
    {
     "data": {
      "text/plain": [
       "2    116322\n",
       "1     32432\n",
       "Name: event, dtype: int64"
      ]
     },
     "execution_count": 37,
     "metadata": {},
     "output_type": "execute_result"
    }
   ],
   "source": [
    "# check\n",
    "starbucks_df.event.value_counts()"
   ]
  },
  {
   "cell_type": "code",
   "execution_count": 38,
   "id": "a462b1fe",
   "metadata": {
    "execution": {
     "iopub.execute_input": "2022-07-30T07:41:34.126470Z",
     "iopub.status.busy": "2022-07-30T07:41:34.125794Z",
     "iopub.status.idle": "2022-07-30T07:41:34.145129Z",
     "shell.execute_reply": "2022-07-30T07:41:34.144103Z"
    },
    "papermill": {
     "duration": 0.056471,
     "end_time": "2022-07-30T07:41:34.147281",
     "exception": false,
     "start_time": "2022-07-30T07:41:34.090810",
     "status": "completed"
    },
    "tags": []
   },
   "outputs": [],
   "source": [
    "# extract year and month from the became_memeber_on date column\n",
    "# source: https://stackoverflow.com/questions/13648774/get-year-month-or-day-from-numpy-datetime64\n",
    "dates=starbucks_df['became_member_on'].values\n",
    "\n",
    "years = dates.astype('datetime64[Y]').astype(int) + 1970\n",
    "months = dates.astype('datetime64[M]').astype(int) % 12 + 1"
   ]
  },
  {
   "cell_type": "code",
   "execution_count": 39,
   "id": "b1cdd253",
   "metadata": {
    "execution": {
     "iopub.execute_input": "2022-07-30T07:41:34.214881Z",
     "iopub.status.busy": "2022-07-30T07:41:34.214483Z",
     "iopub.status.idle": "2022-07-30T07:41:34.220743Z",
     "shell.execute_reply": "2022-07-30T07:41:34.219882Z"
    },
    "papermill": {
     "duration": 0.042382,
     "end_time": "2022-07-30T07:41:34.222600",
     "exception": false,
     "start_time": "2022-07-30T07:41:34.180218",
     "status": "completed"
    },
    "tags": []
   },
   "outputs": [],
   "source": [
    "starbucks_df['year'] = years\n",
    "starbucks_df['month']=months"
   ]
  },
  {
   "cell_type": "code",
   "execution_count": 40,
   "id": "aa946af0",
   "metadata": {
    "execution": {
     "iopub.execute_input": "2022-07-30T07:41:34.292863Z",
     "iopub.status.busy": "2022-07-30T07:41:34.291802Z",
     "iopub.status.idle": "2022-07-30T07:41:34.309855Z",
     "shell.execute_reply": "2022-07-30T07:41:34.308967Z"
    },
    "papermill": {
     "duration": 0.055116,
     "end_time": "2022-07-30T07:41:34.312153",
     "exception": false,
     "start_time": "2022-07-30T07:41:34.257037",
     "status": "completed"
    },
    "tags": []
   },
   "outputs": [],
   "source": [
    "# drop the became_member_on column\n",
    "starbucks_df.drop('became_member_on', axis=1, inplace=True)"
   ]
  },
  {
   "cell_type": "code",
   "execution_count": 41,
   "id": "1cfe1aa2",
   "metadata": {
    "execution": {
     "iopub.execute_input": "2022-07-30T07:41:34.379409Z",
     "iopub.status.busy": "2022-07-30T07:41:34.378741Z",
     "iopub.status.idle": "2022-07-30T07:41:34.402974Z",
     "shell.execute_reply": "2022-07-30T07:41:34.402005Z"
    },
    "papermill": {
     "duration": 0.060465,
     "end_time": "2022-07-30T07:41:34.405100",
     "exception": false,
     "start_time": "2022-07-30T07:41:34.344635",
     "status": "completed"
    },
    "tags": []
   },
   "outputs": [
    {
     "data": {
      "text/plain": [
       "M    82896\n",
       "F    63668\n",
       "O     2190\n",
       "Name: gender, dtype: int64"
      ]
     },
     "execution_count": 41,
     "metadata": {},
     "output_type": "execute_result"
    }
   ],
   "source": [
    "starbucks_df.gender.value_counts()"
   ]
  },
  {
   "cell_type": "code",
   "execution_count": 42,
   "id": "1f4dcf02",
   "metadata": {
    "execution": {
     "iopub.execute_input": "2022-07-30T07:41:34.471974Z",
     "iopub.status.busy": "2022-07-30T07:41:34.471572Z",
     "iopub.status.idle": "2022-07-30T07:41:34.568631Z",
     "shell.execute_reply": "2022-07-30T07:41:34.567527Z"
    },
    "papermill": {
     "duration": 0.13314,
     "end_time": "2022-07-30T07:41:34.571059",
     "exception": false,
     "start_time": "2022-07-30T07:41:34.437919",
     "status": "completed"
    },
    "tags": []
   },
   "outputs": [],
   "source": [
    "# onehot encode the gender column\n",
    "def encode_gender(x):\n",
    "    if x == 'M':\n",
    "        return 1\n",
    "    elif x == 'F':\n",
    "        return 2\n",
    "    else:\n",
    "        return 3\n",
    "        \n",
    "starbucks_df.gender = starbucks_df.gender.apply(encode_gender)"
   ]
  },
  {
   "cell_type": "code",
   "execution_count": 43,
   "id": "398733c6",
   "metadata": {
    "execution": {
     "iopub.execute_input": "2022-07-30T07:41:34.639377Z",
     "iopub.status.busy": "2022-07-30T07:41:34.638993Z",
     "iopub.status.idle": "2022-07-30T07:41:34.648882Z",
     "shell.execute_reply": "2022-07-30T07:41:34.647665Z"
    },
    "papermill": {
     "duration": 0.046199,
     "end_time": "2022-07-30T07:41:34.650963",
     "exception": false,
     "start_time": "2022-07-30T07:41:34.604764",
     "status": "completed"
    },
    "tags": []
   },
   "outputs": [
    {
     "data": {
      "text/plain": [
       "1    82896\n",
       "2    63668\n",
       "3     2190\n",
       "Name: gender, dtype: int64"
      ]
     },
     "execution_count": 43,
     "metadata": {},
     "output_type": "execute_result"
    }
   ],
   "source": [
    "# check\n",
    "starbucks_df.gender.value_counts()"
   ]
  },
  {
   "cell_type": "markdown",
   "id": "5007aece",
   "metadata": {
    "papermill": {
     "duration": 0.033616,
     "end_time": "2022-07-30T07:41:34.717175",
     "exception": false,
     "start_time": "2022-07-30T07:41:34.683559",
     "status": "completed"
    },
    "tags": []
   },
   "source": [
    "It seems that informational offer are not meant to be completed as seen from the analysis, so we can safely drop them from the dataset to fed into the machine learning model."
   ]
  },
  {
   "cell_type": "code",
   "execution_count": 44,
   "id": "eb5acd3c",
   "metadata": {
    "execution": {
     "iopub.execute_input": "2022-07-30T07:41:34.783349Z",
     "iopub.status.busy": "2022-07-30T07:41:34.782984Z",
     "iopub.status.idle": "2022-07-30T07:41:34.840399Z",
     "shell.execute_reply": "2022-07-30T07:41:34.839217Z"
    },
    "papermill": {
     "duration": 0.093083,
     "end_time": "2022-07-30T07:41:34.842921",
     "exception": false,
     "start_time": "2022-07-30T07:41:34.749838",
     "status": "completed"
    },
    "tags": []
   },
   "outputs": [],
   "source": [
    "# drop the informational offer type\n",
    "starbucks_df.drop(starbucks_df[starbucks_df.offer_type=='informational'].index, inplace=True)"
   ]
  },
  {
   "cell_type": "code",
   "execution_count": 45,
   "id": "9b5cd11a",
   "metadata": {
    "execution": {
     "iopub.execute_input": "2022-07-30T07:41:34.912935Z",
     "iopub.status.busy": "2022-07-30T07:41:34.912531Z",
     "iopub.status.idle": "2022-07-30T07:41:34.940391Z",
     "shell.execute_reply": "2022-07-30T07:41:34.939253Z"
    },
    "papermill": {
     "duration": 0.065884,
     "end_time": "2022-07-30T07:41:34.942602",
     "exception": false,
     "start_time": "2022-07-30T07:41:34.876718",
     "status": "completed"
    },
    "tags": []
   },
   "outputs": [
    {
     "data": {
      "text/plain": [
       "bogo        63828\n",
       "discount    62278\n",
       "Name: offer_type, dtype: int64"
      ]
     },
     "execution_count": 45,
     "metadata": {},
     "output_type": "execute_result"
    }
   ],
   "source": [
    "starbucks_df.offer_type.value_counts()"
   ]
  },
  {
   "cell_type": "code",
   "execution_count": 46,
   "id": "63f99a32",
   "metadata": {
    "execution": {
     "iopub.execute_input": "2022-07-30T07:41:35.012981Z",
     "iopub.status.busy": "2022-07-30T07:41:35.012572Z",
     "iopub.status.idle": "2022-07-30T07:41:35.093315Z",
     "shell.execute_reply": "2022-07-30T07:41:35.092141Z"
    },
    "papermill": {
     "duration": 0.119341,
     "end_time": "2022-07-30T07:41:35.095912",
     "exception": false,
     "start_time": "2022-07-30T07:41:34.976571",
     "status": "completed"
    },
    "tags": []
   },
   "outputs": [],
   "source": [
    "# encode the offer type column\n",
    "starbucks_df.offer_type=starbucks_df.offer_type.apply(lambda x: 1 if x=='bogo' else 2)"
   ]
  },
  {
   "cell_type": "code",
   "execution_count": 47,
   "id": "a9f50195",
   "metadata": {
    "execution": {
     "iopub.execute_input": "2022-07-30T07:41:35.164994Z",
     "iopub.status.busy": "2022-07-30T07:41:35.164598Z",
     "iopub.status.idle": "2022-07-30T07:41:35.179302Z",
     "shell.execute_reply": "2022-07-30T07:41:35.178273Z"
    },
    "papermill": {
     "duration": 0.051824,
     "end_time": "2022-07-30T07:41:35.181261",
     "exception": false,
     "start_time": "2022-07-30T07:41:35.129437",
     "status": "completed"
    },
    "tags": []
   },
   "outputs": [
    {
     "data": {
      "text/html": [
       "<div>\n",
       "<style scoped>\n",
       "    .dataframe tbody tr th:only-of-type {\n",
       "        vertical-align: middle;\n",
       "    }\n",
       "\n",
       "    .dataframe tbody tr th {\n",
       "        vertical-align: top;\n",
       "    }\n",
       "\n",
       "    .dataframe thead th {\n",
       "        text-align: right;\n",
       "    }\n",
       "</style>\n",
       "<table border=\"1\" class=\"dataframe\">\n",
       "  <thead>\n",
       "    <tr style=\"text-align: right;\">\n",
       "      <th></th>\n",
       "      <th>event</th>\n",
       "      <th>gender</th>\n",
       "      <th>age</th>\n",
       "      <th>income</th>\n",
       "      <th>reward</th>\n",
       "      <th>difficulty</th>\n",
       "      <th>duration</th>\n",
       "      <th>offer_type</th>\n",
       "      <th>email</th>\n",
       "      <th>web</th>\n",
       "      <th>mobile</th>\n",
       "      <th>social</th>\n",
       "      <th>year</th>\n",
       "      <th>month</th>\n",
       "    </tr>\n",
       "  </thead>\n",
       "  <tbody>\n",
       "    <tr>\n",
       "      <th>0</th>\n",
       "      <td>2</td>\n",
       "      <td>2</td>\n",
       "      <td>75</td>\n",
       "      <td>100000.0</td>\n",
       "      <td>5</td>\n",
       "      <td>5</td>\n",
       "      <td>7</td>\n",
       "      <td>1</td>\n",
       "      <td>1</td>\n",
       "      <td>1</td>\n",
       "      <td>1</td>\n",
       "      <td>0</td>\n",
       "      <td>2017</td>\n",
       "      <td>5</td>\n",
       "    </tr>\n",
       "    <tr>\n",
       "      <th>1</th>\n",
       "      <td>2</td>\n",
       "      <td>2</td>\n",
       "      <td>75</td>\n",
       "      <td>100000.0</td>\n",
       "      <td>5</td>\n",
       "      <td>5</td>\n",
       "      <td>7</td>\n",
       "      <td>1</td>\n",
       "      <td>1</td>\n",
       "      <td>1</td>\n",
       "      <td>1</td>\n",
       "      <td>0</td>\n",
       "      <td>2017</td>\n",
       "      <td>5</td>\n",
       "    </tr>\n",
       "    <tr>\n",
       "      <th>2</th>\n",
       "      <td>1</td>\n",
       "      <td>2</td>\n",
       "      <td>75</td>\n",
       "      <td>100000.0</td>\n",
       "      <td>5</td>\n",
       "      <td>5</td>\n",
       "      <td>7</td>\n",
       "      <td>1</td>\n",
       "      <td>1</td>\n",
       "      <td>1</td>\n",
       "      <td>1</td>\n",
       "      <td>0</td>\n",
       "      <td>2017</td>\n",
       "      <td>5</td>\n",
       "    </tr>\n",
       "    <tr>\n",
       "      <th>3</th>\n",
       "      <td>2</td>\n",
       "      <td>1</td>\n",
       "      <td>68</td>\n",
       "      <td>70000.0</td>\n",
       "      <td>5</td>\n",
       "      <td>5</td>\n",
       "      <td>7</td>\n",
       "      <td>1</td>\n",
       "      <td>1</td>\n",
       "      <td>1</td>\n",
       "      <td>1</td>\n",
       "      <td>0</td>\n",
       "      <td>2018</td>\n",
       "      <td>4</td>\n",
       "    </tr>\n",
       "    <tr>\n",
       "      <th>4</th>\n",
       "      <td>2</td>\n",
       "      <td>1</td>\n",
       "      <td>68</td>\n",
       "      <td>70000.0</td>\n",
       "      <td>5</td>\n",
       "      <td>5</td>\n",
       "      <td>7</td>\n",
       "      <td>1</td>\n",
       "      <td>1</td>\n",
       "      <td>1</td>\n",
       "      <td>1</td>\n",
       "      <td>0</td>\n",
       "      <td>2018</td>\n",
       "      <td>4</td>\n",
       "    </tr>\n",
       "  </tbody>\n",
       "</table>\n",
       "</div>"
      ],
      "text/plain": [
       "   event  gender  age    income  reward  difficulty  duration  offer_type  \\\n",
       "0      2       2   75  100000.0       5           5         7           1   \n",
       "1      2       2   75  100000.0       5           5         7           1   \n",
       "2      1       2   75  100000.0       5           5         7           1   \n",
       "3      2       1   68   70000.0       5           5         7           1   \n",
       "4      2       1   68   70000.0       5           5         7           1   \n",
       "\n",
       "   email  web  mobile  social  year  month  \n",
       "0      1    1       1       0  2017      5  \n",
       "1      1    1       1       0  2017      5  \n",
       "2      1    1       1       0  2017      5  \n",
       "3      1    1       1       0  2018      4  \n",
       "4      1    1       1       0  2018      4  "
      ]
     },
     "execution_count": 47,
     "metadata": {},
     "output_type": "execute_result"
    }
   ],
   "source": [
    "# check\n",
    "starbucks_df.head()"
   ]
  },
  {
   "cell_type": "code",
   "execution_count": 48,
   "id": "a3bf7b8b",
   "metadata": {
    "execution": {
     "iopub.execute_input": "2022-07-30T07:41:35.250829Z",
     "iopub.status.busy": "2022-07-30T07:41:35.250452Z",
     "iopub.status.idle": "2022-07-30T07:41:35.291536Z",
     "shell.execute_reply": "2022-07-30T07:41:35.290537Z"
    },
    "papermill": {
     "duration": 0.079282,
     "end_time": "2022-07-30T07:41:35.294063",
     "exception": false,
     "start_time": "2022-07-30T07:41:35.214781",
     "status": "completed"
    },
    "tags": []
   },
   "outputs": [],
   "source": [
    "# split the target variable from the predictor variable\n",
    "X, y = starbucks_df.drop('event', axis=1), starbucks_df.event\n",
    "\n",
    "# split the data into training and test data\n",
    "X_train, X_test, y_train, y_test = train_test_split(X, y, test_size=0.3, random_state=42)"
   ]
  },
  {
   "cell_type": "code",
   "execution_count": 49,
   "id": "b75e6e4a",
   "metadata": {
    "execution": {
     "iopub.execute_input": "2022-07-30T07:41:35.361626Z",
     "iopub.status.busy": "2022-07-30T07:41:35.361279Z",
     "iopub.status.idle": "2022-07-30T07:41:35.378149Z",
     "shell.execute_reply": "2022-07-30T07:41:35.376430Z"
    },
    "papermill": {
     "duration": 0.053713,
     "end_time": "2022-07-30T07:41:35.380758",
     "exception": false,
     "start_time": "2022-07-30T07:41:35.327045",
     "status": "completed"
    },
    "tags": []
   },
   "outputs": [
    {
     "name": "stdout",
     "output_type": "stream",
     "text": [
      "0         2\n",
      "1         2\n",
      "2         1\n",
      "3         2\n",
      "4         2\n",
      "         ..\n",
      "148749    2\n",
      "148750    2\n",
      "148751    2\n",
      "148752    2\n",
      "148753    2\n",
      "Name: event, Length: 126106, dtype: int64\n"
     ]
    },
    {
     "data": {
      "text/html": [
       "<div>\n",
       "<style scoped>\n",
       "    .dataframe tbody tr th:only-of-type {\n",
       "        vertical-align: middle;\n",
       "    }\n",
       "\n",
       "    .dataframe tbody tr th {\n",
       "        vertical-align: top;\n",
       "    }\n",
       "\n",
       "    .dataframe thead th {\n",
       "        text-align: right;\n",
       "    }\n",
       "</style>\n",
       "<table border=\"1\" class=\"dataframe\">\n",
       "  <thead>\n",
       "    <tr style=\"text-align: right;\">\n",
       "      <th></th>\n",
       "      <th>gender</th>\n",
       "      <th>age</th>\n",
       "      <th>income</th>\n",
       "      <th>reward</th>\n",
       "      <th>difficulty</th>\n",
       "      <th>duration</th>\n",
       "      <th>offer_type</th>\n",
       "      <th>email</th>\n",
       "      <th>web</th>\n",
       "      <th>mobile</th>\n",
       "      <th>social</th>\n",
       "      <th>year</th>\n",
       "      <th>month</th>\n",
       "    </tr>\n",
       "  </thead>\n",
       "  <tbody>\n",
       "    <tr>\n",
       "      <th>0</th>\n",
       "      <td>2</td>\n",
       "      <td>75</td>\n",
       "      <td>100000.0</td>\n",
       "      <td>5</td>\n",
       "      <td>5</td>\n",
       "      <td>7</td>\n",
       "      <td>1</td>\n",
       "      <td>1</td>\n",
       "      <td>1</td>\n",
       "      <td>1</td>\n",
       "      <td>0</td>\n",
       "      <td>2017</td>\n",
       "      <td>5</td>\n",
       "    </tr>\n",
       "    <tr>\n",
       "      <th>1</th>\n",
       "      <td>2</td>\n",
       "      <td>75</td>\n",
       "      <td>100000.0</td>\n",
       "      <td>5</td>\n",
       "      <td>5</td>\n",
       "      <td>7</td>\n",
       "      <td>1</td>\n",
       "      <td>1</td>\n",
       "      <td>1</td>\n",
       "      <td>1</td>\n",
       "      <td>0</td>\n",
       "      <td>2017</td>\n",
       "      <td>5</td>\n",
       "    </tr>\n",
       "    <tr>\n",
       "      <th>2</th>\n",
       "      <td>2</td>\n",
       "      <td>75</td>\n",
       "      <td>100000.0</td>\n",
       "      <td>5</td>\n",
       "      <td>5</td>\n",
       "      <td>7</td>\n",
       "      <td>1</td>\n",
       "      <td>1</td>\n",
       "      <td>1</td>\n",
       "      <td>1</td>\n",
       "      <td>0</td>\n",
       "      <td>2017</td>\n",
       "      <td>5</td>\n",
       "    </tr>\n",
       "    <tr>\n",
       "      <th>3</th>\n",
       "      <td>1</td>\n",
       "      <td>68</td>\n",
       "      <td>70000.0</td>\n",
       "      <td>5</td>\n",
       "      <td>5</td>\n",
       "      <td>7</td>\n",
       "      <td>1</td>\n",
       "      <td>1</td>\n",
       "      <td>1</td>\n",
       "      <td>1</td>\n",
       "      <td>0</td>\n",
       "      <td>2018</td>\n",
       "      <td>4</td>\n",
       "    </tr>\n",
       "    <tr>\n",
       "      <th>4</th>\n",
       "      <td>1</td>\n",
       "      <td>68</td>\n",
       "      <td>70000.0</td>\n",
       "      <td>5</td>\n",
       "      <td>5</td>\n",
       "      <td>7</td>\n",
       "      <td>1</td>\n",
       "      <td>1</td>\n",
       "      <td>1</td>\n",
       "      <td>1</td>\n",
       "      <td>0</td>\n",
       "      <td>2018</td>\n",
       "      <td>4</td>\n",
       "    </tr>\n",
       "  </tbody>\n",
       "</table>\n",
       "</div>"
      ],
      "text/plain": [
       "   gender  age    income  reward  difficulty  duration  offer_type  email  \\\n",
       "0       2   75  100000.0       5           5         7           1      1   \n",
       "1       2   75  100000.0       5           5         7           1      1   \n",
       "2       2   75  100000.0       5           5         7           1      1   \n",
       "3       1   68   70000.0       5           5         7           1      1   \n",
       "4       1   68   70000.0       5           5         7           1      1   \n",
       "\n",
       "   web  mobile  social  year  month  \n",
       "0    1       1       0  2017      5  \n",
       "1    1       1       0  2017      5  \n",
       "2    1       1       0  2017      5  \n",
       "3    1       1       0  2018      4  \n",
       "4    1       1       0  2018      4  "
      ]
     },
     "execution_count": 49,
     "metadata": {},
     "output_type": "execute_result"
    }
   ],
   "source": [
    "# check\n",
    "print(y)\n",
    "X.head()"
   ]
  },
  {
   "cell_type": "code",
   "execution_count": 50,
   "id": "a56b3814",
   "metadata": {
    "execution": {
     "iopub.execute_input": "2022-07-30T07:41:35.449428Z",
     "iopub.status.busy": "2022-07-30T07:41:35.449089Z",
     "iopub.status.idle": "2022-07-30T07:41:51.451167Z",
     "shell.execute_reply": "2022-07-30T07:41:51.449844Z"
    },
    "papermill": {
     "duration": 16.039453,
     "end_time": "2022-07-30T07:41:51.453490",
     "exception": false,
     "start_time": "2022-07-30T07:41:35.414037",
     "status": "completed"
    },
    "tags": []
   },
   "outputs": [
    {
     "data": {
      "text/plain": [
       "KNeighborsClassifier()"
      ]
     },
     "execution_count": 50,
     "metadata": {},
     "output_type": "execute_result"
    }
   ],
   "source": [
    "# create and fit the models\n",
    "# base model\n",
    "base_model=GaussianNB()\n",
    "base_model.fit(X_train, y_train)\n",
    "\n",
    "# Random forest model\n",
    "model_rf=RandomForestClassifier(random_state=42)\n",
    "model_rf.fit(X_train, y_train)\n",
    "\n",
    "# Gradient Boosting model\n",
    "model_grad=GradientBoostingClassifier(random_state=42)\n",
    "model_grad.fit(X_train, y_train)\n",
    "\n",
    "# KNeighbours model\n",
    "model_knn=KNeighborsClassifier()\n",
    "model_knn.fit(X_train, y_train)"
   ]
  },
  {
   "cell_type": "code",
   "execution_count": 51,
   "id": "5e13a8af",
   "metadata": {
    "execution": {
     "iopub.execute_input": "2022-07-30T07:41:51.523625Z",
     "iopub.status.busy": "2022-07-30T07:41:51.523272Z",
     "iopub.status.idle": "2022-07-30T07:41:51.530028Z",
     "shell.execute_reply": "2022-07-30T07:41:51.529030Z"
    },
    "papermill": {
     "duration": 0.044635,
     "end_time": "2022-07-30T07:41:51.532268",
     "exception": false,
     "start_time": "2022-07-30T07:41:51.487633",
     "status": "completed"
    },
    "tags": []
   },
   "outputs": [],
   "source": [
    "def evaluate_model(model, X_train, y_train, X_test, y_test):\n",
    "    \"\"\"\n",
    "    Takes a fitted the model and evaluates its prediction on the\n",
    "    training and test data using accuracy score and classification report\n",
    "    \n",
    "    Input\n",
    "    -----\n",
    "    model: the fittes model to be evaluated\n",
    "    X_train: the training predictor dataset\n",
    "    y_train: the training response dataset\n",
    "    X_test: the test predictor dataset\n",
    "    y_test: the test response dataset\n",
    "    \n",
    "    Output\n",
    "    -------\n",
    "    \n",
    "    \"\"\"\n",
    "    \n",
    "    train_pred=model.predict(X_train)\n",
    "    test_pred=model.predict(X_test)\n",
    "    \n",
    "    train_report=classification_report(y_train, train_pred)\n",
    "    test_report=classification_report(y_test, test_pred)\n",
    "    \n",
    "#     train_report_df = pd.DataFrame(train_report)\n",
    "#     test_report_df = pd.DataFrame(test_report)\n",
    "    \n",
    "    return train_report, test_report"
   ]
  },
  {
   "cell_type": "code",
   "execution_count": 52,
   "id": "53698347",
   "metadata": {
    "execution": {
     "iopub.execute_input": "2022-07-30T07:41:51.601909Z",
     "iopub.status.busy": "2022-07-30T07:41:51.601468Z",
     "iopub.status.idle": "2022-07-30T07:41:51.609076Z",
     "shell.execute_reply": "2022-07-30T07:41:51.607728Z"
    },
    "papermill": {
     "duration": 0.04553,
     "end_time": "2022-07-30T07:41:51.611249",
     "exception": false,
     "start_time": "2022-07-30T07:41:51.565719",
     "status": "completed"
    },
    "tags": []
   },
   "outputs": [],
   "source": [
    "def print_report(models, X_train, y_train, X_test, y_test):\n",
    "    \"\"\"\n",
    "    prints the classification report for all the models passed in\n",
    "    \n",
    "    Input\n",
    "    -----\n",
    "    models: list of fitted models\n",
    "    \"\"\"\n",
    "    for model in models:\n",
    "        train_report, test_report=evaluate_model(model, X_train, y_train, X_test, y_test)\n",
    "        print(model.__class__.__name__)\n",
    "        print('-'*20)\n",
    "        print('Train Report')\n",
    "        print(train_report)\n",
    "        print('Test Report')\n",
    "        print(test_report)\n",
    "        print('-'*20)\n",
    "        print()"
   ]
  },
  {
   "cell_type": "code",
   "execution_count": 53,
   "id": "ca5ac167",
   "metadata": {
    "execution": {
     "iopub.execute_input": "2022-07-30T07:41:51.681393Z",
     "iopub.status.busy": "2022-07-30T07:41:51.680706Z",
     "iopub.status.idle": "2022-07-30T07:42:03.878771Z",
     "shell.execute_reply": "2022-07-30T07:42:03.877509Z"
    },
    "papermill": {
     "duration": 12.235126,
     "end_time": "2022-07-30T07:42:03.881178",
     "exception": false,
     "start_time": "2022-07-30T07:41:51.646052",
     "status": "completed"
    },
    "tags": []
   },
   "outputs": [
    {
     "name": "stdout",
     "output_type": "stream",
     "text": [
      "GaussianNB\n",
      "--------------------\n",
      "Train Report\n",
      "              precision    recall  f1-score   support\n",
      "\n",
      "           1       0.34      0.00      0.00     22753\n",
      "           2       0.74      1.00      0.85     65521\n",
      "\n",
      "    accuracy                           0.74     88274\n",
      "   macro avg       0.54      0.50      0.43     88274\n",
      "weighted avg       0.64      0.74      0.63     88274\n",
      "\n",
      "Test Report\n",
      "              precision    recall  f1-score   support\n",
      "\n",
      "           1       0.59      0.00      0.00      9679\n",
      "           2       0.74      1.00      0.85     28153\n",
      "\n",
      "    accuracy                           0.74     37832\n",
      "   macro avg       0.67      0.50      0.43     37832\n",
      "weighted avg       0.71      0.74      0.64     37832\n",
      "\n",
      "--------------------\n",
      "\n",
      "RandomForestClassifier\n",
      "--------------------\n",
      "Train Report\n",
      "              precision    recall  f1-score   support\n",
      "\n",
      "           1       0.66      0.21      0.32     22753\n",
      "           2       0.78      0.96      0.86     65521\n",
      "\n",
      "    accuracy                           0.77     88274\n",
      "   macro avg       0.72      0.59      0.59     88274\n",
      "weighted avg       0.75      0.77      0.72     88274\n",
      "\n",
      "Test Report\n",
      "              precision    recall  f1-score   support\n",
      "\n",
      "           1       0.02      0.01      0.02      9679\n",
      "           2       0.70      0.79      0.74     28153\n",
      "\n",
      "    accuracy                           0.59     37832\n",
      "   macro avg       0.36      0.40      0.38     37832\n",
      "weighted avg       0.53      0.59      0.56     37832\n",
      "\n",
      "--------------------\n",
      "\n"
     ]
    },
    {
     "name": "stderr",
     "output_type": "stream",
     "text": [
      "/opt/conda/lib/python3.7/site-packages/sklearn/metrics/_classification.py:1318: UndefinedMetricWarning: Precision and F-score are ill-defined and being set to 0.0 in labels with no predicted samples. Use `zero_division` parameter to control this behavior.\n",
      "  _warn_prf(average, modifier, msg_start, len(result))\n",
      "/opt/conda/lib/python3.7/site-packages/sklearn/metrics/_classification.py:1318: UndefinedMetricWarning: Precision and F-score are ill-defined and being set to 0.0 in labels with no predicted samples. Use `zero_division` parameter to control this behavior.\n",
      "  _warn_prf(average, modifier, msg_start, len(result))\n",
      "/opt/conda/lib/python3.7/site-packages/sklearn/metrics/_classification.py:1318: UndefinedMetricWarning: Precision and F-score are ill-defined and being set to 0.0 in labels with no predicted samples. Use `zero_division` parameter to control this behavior.\n",
      "  _warn_prf(average, modifier, msg_start, len(result))\n",
      "/opt/conda/lib/python3.7/site-packages/sklearn/metrics/_classification.py:1318: UndefinedMetricWarning: Precision and F-score are ill-defined and being set to 0.0 in labels with no predicted samples. Use `zero_division` parameter to control this behavior.\n",
      "  _warn_prf(average, modifier, msg_start, len(result))\n",
      "/opt/conda/lib/python3.7/site-packages/sklearn/metrics/_classification.py:1318: UndefinedMetricWarning: Precision and F-score are ill-defined and being set to 0.0 in labels with no predicted samples. Use `zero_division` parameter to control this behavior.\n",
      "  _warn_prf(average, modifier, msg_start, len(result))\n",
      "/opt/conda/lib/python3.7/site-packages/sklearn/metrics/_classification.py:1318: UndefinedMetricWarning: Precision and F-score are ill-defined and being set to 0.0 in labels with no predicted samples. Use `zero_division` parameter to control this behavior.\n",
      "  _warn_prf(average, modifier, msg_start, len(result))\n"
     ]
    },
    {
     "name": "stdout",
     "output_type": "stream",
     "text": [
      "GradientBoostingClassifier\n",
      "--------------------\n",
      "Train Report\n",
      "              precision    recall  f1-score   support\n",
      "\n",
      "           1       0.00      0.00      0.00     22753\n",
      "           2       0.74      1.00      0.85     65521\n",
      "\n",
      "    accuracy                           0.74     88274\n",
      "   macro avg       0.37      0.50      0.43     88274\n",
      "weighted avg       0.55      0.74      0.63     88274\n",
      "\n",
      "Test Report\n",
      "              precision    recall  f1-score   support\n",
      "\n",
      "           1       0.00      0.00      0.00      9679\n",
      "           2       0.74      1.00      0.85     28153\n",
      "\n",
      "    accuracy                           0.74     37832\n",
      "   macro avg       0.37      0.50      0.43     37832\n",
      "weighted avg       0.55      0.74      0.64     37832\n",
      "\n",
      "--------------------\n",
      "\n",
      "KNeighborsClassifier\n",
      "--------------------\n",
      "Train Report\n",
      "              precision    recall  f1-score   support\n",
      "\n",
      "           1       0.54      0.10      0.17     22753\n",
      "           2       0.76      0.97      0.85     65521\n",
      "\n",
      "    accuracy                           0.75     88274\n",
      "   macro avg       0.65      0.54      0.51     88274\n",
      "weighted avg       0.70      0.75      0.68     88274\n",
      "\n",
      "Test Report\n",
      "              precision    recall  f1-score   support\n",
      "\n",
      "           1       0.06      0.02      0.03      9679\n",
      "           2       0.73      0.91      0.81     28153\n",
      "\n",
      "    accuracy                           0.68     37832\n",
      "   macro avg       0.40      0.46      0.42     37832\n",
      "weighted avg       0.56      0.68      0.61     37832\n",
      "\n",
      "--------------------\n",
      "\n"
     ]
    }
   ],
   "source": [
    "models=[base_model, model_rf, model_grad, model_knn]\n",
    "print_report(models, X_train, y_train, X_test, y_test)"
   ]
  },
  {
   "cell_type": "markdown",
   "id": "b0de681e",
   "metadata": {
    "papermill": {
     "duration": 0.03534,
     "end_time": "2022-07-30T07:42:03.951500",
     "exception": false,
     "start_time": "2022-07-30T07:42:03.916160",
     "status": "completed"
    },
    "tags": []
   },
   "source": [
    "### Metrics justification\n",
    "\n",
    "I choose to use the classification report to ouput all metrics usually considered during a classification evaluation for the following reasons\n",
    "\n",
    "1. It reports the Accuracy which show many of the how close our predictions are to the true value\n",
    "2. It reports the precision which tells us how many of our predictions are actually correct predictions and recall which tells how many of the true predictions we correctly predicted.\n",
    "3. It report the F1 score which gives the harmonic mean of both the precision and recall.\n",
    "4. It shows the number of observation supporting the predictions of each predicted response."
   ]
  },
  {
   "cell_type": "markdown",
   "id": "b660c7de",
   "metadata": {
    "papermill": {
     "duration": 0.034419,
     "end_time": "2022-07-30T07:42:04.020810",
     "exception": false,
     "start_time": "2022-07-30T07:42:03.986391",
     "status": "completed"
    },
    "tags": []
   },
   "source": [
    "### Observations\n",
    "\n",
    "From the analysis, it was noticed that there are more uncompleted offers in this dataset than there are completed offers, and it shows in the model predictions as the predictions are mostly for the case where the offer was not completed. Plotting the confusion matrix below supports this observation."
   ]
  },
  {
   "cell_type": "code",
   "execution_count": 54,
   "id": "9ee863b1",
   "metadata": {
    "execution": {
     "iopub.execute_input": "2022-07-30T07:42:04.091233Z",
     "iopub.status.busy": "2022-07-30T07:42:04.090882Z",
     "iopub.status.idle": "2022-07-30T07:42:04.100756Z",
     "shell.execute_reply": "2022-07-30T07:42:04.099694Z"
    },
    "papermill": {
     "duration": 0.04814,
     "end_time": "2022-07-30T07:42:04.102971",
     "exception": false,
     "start_time": "2022-07-30T07:42:04.054831",
     "status": "completed"
    },
    "tags": []
   },
   "outputs": [],
   "source": [
    "# reference: https://datatofish.com/confusion-matrix-python/#:~:\n",
    "# text=confusion_matrix%20%3D%20pd.crosstab%20%28df%20%5B%27y_Actual%27%5D%2C%20df%20%5B%27y_Predicted%27%5D%2C%20rownames%3D,\n",
    "# full%20Python%20code%20to%20create%20the%20Confusion%20Matrix%3A\n",
    "\n",
    "def plot_confusion(models, X_test, y_test, size=(25,6)):\n",
    "    \"\"\"\n",
    "    Plots the confusion matrix for the model predictions\n",
    "    \n",
    "    Input\n",
    "    -----\n",
    "    models: list of fitted models\n",
    "    X_test: the test predictor dataset\n",
    "    y_test: the test response dataset\n",
    "    \n",
    "    Output\n",
    "    -------\n",
    "    Heatmap plots of the confusion matrix\n",
    "    \"\"\"\n",
    "    fig, ax = plt.subplots(1,len(models), figsize=size)\n",
    "    for i, model in enumerate(models):\n",
    "        data = {'y_Actual':    y_test,\n",
    "            'y_Predicted': model.predict(X_test)\n",
    "            }\n",
    "\n",
    "        df = pd.DataFrame(data, columns=['y_Actual','y_Predicted'])\n",
    "        confusion_matrix = pd.crosstab(df['y_Actual'], df['y_Predicted'], rownames=['Actual'], colnames=['Predicted'])\n",
    "        try:\n",
    "            ax[i].set_title(model.__class__.__name__)\n",
    "            sns.heatmap(confusion_matrix, annot=True, ax=ax[i], cmap='viridis_r', fmt='d', linewidths=.5)\n",
    "        except:\n",
    "            ax.set_title(model.__class__.__name__)\n",
    "            sns.heatmap(confusion_matrix, annot=True, ax=ax, cmap='viridis_r', fmt='d', linewidths=.5)"
   ]
  },
  {
   "cell_type": "code",
   "execution_count": 55,
   "id": "839a9ee1",
   "metadata": {
    "execution": {
     "iopub.execute_input": "2022-07-30T07:42:04.171830Z",
     "iopub.status.busy": "2022-07-30T07:42:04.171467Z",
     "iopub.status.idle": "2022-07-30T07:42:08.643612Z",
     "shell.execute_reply": "2022-07-30T07:42:08.642544Z"
    },
    "papermill": {
     "duration": 4.508863,
     "end_time": "2022-07-30T07:42:08.646026",
     "exception": false,
     "start_time": "2022-07-30T07:42:04.137163",
     "status": "completed"
    },
    "tags": []
   },
   "outputs": [
    {
     "data": {
      "image/png": "[encoded data removed]",
      "text/plain": [
       "<Figure size 1800x432 with 8 Axes>"
      ]
     },
     "metadata": {},
     "output_type": "display_data"
    }
   ],
   "source": [
    "plot_confusion(models, X_test, y_test)"
   ]
  },
  {
   "cell_type": "markdown",
   "id": "683e25a7",
   "metadata": {
    "papermill": {
     "duration": 0.033079,
     "end_time": "2022-07-30T07:42:08.713203",
     "exception": false,
     "start_time": "2022-07-30T07:42:08.680124",
     "status": "completed"
    },
    "tags": []
   },
   "source": [
    "As seen from the above, all the considered models favors a prediction of an uncompleted offer."
   ]
  },
  {
   "cell_type": "markdown",
   "id": "130c8511",
   "metadata": {
    "execution": {
     "iopub.execute_input": "2022-07-30T04:41:38.277200Z",
     "iopub.status.busy": "2022-07-30T04:41:38.276823Z",
     "iopub.status.idle": "2022-07-30T04:41:38.284196Z",
     "shell.execute_reply": "2022-07-30T04:41:38.282515Z",
     "shell.execute_reply.started": "2022-07-30T04:41:38.277171Z"
    },
    "papermill": {
     "duration": 0.034009,
     "end_time": "2022-07-30T07:42:08.780799",
     "exception": false,
     "start_time": "2022-07-30T07:42:08.746790",
     "status": "completed"
    },
    "tags": []
   },
   "source": [
    "The best scoring model compared to the base model of gaussian naive bayes from the above analysis is the KNeighborsClassifier. I will use Grid search to fine tune this model.\n",
    "\n",
    "### Model Improvement"
   ]
  },
  {
   "cell_type": "code",
   "execution_count": 56,
   "id": "e39c5fc6",
   "metadata": {
    "execution": {
     "iopub.execute_input": "2022-07-30T07:42:08.848455Z",
     "iopub.status.busy": "2022-07-30T07:42:08.848079Z",
     "iopub.status.idle": "2022-07-30T07:42:08.852993Z",
     "shell.execute_reply": "2022-07-30T07:42:08.852256Z"
    },
    "papermill": {
     "duration": 0.041244,
     "end_time": "2022-07-30T07:42:08.855005",
     "exception": false,
     "start_time": "2022-07-30T07:42:08.813761",
     "status": "completed"
    },
    "tags": []
   },
   "outputs": [],
   "source": [
    "params={\n",
    "    'n_neighbors':[5, 7, 9],\n",
    "    'weights':['uniform', 'distance']\n",
    "}\n",
    "cv=GridSearchCV(model_knn,\n",
    "               param_grid=params,\n",
    "               n_jobs=-1,\n",
    "               cv=10,\n",
    "               verbose=5)"
   ]
  },
  {
   "cell_type": "code",
   "execution_count": 57,
   "id": "683d8ece",
   "metadata": {
    "execution": {
     "iopub.execute_input": "2022-07-30T07:42:08.927266Z",
     "iopub.status.busy": "2022-07-30T07:42:08.926330Z",
     "iopub.status.idle": "2022-07-30T07:42:25.461954Z",
     "shell.execute_reply": "2022-07-30T07:42:25.460539Z"
    },
    "papermill": {
     "duration": 16.574791,
     "end_time": "2022-07-30T07:42:25.464376",
     "exception": false,
     "start_time": "2022-07-30T07:42:08.889585",
     "status": "completed"
    },
    "tags": []
   },
   "outputs": [
    {
     "name": "stdout",
     "output_type": "stream",
     "text": [
      "Fitting 10 folds for each of 6 candidates, totalling 60 fits\n"
     ]
    },
    {
     "data": {
      "text/plain": [
       "GridSearchCV(cv=10, estimator=KNeighborsClassifier(), n_jobs=-1,\n",
       "             param_grid={'n_neighbors': [5, 7, 9],\n",
       "                         'weights': ['uniform', 'distance']},\n",
       "             verbose=5)"
      ]
     },
     "execution_count": 57,
     "metadata": {},
     "output_type": "execute_result"
    }
   ],
   "source": [
    "# fit the cv model\n",
    "cv.fit(X_train, y_train)"
   ]
  },
  {
   "cell_type": "code",
   "execution_count": 58,
   "id": "3df85c0b",
   "metadata": {
    "execution": {
     "iopub.execute_input": "2022-07-30T07:42:25.539260Z",
     "iopub.status.busy": "2022-07-30T07:42:25.538580Z",
     "iopub.status.idle": "2022-07-30T07:42:25.546228Z",
     "shell.execute_reply": "2022-07-30T07:42:25.545115Z"
    },
    "papermill": {
     "duration": 0.047194,
     "end_time": "2022-07-30T07:42:25.548261",
     "exception": false,
     "start_time": "2022-07-30T07:42:25.501067",
     "status": "completed"
    },
    "tags": []
   },
   "outputs": [
    {
     "data": {
      "text/plain": [
       "KNeighborsClassifier(n_neighbors=9)"
      ]
     },
     "execution_count": 58,
     "metadata": {},
     "output_type": "execute_result"
    }
   ],
   "source": [
    "cv.best_estimator_"
   ]
  },
  {
   "cell_type": "code",
   "execution_count": 59,
   "id": "2e9fd3b9",
   "metadata": {
    "execution": {
     "iopub.execute_input": "2022-07-30T07:42:25.620351Z",
     "iopub.status.busy": "2022-07-30T07:42:25.619958Z",
     "iopub.status.idle": "2022-07-30T07:42:32.952729Z",
     "shell.execute_reply": "2022-07-30T07:42:32.951588Z"
    },
    "papermill": {
     "duration": 7.371144,
     "end_time": "2022-07-30T07:42:32.954996",
     "exception": false,
     "start_time": "2022-07-30T07:42:25.583852",
     "status": "completed"
    },
    "tags": []
   },
   "outputs": [
    {
     "name": "stdout",
     "output_type": "stream",
     "text": [
      "GridSearchCV\n",
      "--------------------\n",
      "Train Report\n",
      "              precision    recall  f1-score   support\n",
      "\n",
      "           1       0.53      0.03      0.06     22753\n",
      "           2       0.75      0.99      0.85     65521\n",
      "\n",
      "    accuracy                           0.74     88274\n",
      "   macro avg       0.64      0.51      0.45     88274\n",
      "weighted avg       0.69      0.74      0.65     88274\n",
      "\n",
      "Test Report\n",
      "              precision    recall  f1-score   support\n",
      "\n",
      "           1       0.09      0.01      0.02      9679\n",
      "           2       0.74      0.97      0.84     28153\n",
      "\n",
      "    accuracy                           0.73     37832\n",
      "   macro avg       0.42      0.49      0.43     37832\n",
      "weighted avg       0.57      0.73      0.63     37832\n",
      "\n",
      "--------------------\n",
      "\n"
     ]
    }
   ],
   "source": [
    "print_report([cv], X_train, y_train, X_test, y_test)"
   ]
  },
  {
   "cell_type": "code",
   "execution_count": 60,
   "id": "24b055fe",
   "metadata": {
    "execution": {
     "iopub.execute_input": "2022-07-30T07:42:33.029909Z",
     "iopub.status.busy": "2022-07-30T07:42:33.029304Z",
     "iopub.status.idle": "2022-07-30T07:42:35.432295Z",
     "shell.execute_reply": "2022-07-30T07:42:35.431239Z"
    },
    "papermill": {
     "duration": 2.442915,
     "end_time": "2022-07-30T07:42:35.434418",
     "exception": false,
     "start_time": "2022-07-30T07:42:32.991503",
     "status": "completed"
    },
    "tags": []
   },
   "outputs": [
    {
     "data": {
      "image/png": "[encoded data removed]",
      "text/plain": [
       "<Figure size 360x432 with 2 Axes>"
      ]
     },
     "metadata": {},
     "output_type": "display_data"
    }
   ],
   "source": [
    "plot_confusion([cv], X_test, y_test, size=(5, 6))"
   ]
  },
  {
   "cell_type": "markdown",
   "id": "d2f979c1",
   "metadata": {
    "papermill": {
     "duration": 0.035229,
     "end_time": "2022-07-30T07:42:35.563217",
     "exception": false,
     "start_time": "2022-07-30T07:42:35.527988",
     "status": "completed"
    },
    "tags": []
   },
   "source": [
    "There is an improvement in the model as the accuracy as now increased from `0.68` to `0.73` on the test dataset.\n",
    "\n",
    "### Conclusion\n",
    "\n",
    "The following conclusions can be drawn from the analysis of this dataset which is also inline with the model predictions.\n",
    "1. Most customers do not show interest in the offers at all as it seems most people would rather buy than take advantage of the offer.\n",
    "2. Seen as most offers sent to the male customers and those between the age bracket of 40 to 80 years were not completed, the company should target more people outside of this category for offers if they want more offers completed."
   ]
  },
  {
   "cell_type": "markdown",
   "id": "5e855116",
   "metadata": {
    "papermill": {
     "duration": 0.035115,
     "end_time": "2022-07-30T07:42:35.633782",
     "exception": false,
     "start_time": "2022-07-30T07:42:35.598667",
     "status": "completed"
    },
    "tags": []
   },
   "source": [
    "### Improvements\n",
    "\n",
    "There were no parts of this analysis i found particularly challenging but i believe the modelling and analysis can be better improved by considering what was said in the conclusion as this would also represents a higher percentage of the general populace and hence introduce more variability into the dataset."
   ]
  }
 ],
 "metadata": {
  "kernelspec": {
   "display_name": "Python 3",
   "language": "python",
   "name": "python3"
  },
  "language_info": {
   "codemirror_mode": {
    "name": "ipython",
    "version": 3
   },
   "file_extension": ".py",
   "mimetype": "text/x-python",
   "name": "python",
   "nbconvert_exporter": "python",
   "pygments_lexer": "ipython3",
   "version": "3.7.12"
  },
  "papermill": {
   "default_parameters": {},
   "duration": 103.670948,
   "end_time": "2022-07-30T07:42:38.290385",
   "environment_variables": {},
   "exception": null,
   "input_path": "__notebook__.ipynb",
   "output_path": "__notebook__.ipynb",
   "parameters": {},
   "start_time": "2022-07-30T07:40:54.619437",
   "version": "2.3.4"
  }
 },
 "nbformat": 4,
 "nbformat_minor": 5
}
