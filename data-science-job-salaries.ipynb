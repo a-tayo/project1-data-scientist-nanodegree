{
 "cells": [
  {
   "cell_type": "markdown",
   "id": "fcb70b60",
   "metadata": {
    "papermill": {
     "duration": 0.006888,
     "end_time": "2022-07-19T20:38:19.141717",
     "exception": false,
     "start_time": "2022-07-19T20:38:19.134829",
     "status": "completed"
    },
    "tags": []
   },
   "source": [
    "# Data Science Jobs Salaries Exploration\n",
    "\n",
    "In this notebook, i will explore the data science salaries dataset which can be found [here on kaggle](https://www.kaggle.com/datasets/ruchi798/data-science-job-salaries) to answer the following questions:\n",
    "* How has the average salary of data science jobs change over time?\n",
    "* What are the salaries of Data Science jobs based on experience level?\n",
    "* Do Data scientist who work full time earn more than others?\n",
    "* Does working in a larger company guarantee higher salary?\n",
    "* How well can we predict a data science job salary?"
   ]
  },
  {
   "cell_type": "code",
   "execution_count": 1,
   "id": "35d7aa3d",
   "metadata": {
    "_cell_guid": "b1076dfc-b9ad-4769-8c92-a6c4dae69d19",
    "_uuid": "8f2839f25d086af736a60e9eeb907d3b93b6e0e5",
    "execution": {
     "iopub.execute_input": "2022-07-19T20:38:19.155973Z",
     "iopub.status.busy": "2022-07-19T20:38:19.154855Z",
     "iopub.status.idle": "2022-07-19T20:38:20.652127Z",
     "shell.execute_reply": "2022-07-19T20:38:20.650953Z"
    },
    "papermill": {
     "duration": 1.507239,
     "end_time": "2022-07-19T20:38:20.654896",
     "exception": false,
     "start_time": "2022-07-19T20:38:19.147657",
     "status": "completed"
    },
    "tags": []
   },
   "outputs": [],
   "source": [
    "# imports\n",
    "import pandas as pd\n",
    "import numpy as np\n",
    "import matplotlib.pyplot as plt\n",
    "import seaborn as sns\n",
    "from sklearn.model_selection import train_test_split\n",
    "from sklearn.ensemble import RandomForestRegressor\n",
    "from sklearn.metrics import r2_score\n",
    "\n",
    "\n",
    "%matplotlib inline\n",
    "sns.set()"
   ]
  },
  {
   "cell_type": "markdown",
   "id": "592c8d32",
   "metadata": {
    "papermill": {
     "duration": 0.005619,
     "end_time": "2022-07-19T20:38:20.666430",
     "exception": false,
     "start_time": "2022-07-19T20:38:20.660811",
     "status": "completed"
    },
    "tags": []
   },
   "source": [
    "## Exploration"
   ]
  },
  {
   "cell_type": "code",
   "execution_count": 2,
   "id": "c70f102c",
   "metadata": {
    "execution": {
     "iopub.execute_input": "2022-07-19T20:38:20.679955Z",
     "iopub.status.busy": "2022-07-19T20:38:20.679583Z",
     "iopub.status.idle": "2022-07-19T20:38:20.718200Z",
     "shell.execute_reply": "2022-07-19T20:38:20.716983Z"
    },
    "papermill": {
     "duration": 0.048572,
     "end_time": "2022-07-19T20:38:20.720884",
     "exception": false,
     "start_time": "2022-07-19T20:38:20.672312",
     "status": "completed"
    },
    "tags": []
   },
   "outputs": [
    {
     "data": {
      "text/html": [
       "<div>\n",
       "<style scoped>\n",
       "    .dataframe tbody tr th:only-of-type {\n",
       "        vertical-align: middle;\n",
       "    }\n",
       "\n",
       "    .dataframe tbody tr th {\n",
       "        vertical-align: top;\n",
       "    }\n",
       "\n",
       "    .dataframe thead th {\n",
       "        text-align: right;\n",
       "    }\n",
       "</style>\n",
       "<table border=\"1\" class=\"dataframe\">\n",
       "  <thead>\n",
       "    <tr style=\"text-align: right;\">\n",
       "      <th></th>\n",
       "      <th>work_year</th>\n",
       "      <th>experience_level</th>\n",
       "      <th>employment_type</th>\n",
       "      <th>job_title</th>\n",
       "      <th>salary</th>\n",
       "      <th>salary_currency</th>\n",
       "      <th>salary_in_usd</th>\n",
       "      <th>employee_residence</th>\n",
       "      <th>remote_ratio</th>\n",
       "      <th>company_location</th>\n",
       "      <th>company_size</th>\n",
       "    </tr>\n",
       "  </thead>\n",
       "  <tbody>\n",
       "    <tr>\n",
       "      <th>0</th>\n",
       "      <td>2020</td>\n",
       "      <td>MI</td>\n",
       "      <td>FT</td>\n",
       "      <td>Data Scientist</td>\n",
       "      <td>70000</td>\n",
       "      <td>EUR</td>\n",
       "      <td>79833</td>\n",
       "      <td>DE</td>\n",
       "      <td>0</td>\n",
       "      <td>DE</td>\n",
       "      <td>L</td>\n",
       "    </tr>\n",
       "    <tr>\n",
       "      <th>1</th>\n",
       "      <td>2020</td>\n",
       "      <td>SE</td>\n",
       "      <td>FT</td>\n",
       "      <td>Machine Learning Scientist</td>\n",
       "      <td>260000</td>\n",
       "      <td>USD</td>\n",
       "      <td>260000</td>\n",
       "      <td>JP</td>\n",
       "      <td>0</td>\n",
       "      <td>JP</td>\n",
       "      <td>S</td>\n",
       "    </tr>\n",
       "    <tr>\n",
       "      <th>2</th>\n",
       "      <td>2020</td>\n",
       "      <td>SE</td>\n",
       "      <td>FT</td>\n",
       "      <td>Big Data Engineer</td>\n",
       "      <td>85000</td>\n",
       "      <td>GBP</td>\n",
       "      <td>109024</td>\n",
       "      <td>GB</td>\n",
       "      <td>50</td>\n",
       "      <td>GB</td>\n",
       "      <td>M</td>\n",
       "    </tr>\n",
       "    <tr>\n",
       "      <th>3</th>\n",
       "      <td>2020</td>\n",
       "      <td>MI</td>\n",
       "      <td>FT</td>\n",
       "      <td>Product Data Analyst</td>\n",
       "      <td>20000</td>\n",
       "      <td>USD</td>\n",
       "      <td>20000</td>\n",
       "      <td>HN</td>\n",
       "      <td>0</td>\n",
       "      <td>HN</td>\n",
       "      <td>S</td>\n",
       "    </tr>\n",
       "    <tr>\n",
       "      <th>4</th>\n",
       "      <td>2020</td>\n",
       "      <td>SE</td>\n",
       "      <td>FT</td>\n",
       "      <td>Machine Learning Engineer</td>\n",
       "      <td>150000</td>\n",
       "      <td>USD</td>\n",
       "      <td>150000</td>\n",
       "      <td>US</td>\n",
       "      <td>50</td>\n",
       "      <td>US</td>\n",
       "      <td>L</td>\n",
       "    </tr>\n",
       "  </tbody>\n",
       "</table>\n",
       "</div>"
      ],
      "text/plain": [
       "   work_year experience_level employment_type                   job_title  \\\n",
       "0       2020               MI              FT              Data Scientist   \n",
       "1       2020               SE              FT  Machine Learning Scientist   \n",
       "2       2020               SE              FT           Big Data Engineer   \n",
       "3       2020               MI              FT        Product Data Analyst   \n",
       "4       2020               SE              FT   Machine Learning Engineer   \n",
       "\n",
       "   salary salary_currency  salary_in_usd employee_residence  remote_ratio  \\\n",
       "0   70000             EUR          79833                 DE             0   \n",
       "1  260000             USD         260000                 JP             0   \n",
       "2   85000             GBP         109024                 GB            50   \n",
       "3   20000             USD          20000                 HN             0   \n",
       "4  150000             USD         150000                 US            50   \n",
       "\n",
       "  company_location company_size  \n",
       "0               DE            L  \n",
       "1               JP            S  \n",
       "2               GB            M  \n",
       "3               HN            S  \n",
       "4               US            L  "
      ]
     },
     "execution_count": 2,
     "metadata": {},
     "output_type": "execute_result"
    }
   ],
   "source": [
    "# load the data\n",
    "data_sal = pd.read_csv('../input/data-science-job-salaries/ds_salaries.csv')\n",
    "data_sal = data_sal.iloc[:,1:]\n",
    "data_sal.head()"
   ]
  },
  {
   "cell_type": "code",
   "execution_count": 3,
   "id": "eb3b6bb5",
   "metadata": {
    "execution": {
     "iopub.execute_input": "2022-07-19T20:38:20.734823Z",
     "iopub.status.busy": "2022-07-19T20:38:20.734452Z",
     "iopub.status.idle": "2022-07-19T20:38:20.766755Z",
     "shell.execute_reply": "2022-07-19T20:38:20.765637Z"
    },
    "papermill": {
     "duration": 0.042474,
     "end_time": "2022-07-19T20:38:20.769446",
     "exception": false,
     "start_time": "2022-07-19T20:38:20.726972",
     "status": "completed"
    },
    "tags": []
   },
   "outputs": [
    {
     "data": {
      "text/html": [
       "<div>\n",
       "<style scoped>\n",
       "    .dataframe tbody tr th:only-of-type {\n",
       "        vertical-align: middle;\n",
       "    }\n",
       "\n",
       "    .dataframe tbody tr th {\n",
       "        vertical-align: top;\n",
       "    }\n",
       "\n",
       "    .dataframe thead th {\n",
       "        text-align: right;\n",
       "    }\n",
       "</style>\n",
       "<table border=\"1\" class=\"dataframe\">\n",
       "  <thead>\n",
       "    <tr style=\"text-align: right;\">\n",
       "      <th></th>\n",
       "      <th>work_year</th>\n",
       "      <th>salary</th>\n",
       "      <th>salary_in_usd</th>\n",
       "      <th>remote_ratio</th>\n",
       "    </tr>\n",
       "  </thead>\n",
       "  <tbody>\n",
       "    <tr>\n",
       "      <th>count</th>\n",
       "      <td>607.000000</td>\n",
       "      <td>6.070000e+02</td>\n",
       "      <td>607.000000</td>\n",
       "      <td>607.00000</td>\n",
       "    </tr>\n",
       "    <tr>\n",
       "      <th>mean</th>\n",
       "      <td>2021.405272</td>\n",
       "      <td>3.240001e+05</td>\n",
       "      <td>112297.869852</td>\n",
       "      <td>70.92257</td>\n",
       "    </tr>\n",
       "    <tr>\n",
       "      <th>std</th>\n",
       "      <td>0.692133</td>\n",
       "      <td>1.544357e+06</td>\n",
       "      <td>70957.259411</td>\n",
       "      <td>40.70913</td>\n",
       "    </tr>\n",
       "    <tr>\n",
       "      <th>min</th>\n",
       "      <td>2020.000000</td>\n",
       "      <td>4.000000e+03</td>\n",
       "      <td>2859.000000</td>\n",
       "      <td>0.00000</td>\n",
       "    </tr>\n",
       "    <tr>\n",
       "      <th>25%</th>\n",
       "      <td>2021.000000</td>\n",
       "      <td>7.000000e+04</td>\n",
       "      <td>62726.000000</td>\n",
       "      <td>50.00000</td>\n",
       "    </tr>\n",
       "    <tr>\n",
       "      <th>50%</th>\n",
       "      <td>2022.000000</td>\n",
       "      <td>1.150000e+05</td>\n",
       "      <td>101570.000000</td>\n",
       "      <td>100.00000</td>\n",
       "    </tr>\n",
       "    <tr>\n",
       "      <th>75%</th>\n",
       "      <td>2022.000000</td>\n",
       "      <td>1.650000e+05</td>\n",
       "      <td>150000.000000</td>\n",
       "      <td>100.00000</td>\n",
       "    </tr>\n",
       "    <tr>\n",
       "      <th>max</th>\n",
       "      <td>2022.000000</td>\n",
       "      <td>3.040000e+07</td>\n",
       "      <td>600000.000000</td>\n",
       "      <td>100.00000</td>\n",
       "    </tr>\n",
       "  </tbody>\n",
       "</table>\n",
       "</div>"
      ],
      "text/plain": [
       "         work_year        salary  salary_in_usd  remote_ratio\n",
       "count   607.000000  6.070000e+02     607.000000     607.00000\n",
       "mean   2021.405272  3.240001e+05  112297.869852      70.92257\n",
       "std       0.692133  1.544357e+06   70957.259411      40.70913\n",
       "min    2020.000000  4.000000e+03    2859.000000       0.00000\n",
       "25%    2021.000000  7.000000e+04   62726.000000      50.00000\n",
       "50%    2022.000000  1.150000e+05  101570.000000     100.00000\n",
       "75%    2022.000000  1.650000e+05  150000.000000     100.00000\n",
       "max    2022.000000  3.040000e+07  600000.000000     100.00000"
      ]
     },
     "execution_count": 3,
     "metadata": {},
     "output_type": "execute_result"
    }
   ],
   "source": [
    "data_sal.describe()"
   ]
  },
  {
   "cell_type": "markdown",
   "id": "6875aaf2",
   "metadata": {
    "papermill": {
     "duration": 0.006134,
     "end_time": "2022-07-19T20:38:20.782493",
     "exception": false,
     "start_time": "2022-07-19T20:38:20.776359",
     "status": "completed"
    },
    "tags": []
   },
   "source": [
    "The following can be observed from the above\n",
    "> * Data is only available for the year 2020 to 2022\n",
    "> *  The average salary in USD for any type or level of data scientist is approximately $112 300"
   ]
  },
  {
   "cell_type": "code",
   "execution_count": 4,
   "id": "602909f6",
   "metadata": {
    "execution": {
     "iopub.execute_input": "2022-07-19T20:38:20.796956Z",
     "iopub.status.busy": "2022-07-19T20:38:20.796588Z",
     "iopub.status.idle": "2022-07-19T20:38:20.813435Z",
     "shell.execute_reply": "2022-07-19T20:38:20.811696Z"
    },
    "papermill": {
     "duration": 0.026661,
     "end_time": "2022-07-19T20:38:20.815473",
     "exception": false,
     "start_time": "2022-07-19T20:38:20.788812",
     "status": "completed"
    },
    "tags": []
   },
   "outputs": [
    {
     "name": "stdout",
     "output_type": "stream",
     "text": [
      "<class 'pandas.core.frame.DataFrame'>\n",
      "RangeIndex: 607 entries, 0 to 606\n",
      "Data columns (total 11 columns):\n",
      " #   Column              Non-Null Count  Dtype \n",
      "---  ------              --------------  ----- \n",
      " 0   work_year           607 non-null    int64 \n",
      " 1   experience_level    607 non-null    object\n",
      " 2   employment_type     607 non-null    object\n",
      " 3   job_title           607 non-null    object\n",
      " 4   salary              607 non-null    int64 \n",
      " 5   salary_currency     607 non-null    object\n",
      " 6   salary_in_usd       607 non-null    int64 \n",
      " 7   employee_residence  607 non-null    object\n",
      " 8   remote_ratio        607 non-null    int64 \n",
      " 9   company_location    607 non-null    object\n",
      " 10  company_size        607 non-null    object\n",
      "dtypes: int64(4), object(7)\n",
      "memory usage: 52.3+ KB\n"
     ]
    }
   ],
   "source": [
    "data_sal.info()"
   ]
  },
  {
   "cell_type": "code",
   "execution_count": 5,
   "id": "f42a39ec",
   "metadata": {
    "execution": {
     "iopub.execute_input": "2022-07-19T20:38:20.829754Z",
     "iopub.status.busy": "2022-07-19T20:38:20.829409Z",
     "iopub.status.idle": "2022-07-19T20:38:20.837880Z",
     "shell.execute_reply": "2022-07-19T20:38:20.836753Z"
    },
    "papermill": {
     "duration": 0.01843,
     "end_time": "2022-07-19T20:38:20.840222",
     "exception": false,
     "start_time": "2022-07-19T20:38:20.821792",
     "status": "completed"
    },
    "tags": []
   },
   "outputs": [
    {
     "data": {
      "text/plain": [
       "0"
      ]
     },
     "execution_count": 5,
     "metadata": {},
     "output_type": "execute_result"
    }
   ],
   "source": [
    "# counting null values\n",
    "data_sal.isna().sum().sum()"
   ]
  },
  {
   "cell_type": "markdown",
   "id": "928aefe6",
   "metadata": {
    "papermill": {
     "duration": 0.006098,
     "end_time": "2022-07-19T20:38:20.852893",
     "exception": false,
     "start_time": "2022-07-19T20:38:20.846795",
     "status": "completed"
    },
    "tags": []
   },
   "source": [
    "No null values in this dataset."
   ]
  },
  {
   "cell_type": "markdown",
   "id": "23537a9c",
   "metadata": {
    "papermill": {
     "duration": 0.005979,
     "end_time": "2022-07-19T20:38:20.865287",
     "exception": false,
     "start_time": "2022-07-19T20:38:20.859308",
     "status": "completed"
    },
    "tags": []
   },
   "source": [
    "### **Q1: How has the average salary of data science jobs change over time?**"
   ]
  },
  {
   "cell_type": "code",
   "execution_count": 6,
   "id": "6e14327c",
   "metadata": {
    "execution": {
     "iopub.execute_input": "2022-07-19T20:38:20.880438Z",
     "iopub.status.busy": "2022-07-19T20:38:20.880010Z",
     "iopub.status.idle": "2022-07-19T20:38:21.102701Z",
     "shell.execute_reply": "2022-07-19T20:38:21.101642Z"
    },
    "papermill": {
     "duration": 0.233658,
     "end_time": "2022-07-19T20:38:21.105259",
     "exception": false,
     "start_time": "2022-07-19T20:38:20.871601",
     "status": "completed"
    },
    "tags": []
   },
   "outputs": [
    {
     "data": {
      "image/png": "[encoded data removed]",
      "text/plain": [
       "<Figure size 432x288 with 1 Axes>"
      ]
     },
     "metadata": {},
     "output_type": "display_data"
    }
   ],
   "source": [
    "avg_sal_21_22=data_sal.groupby('work_year')['salary_in_usd'].mean()\n",
    "\n",
    "sns.lineplot(x=avg_sal_21_22.index, y=avg_sal_21_22.values)\n",
    "\n",
    "xticks = [2020, 2021, 2022]\n",
    "plt.xticks(xticks, xticks)\n",
    "plt.ylabel('Average Salary')\n",
    "plt.xlabel('Years')\n",
    "plt.title('Average Salary of Data Science Jobs 2021 - 2022', y=1.05);"
   ]
  },
  {
   "cell_type": "markdown",
   "id": "23cfc36f",
   "metadata": {
    "papermill": {
     "duration": 0.006625,
     "end_time": "2022-07-19T20:38:21.119121",
     "exception": false,
     "start_time": "2022-07-19T20:38:21.112496",
     "status": "completed"
    },
    "tags": []
   },
   "source": [
    "The average salaries increased from approximately USD96000 in 2020 to USD100000 in 2021 and finally USD125000 in 2022. This shows a positive trend and shows that data science jobs are becoming more valuable as the years pass."
   ]
  },
  {
   "cell_type": "markdown",
   "id": "24937614",
   "metadata": {
    "papermill": {
     "duration": 0.006792,
     "end_time": "2022-07-19T20:38:21.133415",
     "exception": false,
     "start_time": "2022-07-19T20:38:21.126623",
     "status": "completed"
    },
    "tags": []
   },
   "source": [
    "### **Q2: What are the salaries of Data Science jobs based on experience level?**"
   ]
  },
  {
   "cell_type": "code",
   "execution_count": 7,
   "id": "d5edfcf4",
   "metadata": {
    "execution": {
     "iopub.execute_input": "2022-07-19T20:38:21.149998Z",
     "iopub.status.busy": "2022-07-19T20:38:21.149114Z",
     "iopub.status.idle": "2022-07-19T20:38:21.331039Z",
     "shell.execute_reply": "2022-07-19T20:38:21.330231Z"
    },
    "papermill": {
     "duration": 0.192864,
     "end_time": "2022-07-19T20:38:21.333526",
     "exception": false,
     "start_time": "2022-07-19T20:38:21.140662",
     "status": "completed"
    },
    "tags": []
   },
   "outputs": [
    {
     "data": {
      "image/png": "[encoded data removed]",
      "text/plain": [
       "<Figure size 432x288 with 1 Axes>"
      ]
     },
     "metadata": {},
     "output_type": "display_data"
    }
   ],
   "source": [
    "avg_sal_per_exp=data_sal.groupby('experience_level').mean()['salary_in_usd']\n",
    "plt.bar(avg_sal_per_exp.index, avg_sal_per_exp.values)\n",
    "xticks = ['Entry Level', 'Expert', 'Mid-Level', 'Senior Engineer']\n",
    "xticks_loc = range(len(xticks))\n",
    "plt.xticks(xticks_loc, xticks)\n",
    "plt.ylabel('Average Salary')\n",
    "plt.xlabel('Experience Level')\n",
    "plt.title('Average Salary of Data Science jobs based on Experience Level', y=1.05);"
   ]
  },
  {
   "cell_type": "markdown",
   "id": "5738b15b",
   "metadata": {
    "papermill": {
     "duration": 0.006803,
     "end_time": "2022-07-19T20:38:21.347684",
     "exception": false,
     "start_time": "2022-07-19T20:38:21.340881",
     "status": "completed"
    },
    "tags": []
   },
   "source": [
    "The entry level data science jobs have much lower average salaries than the Expert levels job."
   ]
  },
  {
   "cell_type": "markdown",
   "id": "78940a6b",
   "metadata": {
    "papermill": {
     "duration": 0.006754,
     "end_time": "2022-07-19T20:38:21.361576",
     "exception": false,
     "start_time": "2022-07-19T20:38:21.354822",
     "status": "completed"
    },
    "tags": []
   },
   "source": [
    "### **Q3: Do Data scientist who work full time earn more than others?**"
   ]
  },
  {
   "cell_type": "code",
   "execution_count": 8,
   "id": "9ed99d7e",
   "metadata": {
    "execution": {
     "iopub.execute_input": "2022-07-19T20:38:21.377865Z",
     "iopub.status.busy": "2022-07-19T20:38:21.377216Z",
     "iopub.status.idle": "2022-07-19T20:38:21.551023Z",
     "shell.execute_reply": "2022-07-19T20:38:21.550205Z"
    },
    "papermill": {
     "duration": 0.184587,
     "end_time": "2022-07-19T20:38:21.553215",
     "exception": false,
     "start_time": "2022-07-19T20:38:21.368628",
     "status": "completed"
    },
    "tags": []
   },
   "outputs": [
    {
     "data": {
      "image/png": "[encoded data removed]",
      "text/plain": [
       "<Figure size 432x288 with 1 Axes>"
      ]
     },
     "metadata": {},
     "output_type": "display_data"
    }
   ],
   "source": [
    "avg_sal_per_emp=data_sal.groupby('employment_type').mean()['salary_in_usd']\n",
    "plt.bar(avg_sal_per_emp.index, avg_sal_per_emp.values)\n",
    "xticks = ['Contract', 'Freelance', 'Full time', 'Part time']\n",
    "xticks_loc = range(len(xticks))\n",
    "plt.xticks(xticks_loc, xticks)\n",
    "plt.ylabel('Average Salary')\n",
    "plt.xlabel('Employment type')\n",
    "plt.title('Average Salary of Data Scientists per Employment type', y=1.05);"
   ]
  },
  {
   "cell_type": "markdown",
   "id": "ac368bd8",
   "metadata": {
    "papermill": {
     "duration": 0.007354,
     "end_time": "2022-07-19T20:38:21.568101",
     "exception": false,
     "start_time": "2022-07-19T20:38:21.560747",
     "status": "completed"
    },
    "tags": []
   },
   "source": [
    "Though Data science jobs that are `full time based` have a higher average salary than the ones that are `part time` or `freelance`, the data science jobs that are `contract based` have the highest average salary."
   ]
  },
  {
   "cell_type": "markdown",
   "id": "417bc8f6",
   "metadata": {
    "papermill": {
     "duration": 0.007507,
     "end_time": "2022-07-19T20:38:21.583271",
     "exception": false,
     "start_time": "2022-07-19T20:38:21.575764",
     "status": "completed"
    },
    "tags": []
   },
   "source": [
    "### **Q4: Does working in a larger company guarantee higher salary?**"
   ]
  },
  {
   "cell_type": "code",
   "execution_count": 9,
   "id": "67e9edd5",
   "metadata": {
    "execution": {
     "iopub.execute_input": "2022-07-19T20:38:21.600929Z",
     "iopub.status.busy": "2022-07-19T20:38:21.600192Z",
     "iopub.status.idle": "2022-07-19T20:38:21.773169Z",
     "shell.execute_reply": "2022-07-19T20:38:21.771941Z"
    },
    "papermill": {
     "duration": 0.184845,
     "end_time": "2022-07-19T20:38:21.775773",
     "exception": false,
     "start_time": "2022-07-19T20:38:21.590928",
     "status": "completed"
    },
    "tags": []
   },
   "outputs": [
    {
     "data": {
      "image/png": "[encoded data removed]",
      "text/plain": [
       "<Figure size 360x576 with 1 Axes>"
      ]
     },
     "metadata": {},
     "output_type": "display_data"
    }
   ],
   "source": [
    "avg_sal_per_comp_size=data_sal.groupby('company_size').mean()['salary_in_usd']\n",
    "plt.figure(figsize=(5,8))\n",
    "plt.bar(avg_sal_per_comp_size.index, avg_sal_per_comp_size.values)\n",
    "plt.xlabel('Company size')\n",
    "plt.ylabel('Average Salary(USD)')\n",
    "xticks = ['Large', 'Medium', 'Small']\n",
    "plt.xticks(range(len(xticks)), xticks)\n",
    "plt.title('Average Salary of Data Science jobs based on company size', y=1.01);"
   ]
  },
  {
   "cell_type": "markdown",
   "id": "b1908d4b",
   "metadata": {
    "papermill": {
     "duration": 0.008516,
     "end_time": "2022-07-19T20:38:21.792709",
     "exception": false,
     "start_time": "2022-07-19T20:38:21.784193",
     "status": "completed"
    },
    "tags": []
   },
   "source": [
    "Data science jobs in larger sized company have a higher average salary than medium sized and small companies.\n",
    "This does not necessarily imply that larger companies will always guarantee a higher salary on average. For example, within the company there will be varying levels of expertise and hence differing salary."
   ]
  },
  {
   "cell_type": "code",
   "execution_count": 10,
   "id": "860874ca",
   "metadata": {
    "execution": {
     "iopub.execute_input": "2022-07-19T20:38:21.812186Z",
     "iopub.status.busy": "2022-07-19T20:38:21.811409Z",
     "iopub.status.idle": "2022-07-19T20:38:22.290039Z",
     "shell.execute_reply": "2022-07-19T20:38:22.289190Z"
    },
    "papermill": {
     "duration": 0.490944,
     "end_time": "2022-07-19T20:38:22.292412",
     "exception": false,
     "start_time": "2022-07-19T20:38:21.801468",
     "status": "completed"
    },
    "tags": []
   },
   "outputs": [
    {
     "data": {
      "image/png": "[encoded data removed]",
      "text/plain": [
       "<Figure size 432x288 with 1 Axes>"
      ]
     },
     "metadata": {},
     "output_type": "display_data"
    }
   ],
   "source": [
    "sns.barplot(x='company_size', y='salary_in_usd', data=data_sal, hue='experience_level', ci=0)\n",
    "plt.legend(loc=(1, .5))\n",
    "plt.xlabel('Company size')\n",
    "plt.ylabel('Salary(USD)')\n",
    "xticks = ['Large', 'Small','Medium']\n",
    "plt.xticks(range(len(xticks)), xticks)\n",
    "plt.title('Average Salary of Data Science jobs based on company size', y=1.01);"
   ]
  },
  {
   "cell_type": "markdown",
   "id": "245c93a7",
   "metadata": {
    "papermill": {
     "duration": 0.008056,
     "end_time": "2022-07-19T20:38:22.308878",
     "exception": false,
     "start_time": "2022-07-19T20:38:22.300822",
     "status": "completed"
    },
    "tags": []
   },
   "source": [
    "Exploring further shows that the data science jobs salary in larger companies for different level of expertise is higher compared to that of the medium and smaller sized companies. "
   ]
  },
  {
   "cell_type": "markdown",
   "id": "2f91e577",
   "metadata": {
    "papermill": {
     "duration": 0.007843,
     "end_time": "2022-07-19T20:38:22.325015",
     "exception": false,
     "start_time": "2022-07-19T20:38:22.317172",
     "status": "completed"
    },
    "tags": []
   },
   "source": [
    "## Wrangling"
   ]
  },
  {
   "cell_type": "code",
   "execution_count": 11,
   "id": "1b92d3ff",
   "metadata": {
    "execution": {
     "iopub.execute_input": "2022-07-19T20:38:22.343847Z",
     "iopub.status.busy": "2022-07-19T20:38:22.343088Z",
     "iopub.status.idle": "2022-07-19T20:38:22.350024Z",
     "shell.execute_reply": "2022-07-19T20:38:22.349209Z"
    },
    "papermill": {
     "duration": 0.018987,
     "end_time": "2022-07-19T20:38:22.352343",
     "exception": false,
     "start_time": "2022-07-19T20:38:22.333356",
     "status": "completed"
    },
    "tags": []
   },
   "outputs": [],
   "source": [
    "num_cols = ['work_year', 'salary_in_usd', 'remote_ratio']\n",
    "cat_cols = ['experience_level', 'employment_type', 'job_title', 'employee_residence', 'company_location', 'company_size']\n",
    "\n",
    "data_salary_num = data_sal[num_cols]\n",
    "data_salary_cat = data_sal[cat_cols]"
   ]
  },
  {
   "cell_type": "code",
   "execution_count": 12,
   "id": "a2b24034",
   "metadata": {
    "execution": {
     "iopub.execute_input": "2022-07-19T20:38:22.370926Z",
     "iopub.status.busy": "2022-07-19T20:38:22.370141Z",
     "iopub.status.idle": "2022-07-19T20:38:22.394099Z",
     "shell.execute_reply": "2022-07-19T20:38:22.392977Z"
    },
    "papermill": {
     "duration": 0.035961,
     "end_time": "2022-07-19T20:38:22.396459",
     "exception": false,
     "start_time": "2022-07-19T20:38:22.360498",
     "status": "completed"
    },
    "tags": []
   },
   "outputs": [
    {
     "data": {
      "text/html": [
       "<div>\n",
       "<style scoped>\n",
       "    .dataframe tbody tr th:only-of-type {\n",
       "        vertical-align: middle;\n",
       "    }\n",
       "\n",
       "    .dataframe tbody tr th {\n",
       "        vertical-align: top;\n",
       "    }\n",
       "\n",
       "    .dataframe thead th {\n",
       "        text-align: right;\n",
       "    }\n",
       "</style>\n",
       "<table border=\"1\" class=\"dataframe\">\n",
       "  <thead>\n",
       "    <tr style=\"text-align: right;\">\n",
       "      <th></th>\n",
       "      <th>experience_level_EX</th>\n",
       "      <th>experience_level_MI</th>\n",
       "      <th>experience_level_SE</th>\n",
       "      <th>employment_type_FL</th>\n",
       "      <th>employment_type_FT</th>\n",
       "      <th>employment_type_PT</th>\n",
       "      <th>job_title_AI Scientist</th>\n",
       "      <th>job_title_Analytics Engineer</th>\n",
       "      <th>job_title_Applied Data Scientist</th>\n",
       "      <th>job_title_Applied Machine Learning Scientist</th>\n",
       "      <th>...</th>\n",
       "      <th>company_location_RO</th>\n",
       "      <th>company_location_RU</th>\n",
       "      <th>company_location_SG</th>\n",
       "      <th>company_location_SI</th>\n",
       "      <th>company_location_TR</th>\n",
       "      <th>company_location_UA</th>\n",
       "      <th>company_location_US</th>\n",
       "      <th>company_location_VN</th>\n",
       "      <th>company_size_M</th>\n",
       "      <th>company_size_S</th>\n",
       "    </tr>\n",
       "  </thead>\n",
       "  <tbody>\n",
       "    <tr>\n",
       "      <th>0</th>\n",
       "      <td>0</td>\n",
       "      <td>1</td>\n",
       "      <td>0</td>\n",
       "      <td>0</td>\n",
       "      <td>1</td>\n",
       "      <td>0</td>\n",
       "      <td>0</td>\n",
       "      <td>0</td>\n",
       "      <td>0</td>\n",
       "      <td>0</td>\n",
       "      <td>...</td>\n",
       "      <td>0</td>\n",
       "      <td>0</td>\n",
       "      <td>0</td>\n",
       "      <td>0</td>\n",
       "      <td>0</td>\n",
       "      <td>0</td>\n",
       "      <td>0</td>\n",
       "      <td>0</td>\n",
       "      <td>0</td>\n",
       "      <td>0</td>\n",
       "    </tr>\n",
       "    <tr>\n",
       "      <th>1</th>\n",
       "      <td>0</td>\n",
       "      <td>0</td>\n",
       "      <td>1</td>\n",
       "      <td>0</td>\n",
       "      <td>1</td>\n",
       "      <td>0</td>\n",
       "      <td>0</td>\n",
       "      <td>0</td>\n",
       "      <td>0</td>\n",
       "      <td>0</td>\n",
       "      <td>...</td>\n",
       "      <td>0</td>\n",
       "      <td>0</td>\n",
       "      <td>0</td>\n",
       "      <td>0</td>\n",
       "      <td>0</td>\n",
       "      <td>0</td>\n",
       "      <td>0</td>\n",
       "      <td>0</td>\n",
       "      <td>0</td>\n",
       "      <td>1</td>\n",
       "    </tr>\n",
       "    <tr>\n",
       "      <th>2</th>\n",
       "      <td>0</td>\n",
       "      <td>0</td>\n",
       "      <td>1</td>\n",
       "      <td>0</td>\n",
       "      <td>1</td>\n",
       "      <td>0</td>\n",
       "      <td>0</td>\n",
       "      <td>0</td>\n",
       "      <td>0</td>\n",
       "      <td>0</td>\n",
       "      <td>...</td>\n",
       "      <td>0</td>\n",
       "      <td>0</td>\n",
       "      <td>0</td>\n",
       "      <td>0</td>\n",
       "      <td>0</td>\n",
       "      <td>0</td>\n",
       "      <td>0</td>\n",
       "      <td>0</td>\n",
       "      <td>1</td>\n",
       "      <td>0</td>\n",
       "    </tr>\n",
       "    <tr>\n",
       "      <th>3</th>\n",
       "      <td>0</td>\n",
       "      <td>1</td>\n",
       "      <td>0</td>\n",
       "      <td>0</td>\n",
       "      <td>1</td>\n",
       "      <td>0</td>\n",
       "      <td>0</td>\n",
       "      <td>0</td>\n",
       "      <td>0</td>\n",
       "      <td>0</td>\n",
       "      <td>...</td>\n",
       "      <td>0</td>\n",
       "      <td>0</td>\n",
       "      <td>0</td>\n",
       "      <td>0</td>\n",
       "      <td>0</td>\n",
       "      <td>0</td>\n",
       "      <td>0</td>\n",
       "      <td>0</td>\n",
       "      <td>0</td>\n",
       "      <td>1</td>\n",
       "    </tr>\n",
       "    <tr>\n",
       "      <th>4</th>\n",
       "      <td>0</td>\n",
       "      <td>0</td>\n",
       "      <td>1</td>\n",
       "      <td>0</td>\n",
       "      <td>1</td>\n",
       "      <td>0</td>\n",
       "      <td>0</td>\n",
       "      <td>0</td>\n",
       "      <td>0</td>\n",
       "      <td>0</td>\n",
       "      <td>...</td>\n",
       "      <td>0</td>\n",
       "      <td>0</td>\n",
       "      <td>0</td>\n",
       "      <td>0</td>\n",
       "      <td>0</td>\n",
       "      <td>0</td>\n",
       "      <td>1</td>\n",
       "      <td>0</td>\n",
       "      <td>0</td>\n",
       "      <td>0</td>\n",
       "    </tr>\n",
       "  </tbody>\n",
       "</table>\n",
       "<p>5 rows × 162 columns</p>\n",
       "</div>"
      ],
      "text/plain": [
       "   experience_level_EX  experience_level_MI  experience_level_SE  \\\n",
       "0                    0                    1                    0   \n",
       "1                    0                    0                    1   \n",
       "2                    0                    0                    1   \n",
       "3                    0                    1                    0   \n",
       "4                    0                    0                    1   \n",
       "\n",
       "   employment_type_FL  employment_type_FT  employment_type_PT  \\\n",
       "0                   0                   1                   0   \n",
       "1                   0                   1                   0   \n",
       "2                   0                   1                   0   \n",
       "3                   0                   1                   0   \n",
       "4                   0                   1                   0   \n",
       "\n",
       "   job_title_AI Scientist  job_title_Analytics Engineer  \\\n",
       "0                       0                             0   \n",
       "1                       0                             0   \n",
       "2                       0                             0   \n",
       "3                       0                             0   \n",
       "4                       0                             0   \n",
       "\n",
       "   job_title_Applied Data Scientist  \\\n",
       "0                                 0   \n",
       "1                                 0   \n",
       "2                                 0   \n",
       "3                                 0   \n",
       "4                                 0   \n",
       "\n",
       "   job_title_Applied Machine Learning Scientist  ...  company_location_RO  \\\n",
       "0                                             0  ...                    0   \n",
       "1                                             0  ...                    0   \n",
       "2                                             0  ...                    0   \n",
       "3                                             0  ...                    0   \n",
       "4                                             0  ...                    0   \n",
       "\n",
       "   company_location_RU  company_location_SG  company_location_SI  \\\n",
       "0                    0                    0                    0   \n",
       "1                    0                    0                    0   \n",
       "2                    0                    0                    0   \n",
       "3                    0                    0                    0   \n",
       "4                    0                    0                    0   \n",
       "\n",
       "   company_location_TR  company_location_UA  company_location_US  \\\n",
       "0                    0                    0                    0   \n",
       "1                    0                    0                    0   \n",
       "2                    0                    0                    0   \n",
       "3                    0                    0                    0   \n",
       "4                    0                    0                    1   \n",
       "\n",
       "   company_location_VN  company_size_M  company_size_S  \n",
       "0                    0               0               0  \n",
       "1                    0               0               1  \n",
       "2                    0               1               0  \n",
       "3                    0               0               1  \n",
       "4                    0               0               0  \n",
       "\n",
       "[5 rows x 162 columns]"
      ]
     },
     "execution_count": 12,
     "metadata": {},
     "output_type": "execute_result"
    }
   ],
   "source": [
    "data_salary_cat_dummy = pd.get_dummies(data_salary_cat, drop_first=True)\n",
    "data_salary_cat_dummy.head()"
   ]
  },
  {
   "cell_type": "code",
   "execution_count": 13,
   "id": "2ff9272a",
   "metadata": {
    "execution": {
     "iopub.execute_input": "2022-07-19T20:38:22.415808Z",
     "iopub.status.busy": "2022-07-19T20:38:22.415047Z",
     "iopub.status.idle": "2022-07-19T20:38:22.436028Z",
     "shell.execute_reply": "2022-07-19T20:38:22.434774Z"
    },
    "papermill": {
     "duration": 0.034146,
     "end_time": "2022-07-19T20:38:22.439114",
     "exception": false,
     "start_time": "2022-07-19T20:38:22.404968",
     "status": "completed"
    },
    "tags": []
   },
   "outputs": [
    {
     "data": {
      "text/html": [
       "<div>\n",
       "<style scoped>\n",
       "    .dataframe tbody tr th:only-of-type {\n",
       "        vertical-align: middle;\n",
       "    }\n",
       "\n",
       "    .dataframe tbody tr th {\n",
       "        vertical-align: top;\n",
       "    }\n",
       "\n",
       "    .dataframe thead th {\n",
       "        text-align: right;\n",
       "    }\n",
       "</style>\n",
       "<table border=\"1\" class=\"dataframe\">\n",
       "  <thead>\n",
       "    <tr style=\"text-align: right;\">\n",
       "      <th></th>\n",
       "      <th>work_year</th>\n",
       "      <th>salary_in_usd</th>\n",
       "      <th>remote_ratio</th>\n",
       "      <th>experience_level_EX</th>\n",
       "      <th>experience_level_MI</th>\n",
       "      <th>experience_level_SE</th>\n",
       "      <th>employment_type_FL</th>\n",
       "      <th>employment_type_FT</th>\n",
       "      <th>employment_type_PT</th>\n",
       "      <th>job_title_AI Scientist</th>\n",
       "      <th>...</th>\n",
       "      <th>company_location_RO</th>\n",
       "      <th>company_location_RU</th>\n",
       "      <th>company_location_SG</th>\n",
       "      <th>company_location_SI</th>\n",
       "      <th>company_location_TR</th>\n",
       "      <th>company_location_UA</th>\n",
       "      <th>company_location_US</th>\n",
       "      <th>company_location_VN</th>\n",
       "      <th>company_size_M</th>\n",
       "      <th>company_size_S</th>\n",
       "    </tr>\n",
       "  </thead>\n",
       "  <tbody>\n",
       "    <tr>\n",
       "      <th>0</th>\n",
       "      <td>2020</td>\n",
       "      <td>79833</td>\n",
       "      <td>0</td>\n",
       "      <td>0</td>\n",
       "      <td>1</td>\n",
       "      <td>0</td>\n",
       "      <td>0</td>\n",
       "      <td>1</td>\n",
       "      <td>0</td>\n",
       "      <td>0</td>\n",
       "      <td>...</td>\n",
       "      <td>0</td>\n",
       "      <td>0</td>\n",
       "      <td>0</td>\n",
       "      <td>0</td>\n",
       "      <td>0</td>\n",
       "      <td>0</td>\n",
       "      <td>0</td>\n",
       "      <td>0</td>\n",
       "      <td>0</td>\n",
       "      <td>0</td>\n",
       "    </tr>\n",
       "    <tr>\n",
       "      <th>1</th>\n",
       "      <td>2020</td>\n",
       "      <td>260000</td>\n",
       "      <td>0</td>\n",
       "      <td>0</td>\n",
       "      <td>0</td>\n",
       "      <td>1</td>\n",
       "      <td>0</td>\n",
       "      <td>1</td>\n",
       "      <td>0</td>\n",
       "      <td>0</td>\n",
       "      <td>...</td>\n",
       "      <td>0</td>\n",
       "      <td>0</td>\n",
       "      <td>0</td>\n",
       "      <td>0</td>\n",
       "      <td>0</td>\n",
       "      <td>0</td>\n",
       "      <td>0</td>\n",
       "      <td>0</td>\n",
       "      <td>0</td>\n",
       "      <td>1</td>\n",
       "    </tr>\n",
       "    <tr>\n",
       "      <th>2</th>\n",
       "      <td>2020</td>\n",
       "      <td>109024</td>\n",
       "      <td>50</td>\n",
       "      <td>0</td>\n",
       "      <td>0</td>\n",
       "      <td>1</td>\n",
       "      <td>0</td>\n",
       "      <td>1</td>\n",
       "      <td>0</td>\n",
       "      <td>0</td>\n",
       "      <td>...</td>\n",
       "      <td>0</td>\n",
       "      <td>0</td>\n",
       "      <td>0</td>\n",
       "      <td>0</td>\n",
       "      <td>0</td>\n",
       "      <td>0</td>\n",
       "      <td>0</td>\n",
       "      <td>0</td>\n",
       "      <td>1</td>\n",
       "      <td>0</td>\n",
       "    </tr>\n",
       "    <tr>\n",
       "      <th>3</th>\n",
       "      <td>2020</td>\n",
       "      <td>20000</td>\n",
       "      <td>0</td>\n",
       "      <td>0</td>\n",
       "      <td>1</td>\n",
       "      <td>0</td>\n",
       "      <td>0</td>\n",
       "      <td>1</td>\n",
       "      <td>0</td>\n",
       "      <td>0</td>\n",
       "      <td>...</td>\n",
       "      <td>0</td>\n",
       "      <td>0</td>\n",
       "      <td>0</td>\n",
       "      <td>0</td>\n",
       "      <td>0</td>\n",
       "      <td>0</td>\n",
       "      <td>0</td>\n",
       "      <td>0</td>\n",
       "      <td>0</td>\n",
       "      <td>1</td>\n",
       "    </tr>\n",
       "    <tr>\n",
       "      <th>4</th>\n",
       "      <td>2020</td>\n",
       "      <td>150000</td>\n",
       "      <td>50</td>\n",
       "      <td>0</td>\n",
       "      <td>0</td>\n",
       "      <td>1</td>\n",
       "      <td>0</td>\n",
       "      <td>1</td>\n",
       "      <td>0</td>\n",
       "      <td>0</td>\n",
       "      <td>...</td>\n",
       "      <td>0</td>\n",
       "      <td>0</td>\n",
       "      <td>0</td>\n",
       "      <td>0</td>\n",
       "      <td>0</td>\n",
       "      <td>0</td>\n",
       "      <td>1</td>\n",
       "      <td>0</td>\n",
       "      <td>0</td>\n",
       "      <td>0</td>\n",
       "    </tr>\n",
       "  </tbody>\n",
       "</table>\n",
       "<p>5 rows × 165 columns</p>\n",
       "</div>"
      ],
      "text/plain": [
       "   work_year  salary_in_usd  remote_ratio  experience_level_EX  \\\n",
       "0       2020          79833             0                    0   \n",
       "1       2020         260000             0                    0   \n",
       "2       2020         109024            50                    0   \n",
       "3       2020          20000             0                    0   \n",
       "4       2020         150000            50                    0   \n",
       "\n",
       "   experience_level_MI  experience_level_SE  employment_type_FL  \\\n",
       "0                    1                    0                   0   \n",
       "1                    0                    1                   0   \n",
       "2                    0                    1                   0   \n",
       "3                    1                    0                   0   \n",
       "4                    0                    1                   0   \n",
       "\n",
       "   employment_type_FT  employment_type_PT  job_title_AI Scientist  ...  \\\n",
       "0                   1                   0                       0  ...   \n",
       "1                   1                   0                       0  ...   \n",
       "2                   1                   0                       0  ...   \n",
       "3                   1                   0                       0  ...   \n",
       "4                   1                   0                       0  ...   \n",
       "\n",
       "   company_location_RO  company_location_RU  company_location_SG  \\\n",
       "0                    0                    0                    0   \n",
       "1                    0                    0                    0   \n",
       "2                    0                    0                    0   \n",
       "3                    0                    0                    0   \n",
       "4                    0                    0                    0   \n",
       "\n",
       "   company_location_SI  company_location_TR  company_location_UA  \\\n",
       "0                    0                    0                    0   \n",
       "1                    0                    0                    0   \n",
       "2                    0                    0                    0   \n",
       "3                    0                    0                    0   \n",
       "4                    0                    0                    0   \n",
       "\n",
       "   company_location_US  company_location_VN  company_size_M  company_size_S  \n",
       "0                    0                    0               0               0  \n",
       "1                    0                    0               0               1  \n",
       "2                    0                    0               1               0  \n",
       "3                    0                    0               0               1  \n",
       "4                    1                    0               0               0  \n",
       "\n",
       "[5 rows x 165 columns]"
      ]
     },
     "execution_count": 13,
     "metadata": {},
     "output_type": "execute_result"
    }
   ],
   "source": [
    "data_sal_clean = pd.merge(data_salary_num, data_salary_cat_dummy, right_index=True, left_index=True)\n",
    "data_sal_clean.head()"
   ]
  },
  {
   "cell_type": "code",
   "execution_count": 14,
   "id": "77c69465",
   "metadata": {
    "execution": {
     "iopub.execute_input": "2022-07-19T20:38:22.459193Z",
     "iopub.status.busy": "2022-07-19T20:38:22.458436Z",
     "iopub.status.idle": "2022-07-19T20:38:22.467560Z",
     "shell.execute_reply": "2022-07-19T20:38:22.466565Z"
    },
    "papermill": {
     "duration": 0.021889,
     "end_time": "2022-07-19T20:38:22.469952",
     "exception": false,
     "start_time": "2022-07-19T20:38:22.448063",
     "status": "completed"
    },
    "tags": []
   },
   "outputs": [],
   "source": [
    "X = data_sal_clean.drop(['salary_in_usd'], axis=1)\n",
    "y= data_sal_clean['salary_in_usd']\n",
    "\n",
    "X_train, X_test, y_train, y_test = train_test_split(X, y, random_state=42, test_size=0.3)"
   ]
  },
  {
   "cell_type": "markdown",
   "id": "9a569165",
   "metadata": {
    "execution": {
     "iopub.execute_input": "2022-07-19T20:15:21.046265Z",
     "iopub.status.busy": "2022-07-19T20:15:21.045840Z",
     "iopub.status.idle": "2022-07-19T20:15:21.085233Z",
     "shell.execute_reply": "2022-07-19T20:15:21.083681Z",
     "shell.execute_reply.started": "2022-07-19T20:15:21.046220Z"
    },
    "papermill": {
     "duration": 0.008678,
     "end_time": "2022-07-19T20:38:22.487447",
     "exception": false,
     "start_time": "2022-07-19T20:38:22.478769",
     "status": "completed"
    },
    "tags": []
   },
   "source": [
    "### **Q5: How well can we predict a data science job salary?**"
   ]
  },
  {
   "cell_type": "code",
   "execution_count": 15,
   "id": "185a9dfb",
   "metadata": {
    "execution": {
     "iopub.execute_input": "2022-07-19T20:38:22.507304Z",
     "iopub.status.busy": "2022-07-19T20:38:22.506555Z",
     "iopub.status.idle": "2022-07-19T20:38:22.581486Z",
     "shell.execute_reply": "2022-07-19T20:38:22.579750Z"
    },
    "papermill": {
     "duration": 0.087708,
     "end_time": "2022-07-19T20:38:22.584028",
     "exception": false,
     "start_time": "2022-07-19T20:38:22.496320",
     "status": "completed"
    },
    "tags": []
   },
   "outputs": [
    {
     "data": {
      "text/plain": [
       "RandomForestRegressor(n_estimators=20, random_state=42)"
      ]
     },
     "execution_count": 15,
     "metadata": {},
     "output_type": "execute_result"
    }
   ],
   "source": [
    "model = RandomForestRegressor(n_estimators=20, random_state=42)\n",
    "model.fit(X_train, y_train)"
   ]
  },
  {
   "cell_type": "code",
   "execution_count": 16,
   "id": "a46d68d9",
   "metadata": {
    "execution": {
     "iopub.execute_input": "2022-07-19T20:38:22.604838Z",
     "iopub.status.busy": "2022-07-19T20:38:22.604459Z",
     "iopub.status.idle": "2022-07-19T20:38:22.623011Z",
     "shell.execute_reply": "2022-07-19T20:38:22.621861Z"
    },
    "papermill": {
     "duration": 0.032169,
     "end_time": "2022-07-19T20:38:22.625551",
     "exception": false,
     "start_time": "2022-07-19T20:38:22.593382",
     "status": "completed"
    },
    "tags": []
   },
   "outputs": [],
   "source": [
    "y_train_preds=model.predict(X_train)\n",
    "y_test_preds = model.predict(X_test)"
   ]
  },
  {
   "cell_type": "code",
   "execution_count": 17,
   "id": "595c53b4",
   "metadata": {
    "execution": {
     "iopub.execute_input": "2022-07-19T20:38:22.645866Z",
     "iopub.status.busy": "2022-07-19T20:38:22.645502Z",
     "iopub.status.idle": "2022-07-19T20:38:22.653389Z",
     "shell.execute_reply": "2022-07-19T20:38:22.651888Z"
    },
    "papermill": {
     "duration": 0.021593,
     "end_time": "2022-07-19T20:38:22.656350",
     "exception": false,
     "start_time": "2022-07-19T20:38:22.634757",
     "status": "completed"
    },
    "tags": []
   },
   "outputs": [
    {
     "name": "stdout",
     "output_type": "stream",
     "text": [
      "Train r2: 0.828183967773426\n",
      "Test r2: 0.44166753274048653\n"
     ]
    }
   ],
   "source": [
    "print('Train r2:',r2_score(y_train, y_train_preds))\n",
    "print('Test r2:', r2_score(y_test, y_test_preds))"
   ]
  },
  {
   "cell_type": "markdown",
   "id": "3346f418",
   "metadata": {
    "papermill": {
     "duration": 0.009758,
     "end_time": "2022-07-19T20:38:22.676311",
     "exception": false,
     "start_time": "2022-07-19T20:38:22.666553",
     "status": "completed"
    },
    "tags": []
   },
   "source": [
    "This model prediction on the dataset set is not very good. Seeing as the model performs much better on the training data than the test data, this is a clear case of overfitting."
   ]
  }
 ],
 "metadata": {
  "kernelspec": {
   "display_name": "Python 3",
   "language": "python",
   "name": "python3"
  },
  "language_info": {
   "codemirror_mode": {
    "name": "ipython",
    "version": 3
   },
   "file_extension": ".py",
   "mimetype": "text/x-python",
   "name": "python",
   "nbconvert_exporter": "python",
   "pygments_lexer": "ipython3",
   "version": "3.7.12"
  },
  "papermill": {
   "default_parameters": {},
   "duration": 13.330538,
   "end_time": "2022-07-19T20:38:23.408456",
   "environment_variables": {},
   "exception": null,
   "input_path": "__notebook__.ipynb",
   "output_path": "__notebook__.ipynb",
   "parameters": {},
   "start_time": "2022-07-19T20:38:10.077918",
   "version": "2.3.4"
  }
 },
 "nbformat": 4,
 "nbformat_minor": 5
}
